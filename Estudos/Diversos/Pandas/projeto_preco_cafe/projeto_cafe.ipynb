{
 "cells": [
  {
   "cell_type": "markdown",
   "metadata": {},
   "source": [
    "# Prejeto para Prever o Prço do Café, dadas as condições Climaticas de um lugar.\n",
    "\n",
    "Sabemos que o preço do café possue muitas variaveis, porem, afim de simplificar os estudos, vamos tentar correlacionar o preco dos cafes as condições metereologicas.\n",
    "\n",
    "Sabemos que o clima tem um impacto direto no preco do cafe, mas n o clima na data da venda e sim meses antes durante o cultivo. Pra isso vamos precisar estudar o ciclo do cafe e verificar quais o meses mais interferem na produtividade do cafe.\n",
    "\n",
    "O brasil é um dos maiores produtores de café, e como pais continental que somos, varias regioes com climas diferentes produzem cafe de forma diferente. Logo vamos Adotar a hipotese de que o Estado do ES (Maior produtor de cafe), contribui diretamente para o preco nacional.\n",
    "\n",
    "Os dados de clima e preco do cafe foram retirados de (respectivamente):\n",
    "\n",
    "https://portal.inmet.gov.br/\n",
    "\n",
    "https://www.cepea.esalq.usp.br/"
   ]
  },
  {
   "cell_type": "code",
   "execution_count": 25,
   "metadata": {},
   "outputs": [
    {
     "name": "stdout",
     "output_type": "stream",
     "text": [
      "['DATA (YYYY-MM-DD)' 'HORA (UTC)' 'PRECIPITAÇÃO TOTAL, HORÁRIO (mm)'\n",
      " 'PRESSAO ATMOSFERICA AO NIVEL DA ESTACAO, HORARIA (mB)'\n",
      " 'PRESSÃO ATMOSFERICA MAX.NA HORA ANT. (AUT) (mB)'\n",
      " 'PRESSÃO ATMOSFERICA MIN. NA HORA ANT. (AUT) (mB)'\n",
      " 'RADIACAO GLOBAL (KJ/m²)' 'TEMPERATURA DO AR - BULBO SECO, HORARIA (°C)'\n",
      " 'TEMPERATURA DO PONTO DE ORVALHO (°C)'\n",
      " 'TEMPERATURA MÁXIMA NA HORA ANT. (AUT) (°C)'\n",
      " 'TEMPERATURA MÍNIMA NA HORA ANT. (AUT) (°C)'\n",
      " 'TEMPERATURA ORVALHO MAX. NA HORA ANT. (AUT) (°C)'\n",
      " 'TEMPERATURA ORVALHO MIN. NA HORA ANT. (AUT) (°C)'\n",
      " 'UMIDADE REL. MAX. NA HORA ANT. (AUT) (%)'\n",
      " 'UMIDADE REL. MIN. NA HORA ANT. (AUT) (%)'\n",
      " 'UMIDADE RELATIVA DO AR, HORARIA (%)'\n",
      " 'VENTO, DIREÇÃO HORARIA (gr) (° (gr))' 'VENTO, RAJADA MAXIMA (m/s)'\n",
      " 'VENTO, VELOCIDADE HORARIA (m/s)']\n"
     ]
    }
   ],
   "source": [
    "#importando as bibliotecas\n",
    "import pandas as pd\n",
    "import numpy as np\n",
    "\n",
    "teste = pd.read_csv('INMET_SE_ES_A614_LINHARES_01-01-2012_A_31-12-2012.CSV',\n",
    "                    sep=';', #separador do csv\n",
    "                    encoding = \"ISO-8859-1\" ) #esse unicod é nescessário por conta das palavras nos dados\n",
    "\n",
    "#listar os titulos das colunas\n",
    "print(teste.columns.values)\n",
    "#converter a coluna de data e horar para data e hora do pandas \n",
    "# https://pandas.pydata.org/docs/getting_started/intro_tutorials/09_timeseries.html#min-tut-09-timeseries\n"
   ]
  },
  {
   "cell_type": "code",
   "execution_count": 1,
   "metadata": {},
   "outputs": [
    {
     "ename": "NameError",
     "evalue": "name 'sc' is not defined",
     "output_type": "error",
     "traceback": [
      "\u001b[1;31m---------------------------------------------------------------------------\u001b[0m",
      "\u001b[1;31mNameError\u001b[0m                                 Traceback (most recent call last)",
      "\u001b[1;32mc:\\Users\\b_lin\\OneDrive\\Aprendizado\\Programacao\\NotbookJupyter\\Pandas\\projeto_preco_cafe\\projeto_cafe.ipynb Cell 3\u001b[0m line \u001b[0;36m1\n\u001b[1;32m----> <a href='vscode-notebook-cell:/c%3A/Users/b_lin/OneDrive/Aprendizado/Programacao/NotbookJupyter/Pandas/projeto_preco_cafe/projeto_cafe.ipynb#W2sZmlsZQ%3D%3D?line=0'>1</a>\u001b[0m numeros \u001b[39m=\u001b[39m sc\u001b[39m.\u001b[39mparallelize([\u001b[39m1\u001b[39m,\u001b[39m2\u001b[39m,\u001b[39m3\u001b[39m,\u001b[39m4\u001b[39m,\u001b[39m5\u001b[39m,\u001b[39m6\u001b[39m])\n",
      "\u001b[1;31mNameError\u001b[0m: name 'sc' is not defined"
     ]
    }
   ],
   "source": []
  }
 ],
 "metadata": {
  "kernelspec": {
   "display_name": "Python 3",
   "language": "python",
   "name": "python3"
  },
  "language_info": {
   "codemirror_mode": {
    "name": "ipython",
    "version": 3
   },
   "file_extension": ".py",
   "mimetype": "text/x-python",
   "name": "python",
   "nbconvert_exporter": "python",
   "pygments_lexer": "ipython3",
   "version": "3.12.0"
  }
 },
 "nbformat": 4,
 "nbformat_minor": 2
}
