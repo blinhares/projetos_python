{
 "cells": [
  {
   "cell_type": "code",
   "execution_count": 1,
   "id": "cf5a2488-08e9-41cc-a7a2-27cd81a57084",
   "metadata": {},
   "outputs": [],
   "source": [
    "#!pip install openpyxl"
   ]
  },
  {
   "cell_type": "markdown",
   "id": "ed24cf21-ad86-4f1f-8e39-9ec8f8005adc",
   "metadata": {},
   "source": [
    "# Carregando arquivos"
   ]
  },
  {
   "cell_type": "code",
   "execution_count": 2,
   "id": "b6527d3e-f573-477a-b128-e4d4758047e4",
   "metadata": {},
   "outputs": [],
   "source": [
    "from openpyxl import load_workbook\n",
    "file_path = 'VSE-EQUIPES_macro_rev01_2.xlsm'\n",
    "wb = load_workbook(filename = file_path)"
   ]
  },
  {
   "cell_type": "markdown",
   "id": "39500a83-5162-45b1-9c8e-685d0dba12ff",
   "metadata": {},
   "source": [
    "# Listar abas da planilha \n",
    "```\n",
    "wb.sheetnames #lista nome das abas\n",
    "```\n"
   ]
  },
  {
   "cell_type": "markdown",
   "id": "13a42e2f-ca78-44f4-b259-fedfdfeacc0e",
   "metadata": {},
   "source": [
    "# Acessar uma determinada aba:\n",
    "\n",
    "```\n",
    "ws = wb['010422']\n",
    "```"
   ]
  },
  {
   "cell_type": "markdown",
   "id": "58a5b711-6e95-4763-b469-1373d01b2601",
   "metadata": {},
   "source": [
    "# Pegar Dimensões Maximas e Minimas da Planilha:\n",
    "\n",
    "```\n",
    "ws.dimensions #dimencoes da planilha\n",
    "```"
   ]
  },
  {
   "cell_type": "markdown",
   "id": "f05c6394-2472-4040-bc2e-d1bcbdba7624",
   "metadata": {},
   "source": [
    "# Acessando Celulas\n",
    "\n",
    "```\n",
    "ws['b11'].value #acessando celular\n",
    "ws.cell(row=9, column=2).value #acessando celular\n",
    "\n",
    "#as celulas tem propriedades .row e .column que mostram respectivamente o numero da linha e da coluna\n",
    "```"
   ]
  },
  {
   "cell_type": "markdown",
   "id": "f95f7c6e-689b-411e-a24c-5bacd9b65b1d",
   "metadata": {},
   "source": [
    "# Percorrendo todas as linhas da abra de acordo com as dimensões da mesma:\n",
    "```\n",
    "#percorre linha a linha toda a planilha\n",
    "for cell in ws[ws.dimensions]:\n",
    "    for item in cell:\n",
    "        print(item.value)\n",
    "```\n",
    " Onde ws.dimensions é o equivalente a um SLICE da tabela"
   ]
  },
  {
   "cell_type": "markdown",
   "id": "6da37e81-7832-4579-9041-1b921b74403c",
   "metadata": {},
   "source": [
    "# Listando todas as colunas da planilha dentro do range demensions:\n",
    "```\n",
    "tuple(ws.columns) #lista de colunas\n",
    "```\n"
   ]
  },
  {
   "cell_type": "markdown",
   "metadata": {},
   "source": [
    "# Pegar letra da coluna a partir de um numero:\n",
    "```\n",
    "from openpyxl.utils.cell import get_column_letter\n",
    "# mostrar todos os valores das colunas abaixo do nome \"Nombre\" encontrado\n",
    "print(get_column_letter(posicao[1]))\n",
    "# retorna a letra A\n",
    "\n",
    "```"
   ]
  },
  {
   "cell_type": "code",
   "execution_count": 3,
   "id": "bea081e2-287d-47c5-a1ab-4ee57911c7bf",
   "metadata": {},
   "outputs": [],
   "source": [
    "#logica...\n",
    "#01 - Pegar de cada aba que leva a informcao da data~c\"ao da data\n",
    "#02 - Buscar a coluna de nome 'Nombre', percorrer toda a coluna e salvar os nomes"
   ]
  },
  {
   "cell_type": "code",
   "execution_count": 4,
   "id": "14c3bc7f-1676-4440-b6de-55d828336a2c",
   "metadata": {},
   "outputs": [],
   "source": [
    "aba = '010422'\n",
    "#acessando a aba\n",
    "ws = wb[aba]\n"
   ]
  },
  {
   "cell_type": "code",
   "execution_count": 5,
   "metadata": {},
   "outputs": [],
   "source": [
    "def ondeEsta(ws:object,texto='NOMBRE'):\n",
    "    \"\"\"\n",
    "    Esta funcao busca pela primeira ocorrencia de um determinado texto em um objeto do tipo WorkSheet do Openpyxl.\n",
    "    Por default esse texto é a palavra 'NOMBRE'\n",
    "    \"\"\"\n",
    "    #buscar pelo valor 'Nombre' percorrendo as linhas\n",
    "    for linha in ws[ws.dimensions]:\n",
    "        for celula in linha:\n",
    "            if celula.value == texto:\n",
    "                return (celula.row, celula.column)\n",
    "                \n",
    "    \n",
    "posicao = ondeEsta(ws)\n",
    "\n",
    "\n"
   ]
  },
  {
   "cell_type": "code",
   "execution_count": 6,
   "metadata": {},
   "outputs": [
    {
     "data": {
      "text/plain": [
       "['Abmario',\n",
       " 'Adelilson da Luz',\n",
       " 'Adelmo André',\n",
       " 'Albes Lima',\n",
       " 'Alex Fco. Galvão',\n",
       " 'Alonso Mendes',\n",
       " 'Anderson Augusto',\n",
       " 'Apolinario Araripe',\n",
       " 'Carlito de Souza',\n",
       " 'Carlos Daniel Batista',\n",
       " 'Claiton da Silva Sena',\n",
       " 'Clemer Pereira Rocha',\n",
       " 'Cristovão Lima',\n",
       " 'Damião Matheus',\n",
       " 'Diego Manoel',\n",
       " 'Douglas Ribeiro',\n",
       " 'Edmar Batista',\n",
       " 'Edson Nascimento',\n",
       " 'Eduardo Andrelino',\n",
       " 'Eduardo da Cruz',\n",
       " 'Edvandio Dias',\n",
       " 'Eliesio',\n",
       " 'Emerson Elesbão',\n",
       " 'Entony Gonçalves',\n",
       " 'Erivan de Lima',\n",
       " 'Eudison Veras',\n",
       " 'Fabio Dias Marques',\n",
       " 'Fabio Henrique Soares',\n",
       " 'Fabio Luiz ',\n",
       " 'Fabricio Dias da Cruz',\n",
       " 'Fagner Amorim',\n",
       " 'Fco. Anderson Pires',\n",
       " 'Fco. Antonio De Sousa',\n",
       " 'Fco Caninde',\n",
       " 'Fco. das Chagas Gomes',\n",
       " 'Fco. José Nobrega',\n",
       " 'Fco. Simão',\n",
       " 'Gilson da Silva',\n",
       " 'Guilhermário C.',\n",
       " 'Hamilton Coelho',\n",
       " 'Hamilton Rodrigues',\n",
       " 'Herlanio',\n",
       " 'Iago Sodré ',\n",
       " 'Iury Rayan',\n",
       " 'Jackson Willlime',\n",
       " 'Jailson Dias',\n",
       " 'Jefferson Barros',\n",
       " 'Jefferson Rodrigues',\n",
       " 'João José',\n",
       " 'Jorlan Rodrigues ',\n",
       " 'José Cirilo',\n",
       " 'José Felipe',\n",
       " 'José Janilson',\n",
       " 'José Nilton Coelho',\n",
       " 'Joseildo Ferreira',\n",
       " 'Josivaldo Coelho',\n",
       " 'Josivan Lima',\n",
       " 'Jucelio dos Santos',\n",
       " 'Jucilanio Coelho',\n",
       " 'Lucimario Rodrigues',\n",
       " 'Maciel de Souza',\n",
       " 'Mailson Araújo',\n",
       " 'Marcelo Rilton',\n",
       " 'Marcelo Victor Eneas',\n",
       " 'Marcone Farias',\n",
       " 'Marcone Santos',\n",
       " 'Mario Manoel',\n",
       " 'Mateus Claudio',\n",
       " 'Mauricio Menezes',\n",
       " 'Maurivan Coelho',\n",
       " 'Moisés Amorim',\n",
       " 'Nilson dos Santos',\n",
       " 'Rafael Castro',\n",
       " 'Ray Amorim',\n",
       " 'Renan Cledson',\n",
       " 'Ricardo da Silva Rocha',\n",
       " 'Romario da Costa',\n",
       " 'Ronaldo Jose',\n",
       " 'Vagner Rodrigues',\n",
       " 'Vilson']"
      ]
     },
     "execution_count": 6,
     "metadata": {},
     "output_type": "execute_result"
    }
   ],
   "source": [
    "def coletaDadoAbaixoCelula(posicao:tuple,ws:object):\n",
    "    # Coleta os valores abaixo do nome \"Nombre\" encontrado e armazenda em lista_de_nomes\n",
    "    lista_valores = []\n",
    "    for i in range(posicao[0]+1,len(ws.row_dimensions)):\n",
    "        if (celula := ws.cell(row=i,column=posicao[1]).value) != None:\n",
    "            lista_valores.append(celula)\n",
    "    return lista_valores\n",
    "\n",
    "lista = coletaDadoAbaixoCelula(posicao,ws)\n",
    "lista\n"
   ]
  },
  {
   "cell_type": "code",
   "execution_count": 7,
   "metadata": {},
   "outputs": [
    {
     "name": "stdout",
     "output_type": "stream",
     "text": [
      "[['REPLANTEIO;Eduardo Andrelino'], ['REPLANTEIO;Carlito de Souza'], ['REPLANTEIO;Josivan Lima'], ['REPLANTEIO;Diego Manoel'], ['REPLANTEIO;Emerson Elesbão'], ['SUPLIDOS;Edvandio Dias'], ['SUPLIDOS;Hamilton Rodrigues'], ['SUPLIDOS;José Felipe'], ['SUPLIDOS;Herlanio'], ['TENDÕES;Fabricio Dias da Cruz'], ['TENDÕES;José Cirilo'], ['TENDÕES;Jailson Dias'], ['TENDÕES;Mailson Araújo'], ['LIMPEZA DE DOVELAS;Romario da Costa'], ['PREMONTAGEM;Gilson da Silva'], ['PREMONTAGEM;José Janilson'], ['PREMONTAGEM;Guilhermário C.'], ['PREMONTAGEM;Mauricio Menezes'], ['PREMONTAGEM;Fco. Antonio De Sousa'], ['MONTAGEM A DEFINIR;Rafael Castro'], ['MONTAGEM A DEFINIR;Cristovão Lima'], ['MONTAGEM A DEFINIR;Jucilanio Coelho'], ['MONTAGEM A DEFINIR;Anderson Augusto'], ['MONTAGEM A DEFINIR;Adelmo André'], ['DESCARGAS;Renan Cledson'], ['DESCARGAS;Abmario'], ['DESCARGAS;Fco. Anderson Pires'], ['CANTEIRO;Ronaldo Jose'], ['EJV;Vagner Rodrigues'], ['EJV;Jefferson Rodrigues'], ['EJV;Adelilson da Luz'], ['EJV;Moisés Amorim'], ['EJV;Douglas Ribeiro'], ['HJH;Eduardo da Cruz'], ['HJH;Lucimario Rodrigues'], ['HJH;Hamilton Coelho'], ['HJH;Alonso Mendes'], ['HJH;Joseildo Ferreira'], ['PREPARAÇÃO DE NAC. / DT / HUB;Eliesio'], ['PREPARAÇÃO DE NAC. / DT / HUB;Edson Nascimento'], ['PREPARAÇÃO DE NAC. / DT / HUB;Eudison Veras'], ['HJV\\n05:00H;Fagner Amorim'], ['HJV\\n05:00H;Fco. José Nobrega'], ['HJV\\n05:00H;Maurivan Coelho'], ['HJV\\n05:00H;Jucelio dos Santos'], ['DOKAS;Fabio Henrique Soares'], ['DOKAS;Jefferson Barros'], ['DOKAS;Damião Matheus'], ['DOKAS;Jackson Willlime'], ['DOKAS;Fco Caninde'], ['PREPARAÇÃO DE NAC. / DT / HUB;Marcelo Rilton'], ['PREPARAÇÃO DE NAC. / DT / HUB;Alex Fco. Galvão'], ['HJV\\n13:00H;Marcelo Victor Eneas'], ['HJV\\n13:00H;Fabio Dias Marques'], ['HJV\\n13:00H;Entony Gonçalves'], ['HJV\\n13:00H;Ricardo da Silva Rocha'], ['DOKAS;Erivan de Lima'], ['DOKAS;Carlos Daniel Batista'], ['DOKAS;Marcone Santos'], ['DOKAS;Iago Sodré '], ['DOKAS;Edmar Batista'], ['MUNCK;Claiton da Silva Sena'], ['MUNCK;Jorlan Rodrigues '], ['MUNCK;Fabio Luiz ']]\n"
     ]
    }
   ],
   "source": [
    "# percorrer todas as celulas da planilha por coluna e imprimir os pares de dados : atividade , nome\n",
    "#percor da linha 01 ate ws.row_dimensions e das colunas 1 ate posicao[1]\n",
    "#funcao vai receber \n",
    "#1 - coluna limite\n",
    "# 2 - ws objeto\n",
    "# 3 - lista\n",
    "def subdivisao(posicao:tuple,lista:list):\n",
    "\n",
    "    coluna_limite , dados_saida = posicao[1], []\n",
    "\n",
    "    for i in range(1,coluna_limite):#percorrendo colunas\n",
    "        for l in range(1,len(ws.row_dimensions)):\n",
    "            ((valor := ws.cell(row=l, column=i).value))#pega o valor de cada celula\n",
    "            if valor and valor not in lista:\n",
    "                valor01 = valor\n",
    "            elif valor in lista:\n",
    "                dados_saida.append([ valor01.strip()+';'+valor ])\n",
    "    return dados_saida\n",
    "\n",
    "\n",
    "print(subdivisao(posicao,lista))        "
   ]
  },
  {
   "cell_type": "code",
   "execution_count": 8,
   "metadata": {},
   "outputs": [
    {
     "data": {
      "text/plain": [
       "'01/04/2022'"
      ]
     },
     "execution_count": 8,
     "metadata": {},
     "output_type": "execute_result"
    }
   ],
   "source": [
    "aba\n",
    "data = aba[:2]+'/'+aba[2:4]+'/20'+aba[4:]\n",
    "data"
   ]
  },
  {
   "cell_type": "markdown",
   "metadata": {},
   "source": [
    "# Iniciando o programa...\n"
   ]
  },
  {
   "cell_type": "code",
   "execution_count": 9,
   "metadata": {},
   "outputs": [
    {
     "data": {
      "text/plain": [
       "107"
      ]
     },
     "execution_count": 9,
     "metadata": {},
     "output_type": "execute_result"
    }
   ],
   "source": [
    "#pegando lista de abas, porem, so pega as que tem tamanho igual a 6, e que sao numeros assim sabemos que o nome esta correto\n",
    "lista_de_abas = [x  for x in wb.sheetnames if (len(x)==6 and x.isnumeric())]\n",
    "len(lista_de_abas)\n"
   ]
  },
  {
   "cell_type": "markdown",
   "metadata": {},
   "source": [
    "Criando estatisticas dos dados"
   ]
  },
  {
   "cell_type": "code",
   "execution_count": 10,
   "metadata": {},
   "outputs": [],
   "source": [
    "import pandas as pd"
   ]
  },
  {
   "cell_type": "code",
   "execution_count": 14,
   "metadata": {},
   "outputs": [
    {
     "data": {
      "text/plain": [
       "20968"
      ]
     },
     "execution_count": 14,
     "metadata": {},
     "output_type": "execute_result"
    }
   ],
   "source": [
    "df = pd.DataFrame({'projeto':[], 'data':[], 'equipe':[], 'nome':[]})\n",
    "for aba in lista_de_abas:\n",
    "        #converter aba no formato de data\n",
    "        data = aba[:2]+'/'+aba[2:4]+'/20'+aba[4:]\n",
    "        #abrindo aba dentro da do arquivo\n",
    "        ws = wb[aba]\n",
    "        #buscando posicao no nome Nombre e armasenando em posicao\n",
    "        posicao = ondeEsta(ws)\n",
    "        #pegando lista das informacoes abaixo no NOmbre\n",
    "        nomes = coletaDadoAbaixoCelula(posicao,ws)\n",
    "        equipe_nome = subdivisao(posicao,nomes)\n",
    "        for item in equipe_nome:\n",
    "            equipe = item[0][:item[0].index(';')].strip() #pega o primeiro nome retira espacos no final\n",
    "            if equipe.find(' ') > 0: #verifica se tem palavra composta\n",
    "                equipe = equipe[:(equipe.find(' ')+1)].strip() #gardando somente uma palavra\n",
    "            nome = item[0][item[0].index(';')+1:].strip() #pegando o segundo elemento apos a ;\n",
    "            df.loc[len(df)] = {'projeto': 'VSE', 'data':data, 'equipe': equipe, 'nome':nome} #adicionar linha ao df\n",
    "            \n",
    "wb.close()\n",
    "df.to_csv('saida.csv')#salvando arquivos"
   ]
  },
  {
   "cell_type": "code",
   "execution_count": 12,
   "metadata": {},
   "outputs": [],
   "source": [
    "#salvando arquivos resumidos\n",
    "df.loc[:, [\"equipe\", \"nome\", \"data\"]].\\\n",
    "    groupby(['equipe','nome']).count().\\\n",
    "    sort_values(by='equipe').rename(columns={'data':'freq'}).\\\n",
    "    to_csv('resumo.csv')"
   ]
  }
 ],
 "metadata": {
  "kernelspec": {
   "display_name": "Python 3 (ipykernel)",
   "language": "python",
   "name": "python3"
  },
  "language_info": {
   "codemirror_mode": {
    "name": "ipython",
    "version": 3
   },
   "file_extension": ".py",
   "mimetype": "text/x-python",
   "name": "python",
   "nbconvert_exporter": "python",
   "pygments_lexer": "ipython3",
   "version": "3.12.0"
  }
 },
 "nbformat": 4,
 "nbformat_minor": 5
}
