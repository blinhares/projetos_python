{
 "cells": [
  {
   "cell_type": "code",
   "execution_count": 1,
   "id": "45abe574-88b0-43e7-a983-81dec06dd444",
   "metadata": {},
   "outputs": [],
   "source": [
    "texto = '1 INSPEÇÃO: em SM-13 *70/100* [Torre 79] *OK*; em SM-11 (50/50) [Torre 80;'\n",
    "chave_abertura = '*'\n",
    "chave_fech = '*'\n"
   ]
  },
  {
   "cell_type": "code",
   "execution_count": 2,
   "id": "bb78cd54-0355-43ce-aff9-73c882ba4f5d",
   "metadata": {
    "scrolled": true
   },
   "outputs": [
    {
     "name": "stdout",
     "output_type": "stream",
     "text": [
      "[21, 41] [28, 44]\n"
     ]
    }
   ],
   "source": [
    "index_abertura, index_fech = [], []\n",
    "for i in range(0,len(texto)):\n",
    "    if texto[i] == chave_abertura:\n",
    "        index_abertura.append(i)\n",
    "    elif texto[i] == chave_fech:\n",
    "        index_fech.append(i)\n",
    "\n",
    "#vamos pegar os dados no texto com base nos indisses...\n",
    "#sabemos que quem 'manda' nas chaves sao as a de abertura\n",
    "#vamos considerar que as chaves sao sequenciais... abertura e fechamento e que nao ha cheves compostas\n",
    "\n",
    "if chave_abertura == chave_fech : #se as chaves forem igual a lista de fechamento recebe os indices impares\n",
    "    index_fech = [index_abertura[i] for i in range(1,len(index_abertura),2) ]\n",
    "     \n",
    "#apagando no indice de abertura os valores do indice de fechamento\n",
    "index_abertura =  [x for x in index_abertura if x not in index_fech ]\n",
    "\n",
    "#imprimindo indices\n",
    "print(index_abertura,index_fech)\n",
    "    "
   ]
  },
  {
   "cell_type": "code",
   "execution_count": 3,
   "id": "0505cfd8-ee74-4fc1-b56c-f076a39df7d3",
   "metadata": {},
   "outputs": [
    {
     "name": "stdout",
     "output_type": "stream",
     "text": [
      "70/100\n",
      "OK\n"
     ]
    }
   ],
   "source": [
    "# vamos percorrer cada indice de abertura\n",
    "try:\n",
    "    for i in range(0,len(index_abertura)):\n",
    "        print(texto[index_abertura[i]+1:index_fech[i]])\n",
    "except:\n",
    "    pass"
   ]
  },
  {
   "cell_type": "code",
   "execution_count": 10,
   "id": "c288505f-9123-4dec-adf0-953a6d94ef05",
   "metadata": {},
   "outputs": [],
   "source": [
    "def busca_entre_chaves(texto:str,chave_abertura:str,chave_fech:str=None):\n",
    "    \"\"\"\n",
    "    Esta funcao retorna os dados entre pares de chaves de um determinado texto. Considerando que os conjuntos de chaves\n",
    "    sao simples e sequenciais e nao compostas. Ex.: () - Simples. (()()) - composta - NAO ATENDIDO PELA FUNCAO\n",
    "    Ex.:\n",
    "    No texto abaixo, adotando as variaveis chave_abertura='*' e chave_fech='*'\n",
    "    1 INSPEÇÃO: em SM-13 *70/100* [Torre 79] *OK*; em SM-11 (50/50) [Torre 80;\n",
    "    a funcao retornaria a seguinte lista : ['70/100','OK']\n",
    "     \"\"\"\n",
    "\n",
    "    if chave_fech == None:\n",
    "        chave_fech = chave_abertura\n",
    "    \n",
    "\n",
    "    index_abertura, index_fech, lista_saida = [], [], []\n",
    "\n",
    "    for i in range(0,len(texto)):\n",
    "        if texto[i] == chave_abertura:\n",
    "            index_abertura.append(i)\n",
    "        elif texto[i] == chave_fech:\n",
    "            index_fech.append(i)\n",
    "    \n",
    "    if chave_abertura == chave_fech : #se as chaves forem igual a lista de fechamento recebe os indices impares\n",
    "        index_fech = [index_abertura[i] for i in range(1,len(index_abertura),2) ]\n",
    "         \n",
    "    #apagando no indice de abertura os valores do indice de fechamento\n",
    "    index_abertura =  [x for x in index_abertura if x not in index_fech ]\n",
    "    \n",
    "    # vamos percorrer cada indice de abertura e coletar os textos\n",
    "    try:\n",
    "        for i in range(0,len(index_abertura)):\n",
    "            lista_saida.append(texto[index_abertura[i]+1:index_fech[i]])\n",
    "    except:\n",
    "        pass\n",
    "    return lista_saida\n",
    "    "
   ]
  },
  {
   "cell_type": "code",
   "execution_count": 11,
   "id": "67ab26fa-e285-4e2e-8428-4cdf2ee1eeed",
   "metadata": {},
   "outputs": [
    {
     "name": "stdout",
     "output_type": "stream",
     "text": [
      "False\n",
      "True\n"
     ]
    },
    {
     "data": {
      "text/plain": [
       "['70/100', 'OK']"
      ]
     },
     "execution_count": 11,
     "metadata": {},
     "output_type": "execute_result"
    }
   ],
   "source": [
    "busca_entre_chaves(texto=texto,chave_abertura=chave_abertura)"
   ]
  },
  {
   "cell_type": "code",
   "execution_count": null,
   "id": "39953d87-8c92-45c5-becd-07a3bcb08546",
   "metadata": {},
   "outputs": [],
   "source": []
  }
 ],
 "metadata": {
  "kernelspec": {
   "display_name": "Python 3 (ipykernel)",
   "language": "python",
   "name": "python3"
  },
  "language_info": {
   "codemirror_mode": {
    "name": "ipython",
    "version": 3
   },
   "file_extension": ".py",
   "mimetype": "text/x-python",
   "name": "python",
   "nbconvert_exporter": "python",
   "pygments_lexer": "ipython3",
   "version": "3.12.0"
  }
 },
 "nbformat": 4,
 "nbformat_minor": 5
}
