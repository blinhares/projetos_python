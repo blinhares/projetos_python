{
 "cells": [
  {
   "cell_type": "code",
   "execution_count": 1,
   "id": "ff16589f-93fc-4023-9d3d-9004e98f4629",
   "metadata": {},
   "outputs": [],
   "source": [
    "# Read stocks\n",
    "import yfinance as yf\n",
    "\n",
    "import pandas as pd\n",
    "import numpy as np\n",
    "\n",
    "import base64\n",
    "\n",
    "import plotly\n",
    "import plotly.graph_objects as go\n",
    "from plotly.subplots import make_subplots\n",
    "import plotly.express as px"
   ]
  },
  {
   "cell_type": "code",
   "execution_count": 2,
   "id": "05e6acf5-f771-4608-b144-4f02579b4d2d",
   "metadata": {},
   "outputs": [],
   "source": [
    "COLUMN_MAPPING = {\n",
    "    'symbol': 'Symbol', 'name': 'Name', 'industry': 'Industry', 'units': 'Units',\n",
    "    'current_price': 'Curr Price', 'paid': 'Paid Price', 'market_value': 'Mkt Value', 'cost': 'Cost', 'day_change': 'Day Change $',\n",
    "    'day_change_pct': 'Day Change %', 'gain_loss': 'Gain/Loss $', 'gain_loss_pct': 'Gain/Loss %',\n",
    "    'last_12_months': 'Price Change - Last 12 Months',\n",
    "    # Need these 2 for summary df\n",
    "    'tot_cost': 'Total Cost', 'tot_market_value' : 'Total Market Value'\n",
    "}\n",
    "# Using plotly dark template\n",
    "TEMPLATE = 'plotly_dark'"
   ]
  },
  {
   "cell_type": "markdown",
   "id": "3b86eaa4-e3d9-4438-9150-8a9b124fd391",
   "metadata": {},
   "source": [
    "## Load the transaction history"
   ]
  },
  {
   "cell_type": "code",
   "execution_count": 3,
   "id": "ced8aaa0-aa62-4579-90b8-0f0199f0b731",
   "metadata": {},
   "outputs": [
    {
     "data": {
      "text/html": [
       "<div>\n",
       "<style scoped>\n",
       "    .dataframe tbody tr th:only-of-type {\n",
       "        vertical-align: middle;\n",
       "    }\n",
       "\n",
       "    .dataframe tbody tr th {\n",
       "        vertical-align: top;\n",
       "    }\n",
       "\n",
       "    .dataframe thead th {\n",
       "        text-align: right;\n",
       "    }\n",
       "</style>\n",
       "<table border=\"1\" class=\"dataframe\">\n",
       "  <thead>\n",
       "    <tr style=\"text-align: right;\">\n",
       "      <th></th>\n",
       "      <th>Date</th>\n",
       "      <th>Symbol</th>\n",
       "      <th>Units</th>\n",
       "      <th>Paid</th>\n",
       "      <th>Price</th>\n",
       "      <th>Currency</th>\n",
       "    </tr>\n",
       "  </thead>\n",
       "  <tbody>\n",
       "    <tr>\n",
       "      <th>0</th>\n",
       "      <td>30-12-2019</td>\n",
       "      <td>HAL</td>\n",
       "      <td>200.00</td>\n",
       "      <td>4952.0000</td>\n",
       "      <td>24.760000</td>\n",
       "      <td>USD</td>\n",
       "    </tr>\n",
       "    <tr>\n",
       "      <th>1</th>\n",
       "      <td>23-03-2020</td>\n",
       "      <td>HAL</td>\n",
       "      <td>-180.00</td>\n",
       "      <td>-1152.0000</td>\n",
       "      <td>6.400000</td>\n",
       "      <td>USD</td>\n",
       "    </tr>\n",
       "    <tr>\n",
       "      <th>2</th>\n",
       "      <td>24-10-2021</td>\n",
       "      <td>TEAM</td>\n",
       "      <td>50.00</td>\n",
       "      <td>22900.0000</td>\n",
       "      <td>458.000000</td>\n",
       "      <td>USD</td>\n",
       "    </tr>\n",
       "    <tr>\n",
       "      <th>3</th>\n",
       "      <td>28-11-2022</td>\n",
       "      <td>GOOG</td>\n",
       "      <td>100.00</td>\n",
       "      <td>9625.0000</td>\n",
       "      <td>96.250000</td>\n",
       "      <td>USD</td>\n",
       "    </tr>\n",
       "    <tr>\n",
       "      <th>4</th>\n",
       "      <td>29-11-2022</td>\n",
       "      <td>AMZN</td>\n",
       "      <td>20.00</td>\n",
       "      <td>1848.4000</td>\n",
       "      <td>92.420000</td>\n",
       "      <td>USD</td>\n",
       "    </tr>\n",
       "    <tr>\n",
       "      <th>5</th>\n",
       "      <td>08-12-2022</td>\n",
       "      <td>GOOG</td>\n",
       "      <td>20.00</td>\n",
       "      <td>1871.2000</td>\n",
       "      <td>93.560000</td>\n",
       "      <td>USD</td>\n",
       "    </tr>\n",
       "    <tr>\n",
       "      <th>6</th>\n",
       "      <td>11-12-2022</td>\n",
       "      <td>TEAM</td>\n",
       "      <td>-30.00</td>\n",
       "      <td>-4410.0000</td>\n",
       "      <td>147.000000</td>\n",
       "      <td>USD</td>\n",
       "    </tr>\n",
       "    <tr>\n",
       "      <th>7</th>\n",
       "      <td>20-12-2022</td>\n",
       "      <td>GOOG</td>\n",
       "      <td>20.00</td>\n",
       "      <td>1792.6000</td>\n",
       "      <td>89.630000</td>\n",
       "      <td>USD</td>\n",
       "    </tr>\n",
       "    <tr>\n",
       "      <th>8</th>\n",
       "      <td>23-12-2022</td>\n",
       "      <td>AMZN</td>\n",
       "      <td>30.00</td>\n",
       "      <td>2557.5000</td>\n",
       "      <td>85.250000</td>\n",
       "      <td>USD</td>\n",
       "    </tr>\n",
       "    <tr>\n",
       "      <th>9</th>\n",
       "      <td>08-01-2023</td>\n",
       "      <td>GTLB</td>\n",
       "      <td>50.00</td>\n",
       "      <td>1510.5000</td>\n",
       "      <td>30.210000</td>\n",
       "      <td>USD</td>\n",
       "    </tr>\n",
       "    <tr>\n",
       "      <th>10</th>\n",
       "      <td>09-01-2023</td>\n",
       "      <td>GOOG</td>\n",
       "      <td>-10.00</td>\n",
       "      <td>-888.0000</td>\n",
       "      <td>88.800000</td>\n",
       "      <td>USD</td>\n",
       "    </tr>\n",
       "    <tr>\n",
       "      <th>11</th>\n",
       "      <td>15-01-2023</td>\n",
       "      <td>GTLB</td>\n",
       "      <td>-50.00</td>\n",
       "      <td>-1536.0000</td>\n",
       "      <td>30.720000</td>\n",
       "      <td>USD</td>\n",
       "    </tr>\n",
       "    <tr>\n",
       "      <th>12</th>\n",
       "      <td>24-06-2023</td>\n",
       "      <td>DDOG</td>\n",
       "      <td>20.23</td>\n",
       "      <td>1911.7500</td>\n",
       "      <td>94.500741</td>\n",
       "      <td>USD</td>\n",
       "    </tr>\n",
       "    <tr>\n",
       "      <th>13</th>\n",
       "      <td>25-06-2023</td>\n",
       "      <td>HAL</td>\n",
       "      <td>30.00</td>\n",
       "      <td>946.2000</td>\n",
       "      <td>31.540000</td>\n",
       "      <td>USD</td>\n",
       "    </tr>\n",
       "    <tr>\n",
       "      <th>14</th>\n",
       "      <td>24-07-2023</td>\n",
       "      <td>HAL</td>\n",
       "      <td>20.45</td>\n",
       "      <td>779.3495</td>\n",
       "      <td>38.110000</td>\n",
       "      <td>USD</td>\n",
       "    </tr>\n",
       "  </tbody>\n",
       "</table>\n",
       "</div>"
      ],
      "text/plain": [
       "          Date Symbol   Units        Paid       Price Currency\n",
       "0   30-12-2019    HAL  200.00   4952.0000   24.760000      USD\n",
       "1   23-03-2020    HAL -180.00  -1152.0000    6.400000      USD\n",
       "2   24-10-2021   TEAM   50.00  22900.0000  458.000000      USD\n",
       "3   28-11-2022   GOOG  100.00   9625.0000   96.250000      USD\n",
       "4   29-11-2022   AMZN   20.00   1848.4000   92.420000      USD\n",
       "5   08-12-2022   GOOG   20.00   1871.2000   93.560000      USD\n",
       "6   11-12-2022   TEAM  -30.00  -4410.0000  147.000000      USD\n",
       "7   20-12-2022   GOOG   20.00   1792.6000   89.630000      USD\n",
       "8   23-12-2022   AMZN   30.00   2557.5000   85.250000      USD\n",
       "9   08-01-2023   GTLB   50.00   1510.5000   30.210000      USD\n",
       "10  09-01-2023   GOOG  -10.00   -888.0000   88.800000      USD\n",
       "11  15-01-2023   GTLB  -50.00  -1536.0000   30.720000      USD\n",
       "12  24-06-2023   DDOG   20.23   1911.7500   94.500741      USD\n",
       "13  25-06-2023    HAL   30.00    946.2000   31.540000      USD\n",
       "14  24-07-2023    HAL   20.45    779.3495   38.110000      USD"
      ]
     },
     "execution_count": 3,
     "metadata": {},
     "output_type": "execute_result"
    }
   ],
   "source": [
    "hist_df = pd.read_excel('data/transactions.xlsx', sheet_name='History')\n",
    "hist_df"
   ]
  },
  {
   "cell_type": "markdown",
   "id": "b173609c-c719-44d0-9dff-903083ce95a8",
   "metadata": {},
   "source": [
    "## Sparklines"
   ]
  },
  {
   "cell_type": "code",
   "execution_count": 4,
   "id": "679d403d-7933-4549-a9c8-2c50076888c5",
   "metadata": {},
   "outputs": [],
   "source": [
    "def sparkline(df, Avg):\n",
    "    fig = go.Figure()\n",
    "\n",
    "    # Plot the Close price\n",
    "    fig.add_trace(go.Scatter(x=df.index, y=df['Close'], line_color='lightgreen', line_width=1))\n",
    "\n",
    "    # Plot the Avg line\n",
    "    fig.add_hline(y=Avg, line_color='indianred', line_width=1)\n",
    "\n",
    "    # hide and lock down axes\n",
    "    fig.update_xaxes(visible=False, fixedrange=True)\n",
    "    fig.update_yaxes(visible=False, fixedrange=True)\n",
    "    \n",
    "    # strip down the rest of the plot\n",
    "    fig.update_layout(\n",
    "        template=TEMPLATE,\n",
    "        width=250,\n",
    "        height=40,        \n",
    "        showlegend=False,\n",
    "        margin=dict(t=1,l=1,b=1,r=1)\n",
    "    )\n",
    "    \n",
    "    # disable the modebar for such a small plot - fig.show commented out for debugging purposes\n",
    "    # fig.show(config=dict(displayModeBar=False))\n",
    "\n",
    "    png = plotly.io.to_image(fig)\n",
    "    png_base64 = base64.b64encode(png).decode('ascii')\n",
    "    \n",
    "    return '<img src=\"data:image/png;base64,{}\"/>'.format(png_base64)"
   ]
  },
  {
   "cell_type": "markdown",
   "id": "0d432c8d-d41e-4976-862d-c0315d765d30",
   "metadata": {},
   "source": [
    "## Collect Data"
   ]
  },
  {
   "cell_type": "code",
   "execution_count": 5,
   "id": "cf33d064-69d3-4967-a3c4-2a657385ac1a",
   "metadata": {},
   "outputs": [],
   "source": [
    "# Dictionary to collect data to create a DF later\n",
    "data = {\n",
    "    'symbol': [],\n",
    "    'industry': [],\n",
    "    'units': [],\n",
    "    'paid': [],\n",
    "    'current_price': [],\n",
    "    'cost': [],\n",
    "    'market_value': [],\n",
    "    'day_change': [],\n",
    "    'day_change_pct': [],\n",
    "    'gain_loss': [],\n",
    "    'gain_loss_pct': [],\n",
    "    'last_12_months': []\n",
    "}\n",
    "# Total units, group by Symbol\n",
    "symbols = hist_df.groupby('Symbol')['Units'].sum()\n",
    "\n",
    "# Drop any symbols when units are zero (we have sold them)\n",
    "symbol_list= symbols.where(symbols > 0).dropna().index.to_list()\n",
    "\n",
    "for symbol in symbol_list:\n",
    "    units = hist_df.query(\"Symbol == @symbol\")['Units'].sum()\n",
    "\n",
    "    ticker = yf.Ticker(symbol)\n",
    "    \n",
    "    data['symbol'].append(ticker.info['symbol'])\n",
    "    data['industry'].append(ticker.info['industry'])\n",
    "    data['units'].append(units)\n",
    "    current_price = ticker.info['currentPrice']\n",
    "    data['current_price'].append(current_price)\n",
    "    # Round to 2 decimal points\n",
    "    market_value = round(units * current_price, 2)\n",
    "    data['market_value'].append(market_value)\n",
    "\n",
    "    # Prev close value to calculate day change\n",
    "    prev_close = ticker.info['previousClose']\n",
    "    day_change = (current_price - prev_close) * units\n",
    "    data['day_change'].append(day_change)\n",
    "    data['day_change_pct'].append(((current_price/prev_close) - 1) * 100)\n",
    "\n",
    "    # History data for 12 months\n",
    "    history = ticker.history(period='1y')['Close']\n",
    "\n",
    "    # Convert the history series to a DF\n",
    "    history_df = history.to_frame()\n",
    "    # Average price we bought the stock (exclude sell transactions)\n",
    "    t_df = hist_df.query(\"Symbol == @symbol & Units >= 0\")[['Price', 'Units']]\n",
    "    # Weighted average\n",
    "    avg = round(np.average(a=t_df.Price, weights=t_df.Units))\n",
    "    # Average weighted proice we have paid\n",
    "    data['paid'].append(avg)\n",
    "    cost = units * avg\n",
    "    data['cost'].append(cost)\n",
    "    \n",
    "    data['gain_loss'].append(market_value - cost)\n",
    "    data['gain_loss_pct'].append(((market_value/cost) - 1) * 100)\n",
    "\n",
    "    # Add the sparkline for 12 month history data\n",
    "    data['last_12_months'].append(sparkline(history_df, avg))"
   ]
  },
  {
   "cell_type": "markdown",
   "id": "cbec368c-078d-499b-b41d-271b99bcf9f1",
   "metadata": {},
   "source": [
    "## DF Styler related utilities"
   ]
  },
  {
   "cell_type": "code",
   "execution_count": 6,
   "id": "31428a3d-8b78-4547-a962-00c475842be3",
   "metadata": {},
   "outputs": [],
   "source": [
    "def make_pretty(styler):\n",
    "    # Column formatting\n",
    "    styler.format({\n",
    "        'units': '{:.2f}', 'Price': '${:.2f}', 'paid': '${:.2f}', 'cost': '${:,.2f}',\n",
    "        'current_price': '${:.2f}', 'market_value': '${:,.2f}'})\n",
    "\n",
    "    # Grid - uncomment this line if you want grids\n",
    "    # styler.set_properties(**{'border': '0.1px solid darkgrey'})\n",
    "\n",
    "    # No index\n",
    "    styler.hide(axis='index')\n",
    "\n",
    "    # Left text alignment for some columns\n",
    "    styler.set_properties(subset=['symbol', 'industry'], **{'text-align': 'left'})\n",
    "\n",
    "    styler.format(dollar_change, subset=['day_change','gain_loss'])\n",
    "    styler.format(pct_change, subset=['day_change_pct', 'gain_loss_pct'])\n",
    "    styler.map(color_arrow, subset=['day_change','day_change_pct','gain_loss', 'gain_loss_pct'])\n",
    "    return styler\n",
    "\n",
    "def dollar_change(val):\n",
    "    if val > 0:\n",
    "        return f\"{'🡅'} ${abs(val):,.2f}\"\n",
    "    elif val < 0:\n",
    "        return f\"{'🡇'} $({abs(val):,.2f})\"\n",
    "    else:\n",
    "        return f\"${val:,.2f}\"\n",
    "    \n",
    "def pct_change(val):\n",
    "    if val > 0:\n",
    "        return f\"{'🡅'} {abs(val):.2f}%\"\n",
    "    elif val < 0:\n",
    "        return f\"{'🡇'} ({abs(val):.2f})%\"\n",
    "    else:\n",
    "        return f\"{val:.2f}%\"\n",
    "    # return f\"{'↑' if val > 0 else '↓'} {abs(val):.2f}\" if val != 0 else f\"{val:.2f}\"\n",
    "\n",
    "def color_arrow(val):\n",
    "    return \"color: green\" if val > 0 else \"color: indianred\" if val < 0 else \"\"\n",
    "\n",
    "def column_formatter(name):\n",
    "    return COLUMN_MAPPING[name]"
   ]
  },
  {
   "cell_type": "markdown",
   "id": "0bc4c7ab-5a2f-4244-aa6b-0e6fbabc5cf4",
   "metadata": {},
   "source": [
    "## Create Portfolio DataFrame"
   ]
  },
  {
   "cell_type": "code",
   "execution_count": 7,
   "id": "6c48d9ad-6f73-4ae1-b62b-8250e76a9cac",
   "metadata": {},
   "outputs": [
    {
     "data": {
      "text/html": [
       "<style type=\"text/css\">\n",
       "#T_26ff4 th.col_heading {\n",
       "  text-align: center;\n",
       "}\n",
       "#T_26ff4 caption {\n",
       "  text-align: center;\n",
       "  font-size: 12pt;\n",
       "  font-weight: bold;\n",
       "}\n",
       "#T_26ff4_row0_col0, #T_26ff4_row0_col1, #T_26ff4_row1_col0, #T_26ff4_row1_col1, #T_26ff4_row2_col0, #T_26ff4_row2_col1, #T_26ff4_row3_col0, #T_26ff4_row3_col1, #T_26ff4_row4_col0, #T_26ff4_row4_col1 {\n",
       "  text-align: left;\n",
       "}\n",
       "#T_26ff4_row0_col7, #T_26ff4_row0_col8, #T_26ff4_row0_col9, #T_26ff4_row0_col10, #T_26ff4_row1_col7, #T_26ff4_row1_col8, #T_26ff4_row1_col9, #T_26ff4_row1_col10, #T_26ff4_row2_col9, #T_26ff4_row2_col10, #T_26ff4_row3_col9, #T_26ff4_row3_col10, #T_26ff4_row4_col7, #T_26ff4_row4_col8 {\n",
       "  color: green;\n",
       "}\n",
       "#T_26ff4_row2_col7, #T_26ff4_row2_col8, #T_26ff4_row3_col7, #T_26ff4_row3_col8, #T_26ff4_row4_col9, #T_26ff4_row4_col10 {\n",
       "  color: indianred;\n",
       "}\n",
       "</style>\n",
       "<table id=\"T_26ff4\">\n",
       "  <caption>My Stock Dashboard</caption>\n",
       "  <thead>\n",
       "    <tr>\n",
       "      <th id=\"T_26ff4_level0_col0\" class=\"col_heading level0 col0\" >Symbol</th>\n",
       "      <th id=\"T_26ff4_level0_col1\" class=\"col_heading level0 col1\" >Industry</th>\n",
       "      <th id=\"T_26ff4_level0_col2\" class=\"col_heading level0 col2\" >Units</th>\n",
       "      <th id=\"T_26ff4_level0_col3\" class=\"col_heading level0 col3\" >Paid Price</th>\n",
       "      <th id=\"T_26ff4_level0_col4\" class=\"col_heading level0 col4\" >Curr Price</th>\n",
       "      <th id=\"T_26ff4_level0_col5\" class=\"col_heading level0 col5\" >Cost</th>\n",
       "      <th id=\"T_26ff4_level0_col6\" class=\"col_heading level0 col6\" >Mkt Value</th>\n",
       "      <th id=\"T_26ff4_level0_col7\" class=\"col_heading level0 col7\" >Day Change $</th>\n",
       "      <th id=\"T_26ff4_level0_col8\" class=\"col_heading level0 col8\" >Day Change %</th>\n",
       "      <th id=\"T_26ff4_level0_col9\" class=\"col_heading level0 col9\" >Gain/Loss $</th>\n",
       "      <th id=\"T_26ff4_level0_col10\" class=\"col_heading level0 col10\" >Gain/Loss %</th>\n",
       "      <th id=\"T_26ff4_level0_col11\" class=\"col_heading level0 col11\" >Price Change - Last 12 Months</th>\n",
       "    </tr>\n",
       "  </thead>\n",
       "  <tbody>\n",
       "    <tr>\n",
       "      <td id=\"T_26ff4_row0_col0\" class=\"data row0 col0\" >AMZN</td>\n",
       "      <td id=\"T_26ff4_row0_col1\" class=\"data row0 col1\" >Internet Retail</td>\n",
       "      <td id=\"T_26ff4_row0_col2\" class=\"data row0 col2\" >50.00</td>\n",
       "      <td id=\"T_26ff4_row0_col3\" class=\"data row0 col3\" >$88.00</td>\n",
       "      <td id=\"T_26ff4_row0_col4\" class=\"data row0 col4\" >$147.34</td>\n",
       "      <td id=\"T_26ff4_row0_col5\" class=\"data row0 col5\" >$4,400.00</td>\n",
       "      <td id=\"T_26ff4_row0_col6\" class=\"data row0 col6\" >$7,367.25</td>\n",
       "      <td id=\"T_26ff4_row0_col7\" class=\"data row0 col7\" >🡅 $72.75</td>\n",
       "      <td id=\"T_26ff4_row0_col8\" class=\"data row0 col8\" >🡅 1.00%</td>\n",
       "      <td id=\"T_26ff4_row0_col9\" class=\"data row0 col9\" >🡅 $2,967.25</td>\n",
       "      <td id=\"T_26ff4_row0_col10\" class=\"data row0 col10\" >🡅 67.44%</td>\n",
       "      <td id=\"T_26ff4_row0_col11\" class=\"data row0 col11\" ><img src=\"data:image/png;base64,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\"/></td>\n",
       "    </tr>\n",
       "    <tr>\n",
       "      <td id=\"T_26ff4_row1_col0\" class=\"data row1 col0\" >DDOG</td>\n",
       "      <td id=\"T_26ff4_row1_col1\" class=\"data row1 col1\" >Software - Application</td>\n",
       "      <td id=\"T_26ff4_row1_col2\" class=\"data row1 col2\" >20.23</td>\n",
       "      <td id=\"T_26ff4_row1_col3\" class=\"data row1 col3\" >$95.00</td>\n",
       "      <td id=\"T_26ff4_row1_col4\" class=\"data row1 col4\" >$114.80</td>\n",
       "      <td id=\"T_26ff4_row1_col5\" class=\"data row1 col5\" >$1,921.85</td>\n",
       "      <td id=\"T_26ff4_row1_col6\" class=\"data row1 col6\" >$2,322.40</td>\n",
       "      <td id=\"T_26ff4_row1_col7\" class=\"data row1 col7\" >🡅 $1.42</td>\n",
       "      <td id=\"T_26ff4_row1_col8\" class=\"data row1 col8\" >🡅 0.06%</td>\n",
       "      <td id=\"T_26ff4_row1_col9\" class=\"data row1 col9\" >🡅 $400.55</td>\n",
       "      <td id=\"T_26ff4_row1_col10\" class=\"data row1 col10\" >🡅 20.84%</td>\n",
       "      <td id=\"T_26ff4_row1_col11\" class=\"data row1 col11\" ><img src=\"data:image/png;base64,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\"/></td>\n",
       "    </tr>\n",
       "    <tr>\n",
       "      <td id=\"T_26ff4_row2_col0\" class=\"data row2 col0\" >GOOG</td>\n",
       "      <td id=\"T_26ff4_row2_col1\" class=\"data row2 col1\" >Internet Content & Information</td>\n",
       "      <td id=\"T_26ff4_row2_col2\" class=\"data row2 col2\" >130.00</td>\n",
       "      <td id=\"T_26ff4_row2_col3\" class=\"data row2 col3\" >$95.00</td>\n",
       "      <td id=\"T_26ff4_row2_col4\" class=\"data row2 col4\" >$133.50</td>\n",
       "      <td id=\"T_26ff4_row2_col5\" class=\"data row2 col5\" >$12,350.00</td>\n",
       "      <td id=\"T_26ff4_row2_col6\" class=\"data row2 col6\" >$17,355.65</td>\n",
       "      <td id=\"T_26ff4_row2_col7\" class=\"data row2 col7\" >🡇 $(155.35)</td>\n",
       "      <td id=\"T_26ff4_row2_col8\" class=\"data row2 col8\" >🡇 (0.89)%</td>\n",
       "      <td id=\"T_26ff4_row2_col9\" class=\"data row2 col9\" >🡅 $5,005.65</td>\n",
       "      <td id=\"T_26ff4_row2_col10\" class=\"data row2 col10\" >🡅 40.53%</td>\n",
       "      <td id=\"T_26ff4_row2_col11\" class=\"data row2 col11\" ><img src=\"data:image/png;base64,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\"/></td>\n",
       "    </tr>\n",
       "    <tr>\n",
       "      <td id=\"T_26ff4_row3_col0\" class=\"data row3 col0\" >HAL</td>\n",
       "      <td id=\"T_26ff4_row3_col1\" class=\"data row3 col1\" >Oil & Gas Equipment & Services</td>\n",
       "      <td id=\"T_26ff4_row3_col2\" class=\"data row3 col2\" >70.45</td>\n",
       "      <td id=\"T_26ff4_row3_col3\" class=\"data row3 col3\" >$27.00</td>\n",
       "      <td id=\"T_26ff4_row3_col4\" class=\"data row3 col4\" >$34.49</td>\n",
       "      <td id=\"T_26ff4_row3_col5\" class=\"data row3 col5\" >$1,902.15</td>\n",
       "      <td id=\"T_26ff4_row3_col6\" class=\"data row3 col6\" >$2,429.82</td>\n",
       "      <td id=\"T_26ff4_row3_col7\" class=\"data row3 col7\" >🡇 $(19.73)</td>\n",
       "      <td id=\"T_26ff4_row3_col8\" class=\"data row3 col8\" >🡇 (0.81)%</td>\n",
       "      <td id=\"T_26ff4_row3_col9\" class=\"data row3 col9\" >🡅 $527.67</td>\n",
       "      <td id=\"T_26ff4_row3_col10\" class=\"data row3 col10\" >🡅 27.74%</td>\n",
       "      <td id=\"T_26ff4_row3_col11\" class=\"data row3 col11\" ><img src=\"data:image/png;base64,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\"/></td>\n",
       "    </tr>\n",
       "    <tr>\n",
       "      <td id=\"T_26ff4_row4_col0\" class=\"data row4 col0\" >TEAM</td>\n",
       "      <td id=\"T_26ff4_row4_col1\" class=\"data row4 col1\" >Software - Application</td>\n",
       "      <td id=\"T_26ff4_row4_col2\" class=\"data row4 col2\" >20.00</td>\n",
       "      <td id=\"T_26ff4_row4_col3\" class=\"data row4 col3\" >$458.00</td>\n",
       "      <td id=\"T_26ff4_row4_col4\" class=\"data row4 col4\" >$201.93</td>\n",
       "      <td id=\"T_26ff4_row4_col5\" class=\"data row4 col5\" >$9,160.00</td>\n",
       "      <td id=\"T_26ff4_row4_col6\" class=\"data row4 col6\" >$4,038.60</td>\n",
       "      <td id=\"T_26ff4_row4_col7\" class=\"data row4 col7\" >🡅 $66.80</td>\n",
       "      <td id=\"T_26ff4_row4_col8\" class=\"data row4 col8\" >🡅 1.68%</td>\n",
       "      <td id=\"T_26ff4_row4_col9\" class=\"data row4 col9\" >🡇 $(5,121.40)</td>\n",
       "      <td id=\"T_26ff4_row4_col10\" class=\"data row4 col10\" >🡇 (55.91)%</td>\n",
       "      <td id=\"T_26ff4_row4_col11\" class=\"data row4 col11\" ><img src=\"data:image/png;base64,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\"/></td>\n",
       "    </tr>\n",
       "  </tbody>\n",
       "</table>\n"
      ],
      "text/plain": [
       "<pandas.io.formats.style.Styler at 0x7efe75f02960>"
      ]
     },
     "execution_count": 7,
     "metadata": {},
     "output_type": "execute_result"
    }
   ],
   "source": [
    "df = pd.DataFrame(data)\n",
    "\n",
    "df.style.pipe(make_pretty).set_caption('My Stock Dashboard').set_table_styles(\n",
    "    [{'selector': 'th.col_heading', 'props': 'text-align: center'},\n",
    "     {'selector': 'caption', 'props': [('text-align', 'center'),\n",
    "                                       ('font-size', '12pt'), ('font-weight', 'bold')]}]).format_index(column_formatter, axis=1) "
   ]
  },
  {
   "cell_type": "markdown",
   "id": "6aefc9d4-6507-4af4-80d1-b5e63bcff450",
   "metadata": {},
   "source": [
    "## Portfolio Breakdown"
   ]
  },
  {
   "cell_type": "code",
   "execution_count": 12,
   "id": "c60cac89-5332-42a6-b531-a003bbc86072",
   "metadata": {},
   "outputs": [
    {
     "data": {
      "application/vnd.plotly.v1+json": {
       "config": {
        "plotlyServerURL": "https://plot.ly"
       },
       "data": [
        {
         "domain": {
          "x": [
           0,
           0.425
          ],
          "y": [
           0,
           1
          ]
         },
         "hole": 0.5,
         "labels": [
          "AMZN",
          "DDOG",
          "GOOG",
          "HAL",
          "TEAM"
         ],
         "legendgroup": "1",
         "marker": {
          "line": {
           "color": "black",
           "width": 2
          }
         },
         "name": "Market Value",
         "type": "pie",
         "values": [
          7367.25,
          2322.4,
          17355.65,
          2429.82,
          4038.6
         ]
        },
        {
         "domain": {
          "x": [
           0.575,
           1
          ],
          "y": [
           0,
           1
          ]
         },
         "hole": 0.5,
         "labels": [
          "Internet Retail",
          "Software - Application",
          "Internet Content & Information",
          "Oil & Gas Equipment & Services",
          "Software - Application"
         ],
         "legendgroup": "2",
         "marker": {
          "line": {
           "color": "black",
           "width": 2
          }
         },
         "name": "Industry Value",
         "type": "pie",
         "values": [
          7367.25,
          2322.4,
          17355.65,
          2429.82,
          4038.6
         ]
        }
       ],
       "layout": {
        "annotations": [
         {
          "font": {
           "size": 16
          },
          "showarrow": false,
          "text": "Stock",
          "x": 0.2125,
          "xanchor": "center",
          "xref": "paper",
          "y": 1,
          "yanchor": "bottom",
          "yref": "paper"
         },
         {
          "font": {
           "size": 16
          },
          "showarrow": false,
          "text": "Industry",
          "x": 0.7875,
          "xanchor": "center",
          "xref": "paper",
          "y": 1,
          "yanchor": "bottom",
          "yref": "paper"
         }
        ],
        "height": 400,
        "template": {
         "data": {
          "bar": [
           {
            "error_x": {
             "color": "#f2f5fa"
            },
            "error_y": {
             "color": "#f2f5fa"
            },
            "marker": {
             "line": {
              "color": "rgb(17,17,17)",
              "width": 0.5
             },
             "pattern": {
              "fillmode": "overlay",
              "size": 10,
              "solidity": 0.2
             }
            },
            "type": "bar"
           }
          ],
          "barpolar": [
           {
            "marker": {
             "line": {
              "color": "rgb(17,17,17)",
              "width": 0.5
             },
             "pattern": {
              "fillmode": "overlay",
              "size": 10,
              "solidity": 0.2
             }
            },
            "type": "barpolar"
           }
          ],
          "carpet": [
           {
            "aaxis": {
             "endlinecolor": "#A2B1C6",
             "gridcolor": "#506784",
             "linecolor": "#506784",
             "minorgridcolor": "#506784",
             "startlinecolor": "#A2B1C6"
            },
            "baxis": {
             "endlinecolor": "#A2B1C6",
             "gridcolor": "#506784",
             "linecolor": "#506784",
             "minorgridcolor": "#506784",
             "startlinecolor": "#A2B1C6"
            },
            "type": "carpet"
           }
          ],
          "choropleth": [
           {
            "colorbar": {
             "outlinewidth": 0,
             "ticks": ""
            },
            "type": "choropleth"
           }
          ],
          "contour": [
           {
            "colorbar": {
             "outlinewidth": 0,
             "ticks": ""
            },
            "colorscale": [
             [
              0,
              "#0d0887"
             ],
             [
              0.1111111111111111,
              "#46039f"
             ],
             [
              0.2222222222222222,
              "#7201a8"
             ],
             [
              0.3333333333333333,
              "#9c179e"
             ],
             [
              0.4444444444444444,
              "#bd3786"
             ],
             [
              0.5555555555555556,
              "#d8576b"
             ],
             [
              0.6666666666666666,
              "#ed7953"
             ],
             [
              0.7777777777777778,
              "#fb9f3a"
             ],
             [
              0.8888888888888888,
              "#fdca26"
             ],
             [
              1,
              "#f0f921"
             ]
            ],
            "type": "contour"
           }
          ],
          "contourcarpet": [
           {
            "colorbar": {
             "outlinewidth": 0,
             "ticks": ""
            },
            "type": "contourcarpet"
           }
          ],
          "heatmap": [
           {
            "colorbar": {
             "outlinewidth": 0,
             "ticks": ""
            },
            "colorscale": [
             [
              0,
              "#0d0887"
             ],
             [
              0.1111111111111111,
              "#46039f"
             ],
             [
              0.2222222222222222,
              "#7201a8"
             ],
             [
              0.3333333333333333,
              "#9c179e"
             ],
             [
              0.4444444444444444,
              "#bd3786"
             ],
             [
              0.5555555555555556,
              "#d8576b"
             ],
             [
              0.6666666666666666,
              "#ed7953"
             ],
             [
              0.7777777777777778,
              "#fb9f3a"
             ],
             [
              0.8888888888888888,
              "#fdca26"
             ],
             [
              1,
              "#f0f921"
             ]
            ],
            "type": "heatmap"
           }
          ],
          "heatmapgl": [
           {
            "colorbar": {
             "outlinewidth": 0,
             "ticks": ""
            },
            "colorscale": [
             [
              0,
              "#0d0887"
             ],
             [
              0.1111111111111111,
              "#46039f"
             ],
             [
              0.2222222222222222,
              "#7201a8"
             ],
             [
              0.3333333333333333,
              "#9c179e"
             ],
             [
              0.4444444444444444,
              "#bd3786"
             ],
             [
              0.5555555555555556,
              "#d8576b"
             ],
             [
              0.6666666666666666,
              "#ed7953"
             ],
             [
              0.7777777777777778,
              "#fb9f3a"
             ],
             [
              0.8888888888888888,
              "#fdca26"
             ],
             [
              1,
              "#f0f921"
             ]
            ],
            "type": "heatmapgl"
           }
          ],
          "histogram": [
           {
            "marker": {
             "pattern": {
              "fillmode": "overlay",
              "size": 10,
              "solidity": 0.2
             }
            },
            "type": "histogram"
           }
          ],
          "histogram2d": [
           {
            "colorbar": {
             "outlinewidth": 0,
             "ticks": ""
            },
            "colorscale": [
             [
              0,
              "#0d0887"
             ],
             [
              0.1111111111111111,
              "#46039f"
             ],
             [
              0.2222222222222222,
              "#7201a8"
             ],
             [
              0.3333333333333333,
              "#9c179e"
             ],
             [
              0.4444444444444444,
              "#bd3786"
             ],
             [
              0.5555555555555556,
              "#d8576b"
             ],
             [
              0.6666666666666666,
              "#ed7953"
             ],
             [
              0.7777777777777778,
              "#fb9f3a"
             ],
             [
              0.8888888888888888,
              "#fdca26"
             ],
             [
              1,
              "#f0f921"
             ]
            ],
            "type": "histogram2d"
           }
          ],
          "histogram2dcontour": [
           {
            "colorbar": {
             "outlinewidth": 0,
             "ticks": ""
            },
            "colorscale": [
             [
              0,
              "#0d0887"
             ],
             [
              0.1111111111111111,
              "#46039f"
             ],
             [
              0.2222222222222222,
              "#7201a8"
             ],
             [
              0.3333333333333333,
              "#9c179e"
             ],
             [
              0.4444444444444444,
              "#bd3786"
             ],
             [
              0.5555555555555556,
              "#d8576b"
             ],
             [
              0.6666666666666666,
              "#ed7953"
             ],
             [
              0.7777777777777778,
              "#fb9f3a"
             ],
             [
              0.8888888888888888,
              "#fdca26"
             ],
             [
              1,
              "#f0f921"
             ]
            ],
            "type": "histogram2dcontour"
           }
          ],
          "mesh3d": [
           {
            "colorbar": {
             "outlinewidth": 0,
             "ticks": ""
            },
            "type": "mesh3d"
           }
          ],
          "parcoords": [
           {
            "line": {
             "colorbar": {
              "outlinewidth": 0,
              "ticks": ""
             }
            },
            "type": "parcoords"
           }
          ],
          "pie": [
           {
            "automargin": true,
            "type": "pie"
           }
          ],
          "scatter": [
           {
            "marker": {
             "line": {
              "color": "#283442"
             }
            },
            "type": "scatter"
           }
          ],
          "scatter3d": [
           {
            "line": {
             "colorbar": {
              "outlinewidth": 0,
              "ticks": ""
             }
            },
            "marker": {
             "colorbar": {
              "outlinewidth": 0,
              "ticks": ""
             }
            },
            "type": "scatter3d"
           }
          ],
          "scattercarpet": [
           {
            "marker": {
             "colorbar": {
              "outlinewidth": 0,
              "ticks": ""
             }
            },
            "type": "scattercarpet"
           }
          ],
          "scattergeo": [
           {
            "marker": {
             "colorbar": {
              "outlinewidth": 0,
              "ticks": ""
             }
            },
            "type": "scattergeo"
           }
          ],
          "scattergl": [
           {
            "marker": {
             "line": {
              "color": "#283442"
             }
            },
            "type": "scattergl"
           }
          ],
          "scattermapbox": [
           {
            "marker": {
             "colorbar": {
              "outlinewidth": 0,
              "ticks": ""
             }
            },
            "type": "scattermapbox"
           }
          ],
          "scatterpolar": [
           {
            "marker": {
             "colorbar": {
              "outlinewidth": 0,
              "ticks": ""
             }
            },
            "type": "scatterpolar"
           }
          ],
          "scatterpolargl": [
           {
            "marker": {
             "colorbar": {
              "outlinewidth": 0,
              "ticks": ""
             }
            },
            "type": "scatterpolargl"
           }
          ],
          "scatterternary": [
           {
            "marker": {
             "colorbar": {
              "outlinewidth": 0,
              "ticks": ""
             }
            },
            "type": "scatterternary"
           }
          ],
          "surface": [
           {
            "colorbar": {
             "outlinewidth": 0,
             "ticks": ""
            },
            "colorscale": [
             [
              0,
              "#0d0887"
             ],
             [
              0.1111111111111111,
              "#46039f"
             ],
             [
              0.2222222222222222,
              "#7201a8"
             ],
             [
              0.3333333333333333,
              "#9c179e"
             ],
             [
              0.4444444444444444,
              "#bd3786"
             ],
             [
              0.5555555555555556,
              "#d8576b"
             ],
             [
              0.6666666666666666,
              "#ed7953"
             ],
             [
              0.7777777777777778,
              "#fb9f3a"
             ],
             [
              0.8888888888888888,
              "#fdca26"
             ],
             [
              1,
              "#f0f921"
             ]
            ],
            "type": "surface"
           }
          ],
          "table": [
           {
            "cells": {
             "fill": {
              "color": "#506784"
             },
             "line": {
              "color": "rgb(17,17,17)"
             }
            },
            "header": {
             "fill": {
              "color": "#2a3f5f"
             },
             "line": {
              "color": "rgb(17,17,17)"
             }
            },
            "type": "table"
           }
          ]
         },
         "layout": {
          "annotationdefaults": {
           "arrowcolor": "#f2f5fa",
           "arrowhead": 0,
           "arrowwidth": 1
          },
          "autotypenumbers": "strict",
          "coloraxis": {
           "colorbar": {
            "outlinewidth": 0,
            "ticks": ""
           }
          },
          "colorscale": {
           "diverging": [
            [
             0,
             "#8e0152"
            ],
            [
             0.1,
             "#c51b7d"
            ],
            [
             0.2,
             "#de77ae"
            ],
            [
             0.3,
             "#f1b6da"
            ],
            [
             0.4,
             "#fde0ef"
            ],
            [
             0.5,
             "#f7f7f7"
            ],
            [
             0.6,
             "#e6f5d0"
            ],
            [
             0.7,
             "#b8e186"
            ],
            [
             0.8,
             "#7fbc41"
            ],
            [
             0.9,
             "#4d9221"
            ],
            [
             1,
             "#276419"
            ]
           ],
           "sequential": [
            [
             0,
             "#0d0887"
            ],
            [
             0.1111111111111111,
             "#46039f"
            ],
            [
             0.2222222222222222,
             "#7201a8"
            ],
            [
             0.3333333333333333,
             "#9c179e"
            ],
            [
             0.4444444444444444,
             "#bd3786"
            ],
            [
             0.5555555555555556,
             "#d8576b"
            ],
            [
             0.6666666666666666,
             "#ed7953"
            ],
            [
             0.7777777777777778,
             "#fb9f3a"
            ],
            [
             0.8888888888888888,
             "#fdca26"
            ],
            [
             1,
             "#f0f921"
            ]
           ],
           "sequentialminus": [
            [
             0,
             "#0d0887"
            ],
            [
             0.1111111111111111,
             "#46039f"
            ],
            [
             0.2222222222222222,
             "#7201a8"
            ],
            [
             0.3333333333333333,
             "#9c179e"
            ],
            [
             0.4444444444444444,
             "#bd3786"
            ],
            [
             0.5555555555555556,
             "#d8576b"
            ],
            [
             0.6666666666666666,
             "#ed7953"
            ],
            [
             0.7777777777777778,
             "#fb9f3a"
            ],
            [
             0.8888888888888888,
             "#fdca26"
            ],
            [
             1,
             "#f0f921"
            ]
           ]
          },
          "colorway": [
           "#636efa",
           "#EF553B",
           "#00cc96",
           "#ab63fa",
           "#FFA15A",
           "#19d3f3",
           "#FF6692",
           "#B6E880",
           "#FF97FF",
           "#FECB52"
          ],
          "font": {
           "color": "#f2f5fa"
          },
          "geo": {
           "bgcolor": "rgb(17,17,17)",
           "lakecolor": "rgb(17,17,17)",
           "landcolor": "rgb(17,17,17)",
           "showlakes": true,
           "showland": true,
           "subunitcolor": "#506784"
          },
          "hoverlabel": {
           "align": "left"
          },
          "hovermode": "closest",
          "mapbox": {
           "style": "dark"
          },
          "paper_bgcolor": "rgb(17,17,17)",
          "plot_bgcolor": "rgb(17,17,17)",
          "polar": {
           "angularaxis": {
            "gridcolor": "#506784",
            "linecolor": "#506784",
            "ticks": ""
           },
           "bgcolor": "rgb(17,17,17)",
           "radialaxis": {
            "gridcolor": "#506784",
            "linecolor": "#506784",
            "ticks": ""
           }
          },
          "scene": {
           "xaxis": {
            "backgroundcolor": "rgb(17,17,17)",
            "gridcolor": "#506784",
            "gridwidth": 2,
            "linecolor": "#506784",
            "showbackground": true,
            "ticks": "",
            "zerolinecolor": "#C8D4E3"
           },
           "yaxis": {
            "backgroundcolor": "rgb(17,17,17)",
            "gridcolor": "#506784",
            "gridwidth": 2,
            "linecolor": "#506784",
            "showbackground": true,
            "ticks": "",
            "zerolinecolor": "#C8D4E3"
           },
           "zaxis": {
            "backgroundcolor": "rgb(17,17,17)",
            "gridcolor": "#506784",
            "gridwidth": 2,
            "linecolor": "#506784",
            "showbackground": true,
            "ticks": "",
            "zerolinecolor": "#C8D4E3"
           }
          },
          "shapedefaults": {
           "line": {
            "color": "#f2f5fa"
           }
          },
          "sliderdefaults": {
           "bgcolor": "#C8D4E3",
           "bordercolor": "rgb(17,17,17)",
           "borderwidth": 1,
           "tickwidth": 0
          },
          "ternary": {
           "aaxis": {
            "gridcolor": "#506784",
            "linecolor": "#506784",
            "ticks": ""
           },
           "baxis": {
            "gridcolor": "#506784",
            "linecolor": "#506784",
            "ticks": ""
           },
           "bgcolor": "rgb(17,17,17)",
           "caxis": {
            "gridcolor": "#506784",
            "linecolor": "#506784",
            "ticks": ""
           }
          },
          "title": {
           "x": 0.05
          },
          "updatemenudefaults": {
           "bgcolor": "#506784",
           "borderwidth": 0
          },
          "xaxis": {
           "automargin": true,
           "gridcolor": "#283442",
           "linecolor": "#506784",
           "ticks": "",
           "title": {
            "standoff": 15
           },
           "zerolinecolor": "#283442",
           "zerolinewidth": 2
          },
          "yaxis": {
           "automargin": true,
           "gridcolor": "#283442",
           "linecolor": "#506784",
           "ticks": "",
           "title": {
            "standoff": 15
           },
           "zerolinecolor": "#283442",
           "zerolinewidth": 2
          }
         }
        },
        "title": {
         "text": "Portfolio Breakdown"
        },
        "width": 1000
       }
      }
     },
     "metadata": {},
     "output_type": "display_data"
    }
   ],
   "source": [
    "\n",
    "labels = df['symbol']\n",
    "values = df['market_value']\n",
    "\n",
    "# Construct a 2 x 2 Plotly figure\n",
    "fig = make_subplots(rows=1, cols=2, specs=[[{'type': 'pie'}, {'type': 'pie'}]],\n",
    "                    subplot_titles=('Stock', 'Industry'),\n",
    "                    horizontal_spacing= 0.15)\n",
    "\n",
    "# Use `hole` to create a donut-like pie chart\n",
    "fig.add_trace(go.Pie(labels=labels, values=values, hole=.5, name='Market Value',\n",
    "                     marker = dict(line = dict(color = 'black', width = 2)),  legendgroup = '1'), row=1, col=1)\n",
    "fig.add_trace(go.Pie(labels=df['industry'], values=values, hole=.5, name='Industry Value',\n",
    "                     marker = dict(line = dict(color = 'black', width = 2)),  legendgroup = '2'), row=1, col=2)\n",
    "fig.update_layout(\n",
    "    title='Portfolio Breakdown',\n",
    "    template=TEMPLATE,\n",
    "    width=1000,\n",
    "    height=400,\n",
    ")\n",
    "\n",
    "fig.show()"
   ]
  },
  {
   "cell_type": "markdown",
   "id": "aeaa3a64-064c-41db-8eb6-970c4faaaef7",
   "metadata": {},
   "source": [
    "## Portfolio Growth"
   ]
  },
  {
   "cell_type": "code",
   "execution_count": 9,
   "id": "2b6e76dc-31fc-480e-9f8c-0689ba3953ca",
   "metadata": {},
   "outputs": [
    {
     "data": {
      "application/vnd.plotly.v1+json": {
       "config": {
        "plotlyServerURL": "https://plot.ly"
       },
       "data": [
        {
         "alignmentgroup": "True",
         "hovertemplate": "symbol=%{x}<br>gain_loss_pct=%{y}<extra></extra>",
         "legendgroup": "",
         "marker": {
          "color": "#636efa",
          "pattern": {
           "shape": ""
          }
         },
         "name": "",
         "offsetgroup": "",
         "orientation": "v",
         "showlegend": false,
         "textposition": "auto",
         "type": "bar",
         "x": [
          "AMZN",
          "DDOG",
          "GOOG",
          "HAL",
          "TEAM"
         ],
         "xaxis": "x",
         "y": [
          67.4375,
          20.84189713036917,
          40.53157894736843,
          27.740714454696015,
          -55.91048034934498
         ],
         "yaxis": "y"
        }
       ],
       "layout": {
        "barmode": "relative",
        "height": 400,
        "legend": {
         "tracegroupgap": 0
        },
        "margin": {
         "t": 60
        },
        "template": {
         "data": {
          "bar": [
           {
            "error_x": {
             "color": "#f2f5fa"
            },
            "error_y": {
             "color": "#f2f5fa"
            },
            "marker": {
             "line": {
              "color": "rgb(17,17,17)",
              "width": 0.5
             },
             "pattern": {
              "fillmode": "overlay",
              "size": 10,
              "solidity": 0.2
             }
            },
            "type": "bar"
           }
          ],
          "barpolar": [
           {
            "marker": {
             "line": {
              "color": "rgb(17,17,17)",
              "width": 0.5
             },
             "pattern": {
              "fillmode": "overlay",
              "size": 10,
              "solidity": 0.2
             }
            },
            "type": "barpolar"
           }
          ],
          "carpet": [
           {
            "aaxis": {
             "endlinecolor": "#A2B1C6",
             "gridcolor": "#506784",
             "linecolor": "#506784",
             "minorgridcolor": "#506784",
             "startlinecolor": "#A2B1C6"
            },
            "baxis": {
             "endlinecolor": "#A2B1C6",
             "gridcolor": "#506784",
             "linecolor": "#506784",
             "minorgridcolor": "#506784",
             "startlinecolor": "#A2B1C6"
            },
            "type": "carpet"
           }
          ],
          "choropleth": [
           {
            "colorbar": {
             "outlinewidth": 0,
             "ticks": ""
            },
            "type": "choropleth"
           }
          ],
          "contour": [
           {
            "colorbar": {
             "outlinewidth": 0,
             "ticks": ""
            },
            "colorscale": [
             [
              0,
              "#0d0887"
             ],
             [
              0.1111111111111111,
              "#46039f"
             ],
             [
              0.2222222222222222,
              "#7201a8"
             ],
             [
              0.3333333333333333,
              "#9c179e"
             ],
             [
              0.4444444444444444,
              "#bd3786"
             ],
             [
              0.5555555555555556,
              "#d8576b"
             ],
             [
              0.6666666666666666,
              "#ed7953"
             ],
             [
              0.7777777777777778,
              "#fb9f3a"
             ],
             [
              0.8888888888888888,
              "#fdca26"
             ],
             [
              1,
              "#f0f921"
             ]
            ],
            "type": "contour"
           }
          ],
          "contourcarpet": [
           {
            "colorbar": {
             "outlinewidth": 0,
             "ticks": ""
            },
            "type": "contourcarpet"
           }
          ],
          "heatmap": [
           {
            "colorbar": {
             "outlinewidth": 0,
             "ticks": ""
            },
            "colorscale": [
             [
              0,
              "#0d0887"
             ],
             [
              0.1111111111111111,
              "#46039f"
             ],
             [
              0.2222222222222222,
              "#7201a8"
             ],
             [
              0.3333333333333333,
              "#9c179e"
             ],
             [
              0.4444444444444444,
              "#bd3786"
             ],
             [
              0.5555555555555556,
              "#d8576b"
             ],
             [
              0.6666666666666666,
              "#ed7953"
             ],
             [
              0.7777777777777778,
              "#fb9f3a"
             ],
             [
              0.8888888888888888,
              "#fdca26"
             ],
             [
              1,
              "#f0f921"
             ]
            ],
            "type": "heatmap"
           }
          ],
          "heatmapgl": [
           {
            "colorbar": {
             "outlinewidth": 0,
             "ticks": ""
            },
            "colorscale": [
             [
              0,
              "#0d0887"
             ],
             [
              0.1111111111111111,
              "#46039f"
             ],
             [
              0.2222222222222222,
              "#7201a8"
             ],
             [
              0.3333333333333333,
              "#9c179e"
             ],
             [
              0.4444444444444444,
              "#bd3786"
             ],
             [
              0.5555555555555556,
              "#d8576b"
             ],
             [
              0.6666666666666666,
              "#ed7953"
             ],
             [
              0.7777777777777778,
              "#fb9f3a"
             ],
             [
              0.8888888888888888,
              "#fdca26"
             ],
             [
              1,
              "#f0f921"
             ]
            ],
            "type": "heatmapgl"
           }
          ],
          "histogram": [
           {
            "marker": {
             "pattern": {
              "fillmode": "overlay",
              "size": 10,
              "solidity": 0.2
             }
            },
            "type": "histogram"
           }
          ],
          "histogram2d": [
           {
            "colorbar": {
             "outlinewidth": 0,
             "ticks": ""
            },
            "colorscale": [
             [
              0,
              "#0d0887"
             ],
             [
              0.1111111111111111,
              "#46039f"
             ],
             [
              0.2222222222222222,
              "#7201a8"
             ],
             [
              0.3333333333333333,
              "#9c179e"
             ],
             [
              0.4444444444444444,
              "#bd3786"
             ],
             [
              0.5555555555555556,
              "#d8576b"
             ],
             [
              0.6666666666666666,
              "#ed7953"
             ],
             [
              0.7777777777777778,
              "#fb9f3a"
             ],
             [
              0.8888888888888888,
              "#fdca26"
             ],
             [
              1,
              "#f0f921"
             ]
            ],
            "type": "histogram2d"
           }
          ],
          "histogram2dcontour": [
           {
            "colorbar": {
             "outlinewidth": 0,
             "ticks": ""
            },
            "colorscale": [
             [
              0,
              "#0d0887"
             ],
             [
              0.1111111111111111,
              "#46039f"
             ],
             [
              0.2222222222222222,
              "#7201a8"
             ],
             [
              0.3333333333333333,
              "#9c179e"
             ],
             [
              0.4444444444444444,
              "#bd3786"
             ],
             [
              0.5555555555555556,
              "#d8576b"
             ],
             [
              0.6666666666666666,
              "#ed7953"
             ],
             [
              0.7777777777777778,
              "#fb9f3a"
             ],
             [
              0.8888888888888888,
              "#fdca26"
             ],
             [
              1,
              "#f0f921"
             ]
            ],
            "type": "histogram2dcontour"
           }
          ],
          "mesh3d": [
           {
            "colorbar": {
             "outlinewidth": 0,
             "ticks": ""
            },
            "type": "mesh3d"
           }
          ],
          "parcoords": [
           {
            "line": {
             "colorbar": {
              "outlinewidth": 0,
              "ticks": ""
             }
            },
            "type": "parcoords"
           }
          ],
          "pie": [
           {
            "automargin": true,
            "type": "pie"
           }
          ],
          "scatter": [
           {
            "marker": {
             "line": {
              "color": "#283442"
             }
            },
            "type": "scatter"
           }
          ],
          "scatter3d": [
           {
            "line": {
             "colorbar": {
              "outlinewidth": 0,
              "ticks": ""
             }
            },
            "marker": {
             "colorbar": {
              "outlinewidth": 0,
              "ticks": ""
             }
            },
            "type": "scatter3d"
           }
          ],
          "scattercarpet": [
           {
            "marker": {
             "colorbar": {
              "outlinewidth": 0,
              "ticks": ""
             }
            },
            "type": "scattercarpet"
           }
          ],
          "scattergeo": [
           {
            "marker": {
             "colorbar": {
              "outlinewidth": 0,
              "ticks": ""
             }
            },
            "type": "scattergeo"
           }
          ],
          "scattergl": [
           {
            "marker": {
             "line": {
              "color": "#283442"
             }
            },
            "type": "scattergl"
           }
          ],
          "scattermapbox": [
           {
            "marker": {
             "colorbar": {
              "outlinewidth": 0,
              "ticks": ""
             }
            },
            "type": "scattermapbox"
           }
          ],
          "scatterpolar": [
           {
            "marker": {
             "colorbar": {
              "outlinewidth": 0,
              "ticks": ""
             }
            },
            "type": "scatterpolar"
           }
          ],
          "scatterpolargl": [
           {
            "marker": {
             "colorbar": {
              "outlinewidth": 0,
              "ticks": ""
             }
            },
            "type": "scatterpolargl"
           }
          ],
          "scatterternary": [
           {
            "marker": {
             "colorbar": {
              "outlinewidth": 0,
              "ticks": ""
             }
            },
            "type": "scatterternary"
           }
          ],
          "surface": [
           {
            "colorbar": {
             "outlinewidth": 0,
             "ticks": ""
            },
            "colorscale": [
             [
              0,
              "#0d0887"
             ],
             [
              0.1111111111111111,
              "#46039f"
             ],
             [
              0.2222222222222222,
              "#7201a8"
             ],
             [
              0.3333333333333333,
              "#9c179e"
             ],
             [
              0.4444444444444444,
              "#bd3786"
             ],
             [
              0.5555555555555556,
              "#d8576b"
             ],
             [
              0.6666666666666666,
              "#ed7953"
             ],
             [
              0.7777777777777778,
              "#fb9f3a"
             ],
             [
              0.8888888888888888,
              "#fdca26"
             ],
             [
              1,
              "#f0f921"
             ]
            ],
            "type": "surface"
           }
          ],
          "table": [
           {
            "cells": {
             "fill": {
              "color": "#506784"
             },
             "line": {
              "color": "rgb(17,17,17)"
             }
            },
            "header": {
             "fill": {
              "color": "#2a3f5f"
             },
             "line": {
              "color": "rgb(17,17,17)"
             }
            },
            "type": "table"
           }
          ]
         },
         "layout": {
          "annotationdefaults": {
           "arrowcolor": "#f2f5fa",
           "arrowhead": 0,
           "arrowwidth": 1
          },
          "autotypenumbers": "strict",
          "coloraxis": {
           "colorbar": {
            "outlinewidth": 0,
            "ticks": ""
           }
          },
          "colorscale": {
           "diverging": [
            [
             0,
             "#8e0152"
            ],
            [
             0.1,
             "#c51b7d"
            ],
            [
             0.2,
             "#de77ae"
            ],
            [
             0.3,
             "#f1b6da"
            ],
            [
             0.4,
             "#fde0ef"
            ],
            [
             0.5,
             "#f7f7f7"
            ],
            [
             0.6,
             "#e6f5d0"
            ],
            [
             0.7,
             "#b8e186"
            ],
            [
             0.8,
             "#7fbc41"
            ],
            [
             0.9,
             "#4d9221"
            ],
            [
             1,
             "#276419"
            ]
           ],
           "sequential": [
            [
             0,
             "#0d0887"
            ],
            [
             0.1111111111111111,
             "#46039f"
            ],
            [
             0.2222222222222222,
             "#7201a8"
            ],
            [
             0.3333333333333333,
             "#9c179e"
            ],
            [
             0.4444444444444444,
             "#bd3786"
            ],
            [
             0.5555555555555556,
             "#d8576b"
            ],
            [
             0.6666666666666666,
             "#ed7953"
            ],
            [
             0.7777777777777778,
             "#fb9f3a"
            ],
            [
             0.8888888888888888,
             "#fdca26"
            ],
            [
             1,
             "#f0f921"
            ]
           ],
           "sequentialminus": [
            [
             0,
             "#0d0887"
            ],
            [
             0.1111111111111111,
             "#46039f"
            ],
            [
             0.2222222222222222,
             "#7201a8"
            ],
            [
             0.3333333333333333,
             "#9c179e"
            ],
            [
             0.4444444444444444,
             "#bd3786"
            ],
            [
             0.5555555555555556,
             "#d8576b"
            ],
            [
             0.6666666666666666,
             "#ed7953"
            ],
            [
             0.7777777777777778,
             "#fb9f3a"
            ],
            [
             0.8888888888888888,
             "#fdca26"
            ],
            [
             1,
             "#f0f921"
            ]
           ]
          },
          "colorway": [
           "#636efa",
           "#EF553B",
           "#00cc96",
           "#ab63fa",
           "#FFA15A",
           "#19d3f3",
           "#FF6692",
           "#B6E880",
           "#FF97FF",
           "#FECB52"
          ],
          "font": {
           "color": "#f2f5fa"
          },
          "geo": {
           "bgcolor": "rgb(17,17,17)",
           "lakecolor": "rgb(17,17,17)",
           "landcolor": "rgb(17,17,17)",
           "showlakes": true,
           "showland": true,
           "subunitcolor": "#506784"
          },
          "hoverlabel": {
           "align": "left"
          },
          "hovermode": "closest",
          "mapbox": {
           "style": "dark"
          },
          "paper_bgcolor": "rgb(17,17,17)",
          "plot_bgcolor": "rgb(17,17,17)",
          "polar": {
           "angularaxis": {
            "gridcolor": "#506784",
            "linecolor": "#506784",
            "ticks": ""
           },
           "bgcolor": "rgb(17,17,17)",
           "radialaxis": {
            "gridcolor": "#506784",
            "linecolor": "#506784",
            "ticks": ""
           }
          },
          "scene": {
           "xaxis": {
            "backgroundcolor": "rgb(17,17,17)",
            "gridcolor": "#506784",
            "gridwidth": 2,
            "linecolor": "#506784",
            "showbackground": true,
            "ticks": "",
            "zerolinecolor": "#C8D4E3"
           },
           "yaxis": {
            "backgroundcolor": "rgb(17,17,17)",
            "gridcolor": "#506784",
            "gridwidth": 2,
            "linecolor": "#506784",
            "showbackground": true,
            "ticks": "",
            "zerolinecolor": "#C8D4E3"
           },
           "zaxis": {
            "backgroundcolor": "rgb(17,17,17)",
            "gridcolor": "#506784",
            "gridwidth": 2,
            "linecolor": "#506784",
            "showbackground": true,
            "ticks": "",
            "zerolinecolor": "#C8D4E3"
           }
          },
          "shapedefaults": {
           "line": {
            "color": "#f2f5fa"
           }
          },
          "sliderdefaults": {
           "bgcolor": "#C8D4E3",
           "bordercolor": "rgb(17,17,17)",
           "borderwidth": 1,
           "tickwidth": 0
          },
          "ternary": {
           "aaxis": {
            "gridcolor": "#506784",
            "linecolor": "#506784",
            "ticks": ""
           },
           "baxis": {
            "gridcolor": "#506784",
            "linecolor": "#506784",
            "ticks": ""
           },
           "bgcolor": "rgb(17,17,17)",
           "caxis": {
            "gridcolor": "#506784",
            "linecolor": "#506784",
            "ticks": ""
           }
          },
          "title": {
           "x": 0.05
          },
          "updatemenudefaults": {
           "bgcolor": "#506784",
           "borderwidth": 0
          },
          "xaxis": {
           "automargin": true,
           "gridcolor": "#283442",
           "linecolor": "#506784",
           "ticks": "",
           "title": {
            "standoff": 15
           },
           "zerolinecolor": "#283442",
           "zerolinewidth": 2
          },
          "yaxis": {
           "automargin": true,
           "gridcolor": "#283442",
           "linecolor": "#506784",
           "ticks": "",
           "title": {
            "standoff": 15
           },
           "zerolinecolor": "#283442",
           "zerolinewidth": 2
          }
         }
        },
        "title": {
         "text": "Portfolio Growth"
        },
        "width": 600,
        "xaxis": {
         "anchor": "y",
         "domain": [
          0,
          1
         ],
         "title": {
          "text": "Symbol"
         }
        },
        "yaxis": {
         "anchor": "x",
         "domain": [
          0,
          1
         ],
         "title": {
          "text": "Growth %"
         }
        }
       }
      }
     },
     "metadata": {},
     "output_type": "display_data"
    }
   ],
   "source": [
    "fig = px.bar(df, x='symbol', y='gain_loss_pct')\n",
    "fig['layout']['yaxis']['title']='Growth %'\n",
    "fig['layout']['xaxis']['title']='Symbol'\n",
    "fig.update_layout(\n",
    "    title='Portfolio Growth',\n",
    "    template=TEMPLATE,\n",
    "    width=600,\n",
    "    height=400,\n",
    ")\n",
    "\n",
    "fig.show()"
   ]
  },
  {
   "cell_type": "markdown",
   "id": "b1db6b66-99bc-4b36-b236-a79641644e7c",
   "metadata": {},
   "source": [
    "## Portfolio summary"
   ]
  },
  {
   "cell_type": "code",
   "execution_count": 10,
   "id": "a6ca5a6c-fe19-464d-9d11-0212ebc36394",
   "metadata": {},
   "outputs": [
    {
     "data": {
      "text/html": [
       "<style type=\"text/css\">\n",
       "#T_87807 th.col_heading {\n",
       "  text-align: center;\n",
       "}\n",
       "#T_87807 caption {\n",
       "  text-align: center;\n",
       "  font-size: 12pt;\n",
       "  font-weight: bold;\n",
       "}\n",
       "#T_87807_row0_col2, #T_87807_row0_col3 {\n",
       "  color: green;\n",
       "}\n",
       "</style>\n",
       "<table id=\"T_87807\">\n",
       "  <caption>My Portfolio Summary</caption>\n",
       "  <thead>\n",
       "    <tr>\n",
       "      <th id=\"T_87807_level0_col0\" class=\"col_heading level0 col0\" >Total Cost</th>\n",
       "      <th id=\"T_87807_level0_col1\" class=\"col_heading level0 col1\" >Total Market Value</th>\n",
       "      <th id=\"T_87807_level0_col2\" class=\"col_heading level0 col2\" >Gain/Loss $</th>\n",
       "      <th id=\"T_87807_level0_col3\" class=\"col_heading level0 col3\" >Gain/Loss %</th>\n",
       "    </tr>\n",
       "  </thead>\n",
       "  <tbody>\n",
       "    <tr>\n",
       "      <td id=\"T_87807_row0_col0\" class=\"data row0 col0\" >$29,734.00</td>\n",
       "      <td id=\"T_87807_row0_col1\" class=\"data row0 col1\" >$33,513.72</td>\n",
       "      <td id=\"T_87807_row0_col2\" class=\"data row0 col2\" >🡅 $3,779.72</td>\n",
       "      <td id=\"T_87807_row0_col3\" class=\"data row0 col3\" >🡅 12.71%</td>\n",
       "    </tr>\n",
       "  </tbody>\n",
       "</table>\n"
      ],
      "text/plain": [
       "<pandas.io.formats.style.Styler at 0x7efe75653200>"
      ]
     },
     "execution_count": 10,
     "metadata": {},
     "output_type": "execute_result"
    }
   ],
   "source": [
    "cost = df['cost'].sum()\n",
    "market_value = df['market_value'].sum()\n",
    "summary_df = pd.DataFrame(np.array([[cost, market_value, 0, 0]]),\n",
    "                   columns=['tot_cost', 'tot_market_value', 'gain_loss', 'gain_loss_pct'])\n",
    "gain = market_value - cost\n",
    "summary_df.at[0, 'gain_loss'] = gain\n",
    "summary_df.at[0, 'gain_loss_pct'] = (gain/cost) * 100\n",
    "\n",
    "summary_df.style.set_caption('My Portfolio Summary').set_table_styles(\n",
    "    [{'selector': 'th.col_heading', 'props': 'text-align: center'},\n",
    "     {'selector': 'caption', 'props': [('text-align', 'center'),\n",
    "                                       ('font-size', '12pt'), ('font-weight', 'bold')]}]).map(\n",
    "    color_arrow, subset=['gain_loss','gain_loss_pct']).format({\n",
    "        'tot_cost': '${:,.2f}', 'tot_market_value': '${:,.2f}'}).format(\n",
    "    dollar_change, subset=['gain_loss']).format(pct_change, subset=['gain_loss_pct']).format_index(\n",
    "    column_formatter, axis=1).hide(axis='index')"
   ]
  }
 ],
 "metadata": {
  "kernelspec": {
   "display_name": "Python 3 (ipykernel)",
   "language": "python",
   "name": "python3"
  },
  "language_info": {
   "codemirror_mode": {
    "name": "ipython",
    "version": 3
   },
   "file_extension": ".py",
   "mimetype": "text/x-python",
   "name": "python",
   "nbconvert_exporter": "python",
   "pygments_lexer": "ipython3",
   "version": "3.12.1"
  }
 },
 "nbformat": 4,
 "nbformat_minor": 5
}
