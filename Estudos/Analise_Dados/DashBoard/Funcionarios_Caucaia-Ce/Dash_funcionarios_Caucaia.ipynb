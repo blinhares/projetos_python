{
 "cells": [
  {
   "cell_type": "code",
   "execution_count": 10,
   "metadata": {},
   "outputs": [
    {
     "name": "stdout",
     "output_type": "stream",
     "text": [
      "Defaulting to user installation because normal site-packages is not writeable\n",
      "Requirement already satisfied: xlrd in /home/b/.local/lib/python3.12/site-packages (2.0.1)\n",
      "\n",
      "\u001b[1m[\u001b[0m\u001b[34;49mnotice\u001b[0m\u001b[1;39;49m]\u001b[0m\u001b[39;49m A new release of pip is available: \u001b[0m\u001b[31;49m23.3.1\u001b[0m\u001b[39;49m -> \u001b[0m\u001b[32;49m23.3.2\u001b[0m\n",
      "\u001b[1m[\u001b[0m\u001b[34;49mnotice\u001b[0m\u001b[1;39;49m]\u001b[0m\u001b[39;49m To update, run: \u001b[0m\u001b[32;49mpython3.12 -m pip install --upgrade pip\u001b[0m\n"
     ]
    }
   ],
   "source": [
    "import pandas as pd\n",
    "\n",
    "MESES = ['01','02','03','04','05','06','07','08','09','10','11','12']\n",
    "ANOS = ['2022','2023']\n"
   ]
  },
  {
   "cell_type": "code",
   "execution_count": 11,
   "metadata": {},
   "outputs": [],
   "source": [
    "###Definindo Função para criar link dos aquivos desejados###\n",
    "def url_mes_ano (mes, ano):\n",
    "    mes=str(mes)\n",
    "    ano=str(ano)\n",
    "    api_url_prefix='https://api.portaltransparencia.sead.caucaia.ce.gov.br/funcionario/excel/1/'\n",
    "    api_url_final=api_url_prefix + mes + '/' + ano\n",
    "    return api_url_final\n"
   ]
  },
  {
   "cell_type": "code",
   "execution_count": 12,
   "metadata": {},
   "outputs": [],
   "source": [
    "#### criando funcao pra coletar todos os dados ####\n",
    "def download_all_data(meses:list, anos:list):\n",
    "    df_geral = pd.DataFrame()\n",
    "    for ano in anos:\n",
    "        for mes in meses:\n",
    "            try:\n",
    "                df = pd.read_excel(url_mes_ano(mes,ano), header=1) # ler o arquivo diretamente do link gerado\n",
    "                df = df.dropna(subset=['Nome']) #limpa as linhas que nao possuem nomes\n",
    "                df['Mes'] = mes #cria uma coluna e coloca o mes\n",
    "                df_geral = pd.concat([df_geral,df])\n",
    "                \n",
    "            except:\n",
    "                pass\n",
    "    return df_geral.reset_index() # retorna o DF com os indicis corrigidos\n"
   ]
  },
  {
   "cell_type": "code",
   "execution_count": 14,
   "metadata": {},
   "outputs": [],
   "source": [
    "####fazendo o download de tudo e salvando #####\n",
    "# df = download_all_data(meses=MESES,anos=ANOS)\n",
    "# df.to_csv('dados.csv')"
   ]
  },
  {
   "cell_type": "code",
   "execution_count": 40,
   "metadata": {},
   "outputs": [],
   "source": [
    "#### carregando arquivos ###\n",
    "df = pd.read_csv('dados.csv', index_col='index')\n",
    "df = df.reset_index()\n",
    "df = df.drop(columns=['Unnamed: 0','index'])\n",
    "\n"
   ]
  },
  {
   "cell_type": "code",
   "execution_count": 62,
   "metadata": {},
   "outputs": [],
   "source": [
    "def converter_texto_em_float(texto:str):\n",
    "    try:\n",
    "        texto = texto.replace('R$','').strip()\n",
    "        texto = texto.replace(',','.')\n",
    "        return float(texto)\n",
    "    except:\n",
    "        return texto\n",
    "    \n"
   ]
  },
  {
   "cell_type": "code",
   "execution_count": 70,
   "metadata": {},
   "outputs": [
    {
     "data": {
      "text/plain": [
       "Matricula      int64\n",
       "Nome          object\n",
       "Orgão         object\n",
       "Setor         object\n",
       "Cargo         object\n",
       "Cargo2       float64\n",
       "Provento     float64\n",
       "Desconto     float64\n",
       "Liquido       object\n",
       "Mes            int64\n",
       "dtype: object"
      ]
     },
     "execution_count": 70,
     "metadata": {},
     "output_type": "execute_result"
    }
   ],
   "source": [
    "df2= df.map(converter_texto_em_float)\n",
    "df2.dtypes"
   ]
  }
 ],
 "metadata": {
  "kernelspec": {
   "display_name": "Python 3",
   "language": "python",
   "name": "python3"
  },
  "language_info": {
   "codemirror_mode": {
    "name": "ipython",
    "version": 3
   },
   "file_extension": ".py",
   "mimetype": "text/x-python",
   "name": "python",
   "nbconvert_exporter": "python",
   "pygments_lexer": "ipython3",
   "version": "3.12.1"
  }
 },
 "nbformat": 4,
 "nbformat_minor": 2
}
