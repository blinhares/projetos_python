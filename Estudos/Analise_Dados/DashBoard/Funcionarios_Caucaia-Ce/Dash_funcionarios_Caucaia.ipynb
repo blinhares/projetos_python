{
 "cells": [
  {
   "cell_type": "code",
   "execution_count": 60,
   "metadata": {},
   "outputs": [],
   "source": [
    "import pandas as pd\n",
    "# !pip install pyarrow\n",
    "\n",
    "MESES = ['01','02','03','04','05','06','07','08','09','10','11','12']\n",
    "ANOS = ['2022','2023']\n",
    "COL_INTERESSE = ['Matricula','Nome','Orgão','Setor','Cargo','Provento','Date']\n"
   ]
  },
  {
   "cell_type": "code",
   "execution_count": 61,
   "metadata": {},
   "outputs": [],
   "source": [
    "###Definindo Função para criar link dos aquivos desejados###\n",
    "def url_mes_ano (mes, ano):\n",
    "    mes=str(mes)\n",
    "    ano=str(ano)\n",
    "    api_url_prefix='https://api.portaltransparencia.sead.caucaia.ce.gov.br/funcionario/excel/1/'\n",
    "    api_url_final=api_url_prefix + mes + '/' + ano\n",
    "    return api_url_final\n"
   ]
  },
  {
   "cell_type": "code",
   "execution_count": 62,
   "metadata": {},
   "outputs": [],
   "source": [
    "#### criando funcao pra coletar todos os dados ####\n",
    "def download_all_data(meses:list, anos:list):\n",
    "    df_geral = pd.DataFrame()\n",
    "    for ano in anos:\n",
    "        for mes in meses:\n",
    "            try:\n",
    "                df = pd.read_excel(url_mes_ano(mes,ano), header=1) # ler o arquivo diretamente do link gerado\n",
    "                df['Date'] = pd.to_datetime(f'{ano}-{mes}-01') #cria coluna do mes e ano no formato ce data\n",
    "                df_geral = pd.concat([df_geral,df])\n",
    "                \n",
    "            except:\n",
    "                pass\n",
    "    df = df_geral.reset_index()# retorna o DF com os indices corrigidos\n",
    "\n",
    "    return df[COL_INTERESSE]"
   ]
  },
  {
   "cell_type": "code",
   "execution_count": 63,
   "metadata": {},
   "outputs": [],
   "source": [
    "def converter_texto_em_float(texto:str):\n",
    "    try:\n",
    "        texto = texto.replace('R$','').strip()\n",
    "        texto = texto.replace(',','.')\n",
    "        return float(texto)\n",
    "    except:\n",
    "        return texto\n",
    "    \n"
   ]
  },
  {
   "cell_type": "code",
   "execution_count": 64,
   "metadata": {},
   "outputs": [],
   "source": [
    "def limpar_dados(df:pd.DataFrame):\n",
    "    df = df.dropna(subset=['Nome']) #limpa as linhas que nao possuem nomes\n",
    "    df['Provento'] = df['Provento'].map(converter_texto_em_float)#converter valores que possuem prefixo R$ em float\n",
    "    #removendo no nomes cujos proventos sao igual a zero\n",
    "    index_proventos_nulos = df[df['Provento']== 0].index.to_list() #coletando a lista de indices cujos os proventos sao zero\n",
    "    for indice in index_proventos_nulos:\n",
    "        df = df.drop(index=indice) #remove cada indice da lista\n",
    "    df = df.reset_index() #reseta index para a ordem correta\n",
    "    df = df[COL_INTERESSE]\n",
    "\n",
    "    return df\n"
   ]
  },
  {
   "cell_type": "code",
   "execution_count": 65,
   "metadata": {},
   "outputs": [
    {
     "name": "stdout",
     "output_type": "stream",
     "text": [
      "Dados não encontrados. Realizando o download...\n"
     ]
    },
    {
     "name": "stderr",
     "output_type": "stream",
     "text": [
      "/tmp/ipykernel_9927/203533954.py:3: SettingWithCopyWarning: \n",
      "A value is trying to be set on a copy of a slice from a DataFrame.\n",
      "Try using .loc[row_indexer,col_indexer] = value instead\n",
      "\n",
      "See the caveats in the documentation: https://pandas.pydata.org/pandas-docs/stable/user_guide/indexing.html#returning-a-view-versus-a-copy\n",
      "  df['Provento'] = df['Provento'].map(converter_texto_em_float)#converter valores que possuem prefixo R$ em float\n"
     ]
    }
   ],
   "source": [
    "#### carregando arquivos ###\n",
    "file_name = 'dados.feather'\n",
    "\n",
    "try:\n",
    "    df = pd.read_feather(file_name)\n",
    "except:\n",
    "    print('Dados não encontrados. Realizando o download...')\n",
    "    ####fazendo o download de tudo e salvando #####\n",
    "    df = download_all_data(meses=MESES,anos=ANOS)\n",
    "    df = limpar_dados(df)\n",
    "    df.to_feather(file_name)\n",
    "# df = limpar_dados(df=df)\n"
   ]
  },
  {
   "cell_type": "code",
   "execution_count": 67,
   "metadata": {},
   "outputs": [
    {
     "name": "stdout",
     "output_type": "stream",
     "text": [
      "Provento maximo: R$89166.66\n",
      "Provento medio: R$4767.51\n",
      "O mairo valor pago foi no mes 10/2022, no valor de: R$108521808.42\n"
     ]
    }
   ],
   "source": [
    "#maximo valor pago a prefeitura\n",
    "provento_max_global = df.describe().to_dict()['Provento']['max']\n",
    "provento_mean_global = df.describe().to_dict()['Provento']['mean']\n",
    "\n",
    "print(f'Provento maximo: R${provento_max_global}')\n",
    "print(f'Provento medio: R${provento_mean_global:.2f}')\n",
    "#mes com mais proventos\n",
    "df_aux = df.groupby([pd.Grouper(key='Date',axis=0, freq='M')]).sum().sort_values('Provento', ascending=False).head(1)\n",
    "provento_max_pago_mes_numero = df_aux['Provento'].keys().month.to_list()[0]\n",
    "provento_max_pago_ano_numero = df_aux['Provento'].keys().year.to_list()[0]\n",
    "provento_max_pago_mes_valor = df_aux['Provento'].to_list()[0]\n",
    "\n",
    "print(f'O mairo valor pago foi no mes {provento_max_pago_mes_numero}/{provento_max_pago_ano_numero}, no valor de: R${provento_max_pago_mes_valor}')\n",
    "\n"
   ]
  },
  {
   "cell_type": "code",
   "execution_count": 68,
   "metadata": {},
   "outputs": [],
   "source": [
    "df_aux = df[['Setor', 'Provento']].groupby('Setor').sum().sort_values('Provento', ascending=False)\n",
    "setor_maior_gasto = df_aux.head(1).index.to_list()[0]"
   ]
  },
  {
   "cell_type": "code",
   "execution_count": 69,
   "metadata": {},
   "outputs": [],
   "source": [
    "#importando dash plotly\n",
    "from dash import Dash, html, dash_table, dcc, Input, Output, callback\n",
    "import plotly.express as px\n",
    "import matplotlib.pyplot as plt\n",
    "import dash_bootstrap_components as dbc\n",
    "from dash.dash_table.Format import Format, Scheme, Sign"
   ]
  },
  {
   "cell_type": "code",
   "execution_count": 73,
   "metadata": {},
   "outputs": [],
   "source": [
    "@callback(\n",
    "    Output(\"graph\", \"figure\"), Input(\"selection\", \"value\")\n",
    ")\n",
    "def display_animated_graph(selection):\n",
    "    animations = {\n",
    "        \"GDP - Scatter\": px.scatter(\n",
    "            df,\n",
    "            x=df.index,\n",
    "            y=\"Provento\",\n",
    "            animation_frame=df.index,\n",
    "            animation_group='Setor',\n",
    "            size=\"pop\",\n",
    "            color=\"continent\",\n",
    "            hover_name=\"country\",\n",
    "            log_x=True,\n",
    "            size_max=55,\n",
    "            range_x=[100, 100000],\n",
    "            range_y=[25, 90],\n",
    "        ),\n",
    "        \"Population - Bar\": px.bar(\n",
    "            df,\n",
    "            x=\"continent\",\n",
    "            y=\"pop\",\n",
    "            color=\"continent\",\n",
    "            animation_frame=\"year\",\n",
    "            animation_group=\"country\",\n",
    "            range_y=[0, 4000000000],\n",
    "        ),\n",
    "    }\n",
    "    return animations[selection]"
   ]
  },
  {
   "cell_type": "code",
   "execution_count": null,
   "metadata": {},
   "outputs": [],
   "source": []
  },
  {
   "cell_type": "code",
   "execution_count": 72,
   "metadata": {},
   "outputs": [
    {
     "data": {
      "text/html": [
       "\n",
       "        <iframe\n",
       "            width=\"100%\"\n",
       "            height=\"650\"\n",
       "            src=\"http://127.0.0.1:8050/\"\n",
       "            frameborder=\"0\"\n",
       "            allowfullscreen\n",
       "            \n",
       "        ></iframe>\n",
       "        "
      ],
      "text/plain": [
       "<IPython.lib.display.IFrame at 0x7fd695175d30>"
      ]
     },
     "metadata": {},
     "output_type": "display_data"
    }
   ],
   "source": [
    "STYLE01 = {'color':'white','text-align': 'center'}\n",
    "\n",
    "#iniciar o app\n",
    "external_stylesheets = [dbc.themes.CERULEAN]\n",
    "app = Dash(__name__,external_stylesheets=external_stylesheets)\n",
    "\n",
    "#layout\n",
    "app.layout = dbc.Container([\n",
    "    dbc.Row([\n",
    "        html.Br([])\n",
    "        ]),\n",
    "    dbc.Row([\n",
    "        dbc.Col([\n",
    "            html.H1('Acompanhamento de Funcionarios da Caucaia-CE',style=STYLE01)\n",
    "        ],width={\"size\": 8, \"offset\": 2}),\n",
    "        dbc.Col([\n",
    "            html.Img(src='https://www.caucaia.ce.gov.br/imagens/logo.png', style={'width': '150px'}),\n",
    "        ],width={\"size\": 1, \"order\": \"last\"}),\n",
    "\n",
    "        html.Br([]),\n",
    "        html.Br([])\n",
    "\n",
    "        ]),\n",
    "    dbc.Row([\n",
    "        dbc.Col([html.H4('Maior Salário Pago:', \n",
    "                         style=STYLE01),\n",
    "                html.H6(f'R$ {provento_max_global}', \n",
    "                         style=STYLE01)\n",
    "                         ]),\n",
    "        dbc.Col([html.H4('Salário Médio:', \n",
    "                         style=STYLE01),\n",
    "                html.H6(f'R$ {provento_mean_global:.2f}', \n",
    "                         style=STYLE01)\n",
    "                         ]),\n",
    "        dbc.Col([html.H4('Maior Gasto Mensal:', \n",
    "                         style=STYLE01),\n",
    "                html.H6(f'R$ {provento_max_pago_mes_valor} ({provento_max_pago_mes_numero}/{provento_max_pago_ano_numero})', \n",
    "                         style=STYLE01)\n",
    "                         ]),\n",
    "        dbc.Col([html.H4('Setor com Maior Gasto:', \n",
    "                         style=STYLE01),\n",
    "                html.H6(f'{setor_maior_gasto}', style=STYLE01)\n",
    "                         ]),\n",
    "        ]),\n",
    "    \n",
    "    dbc.Row([\n",
    "            html.Br([])\n",
    "             ]),\n",
    "    \n",
    "    dbc.Row([\n",
    "            html.Div([\n",
    "        html.H4(\"Animated GDP and population over decades\"),\n",
    "        html.P(\"Select an animation:\"),\n",
    "        dcc.RadioItems(\n",
    "            id=\"selection\",\n",
    "            options=[\"GDP - Scatter\", \"Population - Bar\"],\n",
    "            value=\"GDP - Scatter\",\n",
    "        ),\n",
    "        dcc.Loading(dcc.Graph(id=\"graph\"), type=\"cube\"),\n",
    "    ])\n",
    "\n",
    "\n",
    "    ])\n",
    "\n",
    "], style={'backgroundColor':'#c7254e'})\n",
    "\n",
    "#run\n",
    "if __name__=='__main__':\n",
    "    app.run(debug=True)"
   ]
  },
  {
   "cell_type": "code",
   "execution_count": null,
   "metadata": {},
   "outputs": [],
   "source": []
  }
 ],
 "metadata": {
  "kernelspec": {
   "display_name": "Python 3",
   "language": "python",
   "name": "python3"
  },
  "language_info": {
   "codemirror_mode": {
    "name": "ipython",
    "version": 3
   },
   "file_extension": ".py",
   "mimetype": "text/x-python",
   "name": "python",
   "nbconvert_exporter": "python",
   "pygments_lexer": "ipython3",
   "version": "3.12.1"
  }
 },
 "nbformat": 4,
 "nbformat_minor": 2
}
