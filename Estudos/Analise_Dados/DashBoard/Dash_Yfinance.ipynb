{
 "cells": [
  {
   "cell_type": "code",
   "execution_count": null,
   "metadata": {},
   "outputs": [],
   "source": [
    "import yfinance as yf\n",
    "import pandas as pd\n",
    "#importando dash plotly\n",
    "from dash import Dash, html, dash_table, dcc, Input, Output\n",
    "import plotly.express as px\n",
    "import matplotlib.pyplot as plt\n",
    "\n",
    "\n",
    "#carregando lista de simbolos\n",
    "# lista_de_simbolos = pd.read_csv('symbols_valid_meta.csv')\n",
    "# display(lista_de_simbolos.head(2))\n",
    "###para testes ####\n",
    "lista_de_simbolos = ['MSFT34.SA', 'PETR3.SA', 'AAPL34.SA']\n",
    "\n",
    "#definindo Periodos\n",
    "PERIODOS = ['5y','2y','1y','9mo','6mo','3mo','1mo','5d','1d'] #len 9\n"
   ]
  },
  {
   "cell_type": "code",
   "execution_count": null,
   "metadata": {},
   "outputs": [],
   "source": [
    "\n",
    "#func para criar dataframe com todas as acoes nescessarias\n",
    "def creat_df(acoes:list, periodo:str = '3mo'):\n",
    "    df_final = pd.DataFrame()\n",
    "    dados = pd.DataFrame()\n",
    "    for acao in acoes:\n",
    "        dados = pd.DataFrame(yf.Ticker(acao).history(period=periodo)) #carrega o historico\n",
    "        dados['Titulo'] = acao\n",
    "        df_final = pd.concat([df_final,dados])\n",
    "    return df_final.sort_values(by='Date')\n",
    "\n",
    "dados = creat_df(lista_de_simbolos)\n",
    "dados.head(5)"
   ]
  },
  {
   "cell_type": "code",
   "execution_count": null,
   "metadata": {},
   "outputs": [],
   "source": [
    "#desenhando desenvolvimento acao\n",
    "import plotly.graph_objects as go\n",
    "def fig_candlestick(dados):\n",
    "    fig = px.line(data_frame=dados,x=dados.index ,y=['Open'], color='Titulo')\n",
    "    \n",
    "    return fig\n",
    "\n",
    "\n",
    "fig_candlestick(dados)"
   ]
  },
  {
   "cell_type": "markdown",
   "metadata": {},
   "source": [
    "# Dash app"
   ]
  },
  {
   "cell_type": "code",
   "execution_count": null,
   "metadata": {},
   "outputs": [],
   "source": [
    "#inicializar app\n",
    "app = Dash(__name__)\n",
    "\n",
    "#definindo layout app\n",
    "app.layout = html.Div([\n",
    "    html.H1('Acompanhamento de Ações' ,style={'backgroundColor':'white','text-align': 'center'} ),\n",
    "    html.Hr(),\n",
    "    html.H3('Escolha a acao:',style={'backgroundColor':'white'}),\n",
    "    dcc.Dropdown(id='escolha-de-acoes', options=lista_de_simbolos, multi=True, value=lista_de_simbolos[:2]),\n",
    "    dcc.Graph(figure=fig_candlestick(dados)),\n",
    "    \n",
    "])\n",
    "\n",
    "if __name__ == '__main__':\n",
    "    app.run(debug=True)"
   ]
  }
 ],
 "metadata": {
  "kernelspec": {
   "display_name": "Python 3",
   "language": "python",
   "name": "python3"
  },
  "language_info": {
   "codemirror_mode": {
    "name": "ipython",
    "version": 3
   },
   "file_extension": ".py",
   "mimetype": "text/x-python",
   "name": "python",
   "nbconvert_exporter": "python",
   "pygments_lexer": "ipython3",
   "version": "3.12.1"
  }
 },
 "nbformat": 4,
 "nbformat_minor": 2
}
