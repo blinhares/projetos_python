{
 "cells": [
  {
   "cell_type": "code",
   "execution_count": 199,
   "metadata": {},
   "outputs": [],
   "source": [
    "import yfinance as yf\n",
    "import pandas as pd\n",
    "#importando dash plotly\n",
    "from dash import Dash, html, dash_table, dcc, Input, Output, callback\n",
    "import plotly.express as px\n",
    "import matplotlib.pyplot as plt\n",
    "import dash_bootstrap_components as dbc\n",
    "from dash.dash_table.Format import Format, Scheme, Sign\n",
    "\n",
    "lista_de_simbolos = ['MSFT34.SA', 'PETR3.SA', 'AAPL34.SA']\n",
    "\n",
    "#definindo Periodos\n",
    "PERIODOS = ['5y','2y','1y','9mo','6mo','3mo','1mo','5d','2d']\n",
    "\n",
    "df_global = pd.DataFrame()\n"
   ]
  },
  {
   "cell_type": "code",
   "execution_count": 200,
   "metadata": {},
   "outputs": [],
   "source": [
    "\n",
    "#func para criar dataframe com todas as acoes nescessarias\n",
    "\n",
    "def create_global_df(acoes:list, periodo:str='3mo' ):\n",
    "    df_final = pd.DataFrame()\n",
    "    dados = pd.DataFrame()\n",
    "    for acao in acoes:\n",
    "        dados = pd.DataFrame(yf.Ticker(acao).history(period=periodo)) #carrega o historico\n",
    "        dados['Titulo'] = acao\n",
    "        df_final = pd.concat([df_final,dados])\n",
    "        \n",
    "    return df_final.sort_values(by='Date')\n",
    "\n",
    "df_global = create_global_df(lista_de_simbolos)"
   ]
  },
  {
   "cell_type": "code",
   "execution_count": 201,
   "metadata": {},
   "outputs": [],
   "source": [
    "@callback(\n",
    "    Output(component_id='tabela-var-dia', component_property='data'),\n",
    "    Input(component_id='escolha-de-acoes', component_property='value'),\n",
    ")\n",
    "def tabela_variacao(acoes_selecionadas):\n",
    "    cont = 1\n",
    "    df_ultima_var = pd.DataFrame(columns=['Titulo', 'Ultim.Var'])\n",
    "    for acao in acoes_selecionadas:\n",
    "        var_titulo = df_global[df_global['Titulo']==acao].sort_values(by='Date',ascending=False).head(2)['Close'].values.tolist()\n",
    "        var = (var_titulo[0]-var_titulo[1])/var_titulo[1]\n",
    "        df_ultima_var.loc[cont]=({'Titulo':acao, 'Ultim.Var':var})\n",
    "        cont += 1\n",
    "        \n",
    "    return df_ultima_var[['Titulo','Ultim.Var']].to_dict('records')\n",
    "\n",
    "df_variacao_acoes = tabela_variacao(lista_de_simbolos)\n",
    "\n"
   ]
  },
  {
   "cell_type": "code",
   "execution_count": null,
   "metadata": {},
   "outputs": [],
   "source": []
  },
  {
   "cell_type": "code",
   "execution_count": 202,
   "metadata": {},
   "outputs": [],
   "source": [
    "#desenhando desenvolvimento acao\n",
    "def grafico_principal(dados):\n",
    "    fig = px.line(data_frame=dados,x=dados.index ,y=['Open'], color='Titulo')\n",
    "    return fig\n"
   ]
  },
  {
   "cell_type": "markdown",
   "metadata": {},
   "source": [
    "# Alterando Cards de Noticias"
   ]
  },
  {
   "cell_type": "code",
   "execution_count": 203,
   "metadata": {},
   "outputs": [],
   "source": [
    "@callback(\n",
    "    Output(component_id='carousel-items', component_property='items'),\n",
    "    Input(component_id='escolha-de-acoes', component_property='value'),\n",
    ")\n",
    "def carousel_update(acoes_selecionadas):\n",
    "    n_item = 0\n",
    "    list_items_carousel = []\n",
    "    for ticket in acoes_selecionadas:\n",
    "        for item in yf.Ticker(ticket).news:\n",
    "            n_item += 1\n",
    "            try:\n",
    "                header = item['title']\n",
    "                href = item['link']\n",
    "                src = item['thumbnail']['resolutions'][0]['url']\n",
    "                list_items_carousel.append({ 'Key': str(n_item),'external_link':True, 'header':header, 'href':href, 'src':src })\n",
    "\n",
    "            except :\n",
    "                pass\n",
    "    return list_items_carousel\n",
    "\n",
    "list_items_carousel = carousel_update(lista_de_simbolos)\n"
   ]
  },
  {
   "cell_type": "markdown",
   "metadata": {},
   "source": [
    "# Alterando Grafico principal"
   ]
  },
  {
   "cell_type": "code",
   "execution_count": 204,
   "metadata": {},
   "outputs": [],
   "source": [
    "#add controle\n",
    "@callback(\n",
    "    Output(component_id='grafico-01', component_property='figure'),\n",
    "    Input(component_id='escolha-de-acoes', component_property='value'),\n",
    "    Input(component_id='escolha-periodo-acoes', component_property='value')\n",
    "\n",
    ")\n",
    "def update_graph_01(acoes_selecionadas, periodo = '3mo'):\n",
    "    df_global = create_global_df(acoes_selecionadas,periodo)\n",
    "    #fintrando dados\n",
    "    dados_filtrados = df_global.where(df_global['Titulo'].isin(list(acoes_selecionadas)))\n",
    "    return grafico_principal(dados_filtrados)\n",
    "    \n",
    "    "
   ]
  },
  {
   "cell_type": "markdown",
   "metadata": {},
   "source": [
    "# Nao aceitar valores Nulos"
   ]
  },
  {
   "cell_type": "code",
   "execution_count": 205,
   "metadata": {},
   "outputs": [],
   "source": [
    "@callback(\n",
    "    Output(component_id='escolha-de-acoes', component_property='value'),\n",
    "    Input(component_id='escolha-de-acoes', component_property='value')\n",
    ")\n",
    "def teste(acoes_selecionadas):\n",
    "    if not len(acoes_selecionadas):\n",
    "        return lista_de_simbolos[:1]\n",
    "    return acoes_selecionadas\n"
   ]
  },
  {
   "cell_type": "markdown",
   "metadata": {},
   "source": [
    "# Dash app"
   ]
  },
  {
   "cell_type": "code",
   "execution_count": 206,
   "metadata": {},
   "outputs": [
    {
     "data": {
      "text/html": [
       "\n",
       "        <iframe\n",
       "            width=\"100%\"\n",
       "            height=\"650\"\n",
       "            src=\"http://127.0.0.1:8050/\"\n",
       "            frameborder=\"0\"\n",
       "            allowfullscreen\n",
       "            \n",
       "        ></iframe>\n",
       "        "
      ],
      "text/plain": [
       "<IPython.lib.display.IFrame at 0x7f40402f0e90>"
      ]
     },
     "metadata": {},
     "output_type": "display_data"
    }
   ],
   "source": [
    "\n",
    "\n",
    "#inicializar app\n",
    "\n",
    "# Initialize the app - incorporate a Dash Bootstrap theme\n",
    "external_stylesheets = [dbc.themes.CERULEAN]\n",
    "app = Dash(__name__, external_stylesheets=external_stylesheets)\n",
    "\n",
    "#definindo layout app\n",
    "app.layout = dbc.Container([\n",
    "    dbc.Row([\n",
    "    html.H1('Acompanhamento de Ações' ,style={'backgroundColor':'white','text-align': 'center'} ),\n",
    "    ]),\n",
    "\n",
    "    dbc.Row([\n",
    "        dbc.Col([\n",
    "            html.Div('Escolha a ação:',style={'backgroundColor':'white'}),\n",
    "            dcc.Dropdown(id='escolha-de-acoes',placeholder=\"Escolha uma Ação\", options=lista_de_simbolos, multi=True, value=lista_de_simbolos),\n",
    "\n",
    "            \n",
    "        ],width=10),\n",
    "        dbc.Col([\n",
    "            html.Div('Escolha Periodo:',style={'backgroundColor':'white'}),\n",
    "            dcc.Dropdown(id='escolha-periodo-acoes',placeholder=\"Escolha uma Periodo\", options=PERIODOS, value='3mo'),\n",
    "\n",
    "            \n",
    "        ],width=2)\n",
    "    \n",
    "    ]),\n",
    "\n",
    "    dbc.Row([\n",
    "    dcc.Graph(figure={}, id='grafico-01')\n",
    "    ]),\n",
    "\n",
    "    dbc.Row([\n",
    "        dbc.Col(\n",
    "            [\n",
    "            html.Div('News:',style={'backgroundColor':'white','text-align': 'center'}),\n",
    "            dbc.Carousel(id='carousel-items' , interval=1000,\n",
    "            items=list_items_carousel,\n",
    "            className=\"carousel-fade\", style={'backgroundColor':'white','vertical-align': 'middle'}\n",
    "            )\n",
    "        ],\n",
    "          width=6),\n",
    "\n",
    "        dbc.Col([\n",
    "            dash_table.DataTable(id='tabela-var-dia',\n",
    "                                 data=df_variacao_acoes, \n",
    "                                 page_size=10, \n",
    "                                 style_table={'overflowX': 'auto'},\n",
    "                                 editable=True,\n",
    "                                 style_cell={'textAlign': 'center'},\n",
    "                                 style_data_conditional=[\n",
    "                                     {\n",
    "                                        'if':{'filter_query': '{Ultim.Var} < 0',\n",
    "                                              'column_id': 'Ultim.Var',\n",
    "                                            \n",
    "                                              },\n",
    "                                        'backgroundColor': '#85144b',\n",
    "                                        'color': 'white'\n",
    "\n",
    "                                     }\n",
    "                                 ],\n",
    "                                 columns = [\n",
    "                                    dict(id='Titulo', name='Titulo'),\n",
    "                                    dict(id='Ultim.Var', name='Ultim.Var', type='numeric',format=Format(scheme=Scheme.percentage, precision=2)),\n",
    "                                            ]\n",
    "                                 )\n",
    "        ], width=6),\n",
    "    ]),\n",
    "\n",
    "])\n",
    "\n",
    "\n",
    "\n",
    "if __name__ == '__main__':\n",
    "    app.run(debug=True)"
   ]
  },
  {
   "cell_type": "code",
   "execution_count": null,
   "metadata": {},
   "outputs": [],
   "source": []
  }
 ],
 "metadata": {
  "kernelspec": {
   "display_name": "Python 3",
   "language": "python",
   "name": "python3"
  },
  "language_info": {
   "codemirror_mode": {
    "name": "ipython",
    "version": 3
   },
   "file_extension": ".py",
   "mimetype": "text/x-python",
   "name": "python",
   "nbconvert_exporter": "python",
   "pygments_lexer": "ipython3",
   "version": "3.12.1"
  }
 },
 "nbformat": 4,
 "nbformat_minor": 2
}
