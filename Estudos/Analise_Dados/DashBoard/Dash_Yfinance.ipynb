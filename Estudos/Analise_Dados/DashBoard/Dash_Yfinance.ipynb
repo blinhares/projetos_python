{
 "cells": [
  {
   "cell_type": "code",
   "execution_count": 113,
   "metadata": {},
   "outputs": [],
   "source": [
    "import yfinance as yf\n",
    "import pandas as pd\n",
    "#importando dash plotly\n",
    "from dash import Dash, html, dash_table, dcc, Input, Output, callback\n",
    "import plotly.express as px\n",
    "import matplotlib.pyplot as plt\n",
    "import dash_bootstrap_components as dbc\n",
    "\n",
    "\n",
    "#carregando lista de simbolos\n",
    "# lista_de_simbolos = pd.read_csv('symbols_valid_meta.csv')\n",
    "# display(lista_de_simbolos.head(2))\n",
    "###para testes ####\n",
    "lista_de_simbolos = ['MSFT34.SA', 'PETR3.SA', 'AAPL34.SA']\n",
    "\n",
    "#definindo Periodos\n",
    "PERIODOS = ['5y','2y','1y','9mo','6mo','3mo','1mo','5d','1d'] #len 9\n"
   ]
  },
  {
   "cell_type": "code",
   "execution_count": 114,
   "metadata": {},
   "outputs": [
    {
     "data": {
      "text/html": [
       "<div>\n",
       "<style scoped>\n",
       "    .dataframe tbody tr th:only-of-type {\n",
       "        vertical-align: middle;\n",
       "    }\n",
       "\n",
       "    .dataframe tbody tr th {\n",
       "        vertical-align: top;\n",
       "    }\n",
       "\n",
       "    .dataframe thead th {\n",
       "        text-align: right;\n",
       "    }\n",
       "</style>\n",
       "<table border=\"1\" class=\"dataframe\">\n",
       "  <thead>\n",
       "    <tr style=\"text-align: right;\">\n",
       "      <th></th>\n",
       "      <th>Open</th>\n",
       "      <th>High</th>\n",
       "      <th>Low</th>\n",
       "      <th>Close</th>\n",
       "      <th>Volume</th>\n",
       "      <th>Dividends</th>\n",
       "      <th>Stock Splits</th>\n",
       "      <th>Titulo</th>\n",
       "    </tr>\n",
       "    <tr>\n",
       "      <th>Date</th>\n",
       "      <th></th>\n",
       "      <th></th>\n",
       "      <th></th>\n",
       "      <th></th>\n",
       "      <th></th>\n",
       "      <th></th>\n",
       "      <th></th>\n",
       "      <th></th>\n",
       "    </tr>\n",
       "  </thead>\n",
       "  <tbody>\n",
       "    <tr>\n",
       "      <th>2023-09-20 00:00:00-03:00</th>\n",
       "      <td>66.714966</td>\n",
       "      <td>66.714966</td>\n",
       "      <td>65.017387</td>\n",
       "      <td>65.017387</td>\n",
       "      <td>440655</td>\n",
       "      <td>0.0</td>\n",
       "      <td>0.0</td>\n",
       "      <td>MSFT34.SA</td>\n",
       "    </tr>\n",
       "    <tr>\n",
       "      <th>2023-09-20 00:00:00-03:00</th>\n",
       "      <td>36.071225</td>\n",
       "      <td>36.409150</td>\n",
       "      <td>35.839502</td>\n",
       "      <td>36.119499</td>\n",
       "      <td>8157200</td>\n",
       "      <td>0.0</td>\n",
       "      <td>0.0</td>\n",
       "      <td>PETR3.SA</td>\n",
       "    </tr>\n",
       "    <tr>\n",
       "      <th>2023-09-20 00:00:00-03:00</th>\n",
       "      <td>43.480356</td>\n",
       "      <td>43.520321</td>\n",
       "      <td>42.741028</td>\n",
       "      <td>42.771004</td>\n",
       "      <td>166511</td>\n",
       "      <td>0.0</td>\n",
       "      <td>0.0</td>\n",
       "      <td>AAPL34.SA</td>\n",
       "    </tr>\n",
       "    <tr>\n",
       "      <th>2023-09-21 00:00:00-03:00</th>\n",
       "      <td>65.426800</td>\n",
       "      <td>66.405409</td>\n",
       "      <td>65.057331</td>\n",
       "      <td>65.756332</td>\n",
       "      <td>108184</td>\n",
       "      <td>0.0</td>\n",
       "      <td>0.0</td>\n",
       "      <td>MSFT34.SA</td>\n",
       "    </tr>\n",
       "    <tr>\n",
       "      <th>2023-09-21 00:00:00-03:00</th>\n",
       "      <td>35.771916</td>\n",
       "      <td>36.235358</td>\n",
       "      <td>35.549851</td>\n",
       "      <td>35.598125</td>\n",
       "      <td>14641100</td>\n",
       "      <td>0.0</td>\n",
       "      <td>0.0</td>\n",
       "      <td>PETR3.SA</td>\n",
       "    </tr>\n",
       "  </tbody>\n",
       "</table>\n",
       "</div>"
      ],
      "text/plain": [
       "                                Open       High        Low      Close  \\\n",
       "Date                                                                    \n",
       "2023-09-20 00:00:00-03:00  66.714966  66.714966  65.017387  65.017387   \n",
       "2023-09-20 00:00:00-03:00  36.071225  36.409150  35.839502  36.119499   \n",
       "2023-09-20 00:00:00-03:00  43.480356  43.520321  42.741028  42.771004   \n",
       "2023-09-21 00:00:00-03:00  65.426800  66.405409  65.057331  65.756332   \n",
       "2023-09-21 00:00:00-03:00  35.771916  36.235358  35.549851  35.598125   \n",
       "\n",
       "                             Volume  Dividends  Stock Splits     Titulo  \n",
       "Date                                                                     \n",
       "2023-09-20 00:00:00-03:00    440655        0.0           0.0  MSFT34.SA  \n",
       "2023-09-20 00:00:00-03:00   8157200        0.0           0.0   PETR3.SA  \n",
       "2023-09-20 00:00:00-03:00    166511        0.0           0.0  AAPL34.SA  \n",
       "2023-09-21 00:00:00-03:00    108184        0.0           0.0  MSFT34.SA  \n",
       "2023-09-21 00:00:00-03:00  14641100        0.0           0.0   PETR3.SA  "
      ]
     },
     "execution_count": 114,
     "metadata": {},
     "output_type": "execute_result"
    }
   ],
   "source": [
    "\n",
    "#func para criar dataframe com todas as acoes nescessarias\n",
    "def creat_df(acoes:list, periodo:str = '3mo'):\n",
    "    df_final = pd.DataFrame()\n",
    "    dados = pd.DataFrame()\n",
    "    for acao in acoes:\n",
    "        dados = pd.DataFrame(yf.Ticker(acao).history(period=periodo)) #carrega o historico\n",
    "        dados['Titulo'] = acao\n",
    "        df_final = pd.concat([df_final,dados])\n",
    "    return df_final.sort_values(by='Date')\n",
    "\n",
    "dados = creat_df(lista_de_simbolos)\n",
    "dados.head(5)"
   ]
  },
  {
   "cell_type": "code",
   "execution_count": null,
   "metadata": {},
   "outputs": [],
   "source": []
  },
  {
   "cell_type": "code",
   "execution_count": 115,
   "metadata": {},
   "outputs": [],
   "source": [
    "#desenhando desenvolvimento acao\n",
    "import plotly.graph_objects as go\n",
    "def fig_candlestick(dados):\n",
    "    fig = px.line(data_frame=dados,x=dados.index ,y=['Open'], color='Titulo')\n",
    "    return fig\n",
    "\n",
    "# fig_candlestick(dados)"
   ]
  },
  {
   "cell_type": "code",
   "execution_count": 116,
   "metadata": {},
   "outputs": [],
   "source": [
    "# yf.Ticker('MSFT34.SA').news"
   ]
  },
  {
   "cell_type": "code",
   "execution_count": 117,
   "metadata": {},
   "outputs": [],
   "source": [
    "#add controle\n",
    "@callback(\n",
    "    Output(component_id='grafico-01', component_property='figure'),\n",
    "    Input(component_id='escolha-de-acoes', component_property='value')\n",
    ")\n",
    "def update_graph_01(acoes_selecionadas):\n",
    "    #fintrando dados\n",
    "    dados_filtrados = dados.where(dados['Titulo'].isin(list(acoes_selecionadas)))\n",
    "    return fig_candlestick(dados_filtrados)\n",
    "    \n",
    "    "
   ]
  },
  {
   "cell_type": "markdown",
   "metadata": {},
   "source": [
    "# Dash app"
   ]
  },
  {
   "cell_type": "code",
   "execution_count": 118,
   "metadata": {},
   "outputs": [
    {
     "data": {
      "text/html": [
       "\n",
       "        <iframe\n",
       "            width=\"100%\"\n",
       "            height=\"650\"\n",
       "            src=\"http://127.0.0.1:8050/\"\n",
       "            frameborder=\"0\"\n",
       "            allowfullscreen\n",
       "            \n",
       "        ></iframe>\n",
       "        "
      ],
      "text/plain": [
       "<IPython.lib.display.IFrame at 0x7ff8f41c9ac0>"
      ]
     },
     "metadata": {},
     "output_type": "display_data"
    }
   ],
   "source": [
    "#inicializar app\n",
    "app = Dash(__name__)\n",
    "\n",
    "#definindo layout app\n",
    "app.layout = dbc.Container([\n",
    "    dbc.Row([\n",
    "    html.H1('Acompanhamento de Ações' ,style={'backgroundColor':'white','text-align': 'center'} ),\n",
    "    html.Hr(),\n",
    "    html.H3('Escolha a acao:',style={'backgroundColor':'white'}),\n",
    "    dcc.Dropdown(id='escolha-de-acoes', options=lista_de_simbolos, multi=True, value=lista_de_simbolos),\n",
    "    dcc.Graph(figure={}, id='grafico-01')\n",
    "    ]),\n",
    "\n",
    "    html.Div(className='row', children=[\n",
    "        html.Div(className='six columns', children=[\n",
    "            dash_table.DataTable(data=dados[['Open','Close']].to_dict('records'), page_size=11, style_table={'overflowX': 'auto'})\n",
    "        ]),\n",
    "        html.Div(className='four columns', children=[\n",
    "            dcc.Graph(figure=fig_candlestick(dados=dados))\n",
    "        ])\n",
    "    ])\n",
    "\n",
    "\n",
    "])\n",
    "\n",
    "\n",
    "if __name__ == '__main__':\n",
    "    app.run(debug=True)"
   ]
  }
 ],
 "metadata": {
  "kernelspec": {
   "display_name": "Python 3",
   "language": "python",
   "name": "python3"
  },
  "language_info": {
   "codemirror_mode": {
    "name": "ipython",
    "version": 3
   },
   "file_extension": ".py",
   "mimetype": "text/x-python",
   "name": "python",
   "nbconvert_exporter": "python",
   "pygments_lexer": "ipython3",
   "version": "3.12.1"
  }
 },
 "nbformat": 4,
 "nbformat_minor": 2
}
