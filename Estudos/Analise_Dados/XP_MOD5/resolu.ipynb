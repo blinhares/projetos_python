{
 "cells": [
  {
   "cell_type": "code",
   "execution_count": 71,
   "metadata": {},
   "outputs": [
    {
     "name": "stdout",
     "output_type": "stream",
     "text": [
      "--------------------------------------------------\n",
      "id_cliente    547\n",
      "peso          542\n",
      "colesterol    547\n",
      "dtype: int64\n",
      "Coluna peso possue valores NULOS.\n",
      "Coluna peso possue valores N.A.\n",
      "--------------------------------------------------\n",
      "--------------------------------------------------\n",
      "id_cliente        1000\n",
      "id_estado         1000\n",
      "idade             1000\n",
      "genero            1000\n",
      "estado Civil      1000\n",
      "renda             1000\n",
      "nivel_educacao    1000\n",
      "dtype: int64\n",
      "--------------------------------------------------\n",
      "--------------------------------------------------\n",
      "id_estado       27\n",
      "estado          27\n",
      "sigla_estado    27\n",
      "pais            27\n",
      "dtype: int64\n",
      "--------------------------------------------------\n"
     ]
    }
   ],
   "source": [
    "import pandas as pd \n",
    "\n",
    "#importando arquivos\n",
    "\n",
    "df_medicos = pd.read_excel('dados_medicos.xlsx')\n",
    "df_pacientes = pd.read_csv('dados_pacientes.csv',encoding='cp1252', sep=';')\n",
    "# o arquivo tem codificacao diferente, logo a que usar ncoding='cp1252'\n",
    "df_estados_br = pd.read_csv('estados_brasileiros.csv', encoding='cp1252', sep=';')\n",
    "\n",
    "def verificar_df(df):\n",
    "    print('-' * 50)\n",
    "    print(df.count())\n",
    "    for col in df:\n",
    "        if True in df[col].isnull().values:\n",
    "            print(f'Coluna {col} possue valores NULOS.')\n",
    "        if True in df[col].isna().values:\n",
    "            print(f'Coluna {col} possue valores N.A.')\n",
    "    print('-' * 50)\n",
    "\n",
    "verificar_df(df_medicos)\n",
    "verificar_df(df_pacientes)\n",
    "verificar_df(df_estados_br)\n",
    "\n",
    "\n"
   ]
  },
  {
   "cell_type": "markdown",
   "metadata": {},
   "source": [
    "Observa-se que o df_medicos na coluna peso temos arquivos nulos."
   ]
  },
  {
   "cell_type": "code",
   "execution_count": 72,
   "metadata": {},
   "outputs": [
    {
     "data": {
      "text/plain": [
       "count    542.000000\n",
       "mean     143.440959\n",
       "std       30.836868\n",
       "min       95.000000\n",
       "25%      116.000000\n",
       "50%      140.000000\n",
       "75%      171.000000\n",
       "max      203.000000\n",
       "Name: peso, dtype: float64"
      ]
     },
     "execution_count": 72,
     "metadata": {},
     "output_type": "execute_result"
    }
   ],
   "source": [
    "#descritiva dos dados antes da adequacao de valores nulos\n",
    "df_medicos['peso'].describe()"
   ]
  },
  {
   "cell_type": "code",
   "execution_count": 73,
   "metadata": {},
   "outputs": [
    {
     "name": "stdout",
     "output_type": "stream",
     "text": [
      "A media de peso é : 143.44\n"
     ]
    }
   ],
   "source": [
    "#coletando dados descritivos do df-medicos, da coluna peso, arredondando valores pra duas casas decimais\n",
    "#transformando em dicionario e pegando a media\n",
    "mean_peso = df_medicos['peso'].describe().round(2).to_dict()['mean']\n",
    "print(f'A media de peso é : {mean_peso}')"
   ]
  },
  {
   "cell_type": "code",
   "execution_count": 74,
   "metadata": {},
   "outputs": [
    {
     "data": {
      "text/plain": [
       "count    547.000000\n",
       "mean     143.440951\n",
       "std       30.695348\n",
       "min       95.000000\n",
       "25%      116.000000\n",
       "50%      140.000000\n",
       "75%      171.000000\n",
       "max      203.000000\n",
       "Name: peso, dtype: float64"
      ]
     },
     "execution_count": 74,
     "metadata": {},
     "output_type": "execute_result"
    }
   ],
   "source": [
    "#subistituindo valores na em df_medicos pela media encontrada\n",
    "df_medicos = df_medicos.fillna(mean_peso)\n",
    "df_medicos['peso'].describe()"
   ]
  },
  {
   "cell_type": "code",
   "execution_count": 75,
   "metadata": {},
   "outputs": [
    {
     "name": "stdout",
     "output_type": "stream",
     "text": [
      "--------------------------------------------------\n",
      "id_cliente        547\n",
      "id_estado         547\n",
      "idade             547\n",
      "genero            547\n",
      "estado Civil      547\n",
      "renda             547\n",
      "nivel_educacao    547\n",
      "peso              547\n",
      "colesterol        547\n",
      "estado            547\n",
      "sigla_estado      547\n",
      "pais              547\n",
      "dtype: int64\n",
      "--------------------------------------------------\n",
      "id_cliente          int64\n",
      "id_estado           int64\n",
      "idade               int64\n",
      "genero             object\n",
      "estado Civil       object\n",
      "renda             float64\n",
      "nivel_educacao     object\n",
      "peso              float64\n",
      "colesterol          int64\n",
      "estado             object\n",
      "sigla_estado       object\n",
      "pais               object\n",
      "dtype: object\n"
     ]
    }
   ],
   "source": [
    "#juntar as tabelas pelos id_estado e id_cliente\n",
    "df_geral = pd.merge(df_pacientes, df_medicos, on='id_cliente')\n",
    "df_geral = pd.merge(df_geral,df_estados_br,on='id_estado').sort_values('id_cliente')\n",
    "verificar_df(df_geral)\n",
    "print(df_geral.dtypes)\n"
   ]
  },
  {
   "cell_type": "code",
   "execution_count": 76,
   "metadata": {},
   "outputs": [
    {
     "name": "stdout",
     "output_type": "stream",
     "text": [
      "       id_cliente  id_estado   idade    renda    peso  colesterol\n",
      "count      547.00     547.00  547.00   547.00  547.00      547.00\n",
      "mean       274.00      14.59   40.84  5474.51  143.44      170.43\n",
      "std        158.05       7.71   14.21  2672.42   30.70       39.15\n",
      "min          1.00       1.00   18.00  1009.40   95.00      102.00\n",
      "25%        137.50       8.00   28.00  3127.86  116.00      136.00\n",
      "50%        274.00      14.00   40.00  5533.45  140.00      169.00\n",
      "75%        410.50      21.00   53.00  7851.46  171.00      208.00\n",
      "max        547.00      27.00   65.00  9989.72  203.00      235.00\n"
     ]
    }
   ],
   "source": [
    "print(df_geral.describe().round(2))"
   ]
  },
  {
   "cell_type": "code",
   "execution_count": 77,
   "metadata": {},
   "outputs": [
    {
     "data": {
      "text/html": [
       "<div>\n",
       "<style scoped>\n",
       "    .dataframe tbody tr th:only-of-type {\n",
       "        vertical-align: middle;\n",
       "    }\n",
       "\n",
       "    .dataframe tbody tr th {\n",
       "        vertical-align: top;\n",
       "    }\n",
       "\n",
       "    .dataframe thead th {\n",
       "        text-align: right;\n",
       "    }\n",
       "</style>\n",
       "<table border=\"1\" class=\"dataframe\">\n",
       "  <thead>\n",
       "    <tr style=\"text-align: right;\">\n",
       "      <th></th>\n",
       "      <th>id_cliente</th>\n",
       "      <th>id_estado</th>\n",
       "      <th>idade</th>\n",
       "      <th>genero</th>\n",
       "      <th>estado Civil</th>\n",
       "      <th>renda</th>\n",
       "      <th>nivel_educacao</th>\n",
       "      <th>peso</th>\n",
       "      <th>colesterol</th>\n",
       "      <th>estado</th>\n",
       "      <th>sigla_estado</th>\n",
       "      <th>pais</th>\n",
       "    </tr>\n",
       "  </thead>\n",
       "  <tbody>\n",
       "    <tr>\n",
       "      <th>292</th>\n",
       "      <td>436</td>\n",
       "      <td>1</td>\n",
       "      <td>63</td>\n",
       "      <td>Feminino</td>\n",
       "      <td>Divorciado</td>\n",
       "      <td>7626.21</td>\n",
       "      <td>Superior</td>\n",
       "      <td>155.0</td>\n",
       "      <td>196</td>\n",
       "      <td>Acre</td>\n",
       "      <td>AC</td>\n",
       "      <td>Brasil</td>\n",
       "    </tr>\n",
       "    <tr>\n",
       "      <th>283</th>\n",
       "      <td>21</td>\n",
       "      <td>1</td>\n",
       "      <td>65</td>\n",
       "      <td>Outro</td>\n",
       "      <td>Divorciado</td>\n",
       "      <td>3303.41</td>\n",
       "      <td>Médio</td>\n",
       "      <td>153.0</td>\n",
       "      <td>189</td>\n",
       "      <td>Acre</td>\n",
       "      <td>AC</td>\n",
       "      <td>Brasil</td>\n",
       "    </tr>\n",
       "    <tr>\n",
       "      <th>282</th>\n",
       "      <td>20</td>\n",
       "      <td>1</td>\n",
       "      <td>33</td>\n",
       "      <td>Feminino</td>\n",
       "      <td>Viúvo</td>\n",
       "      <td>2510.78</td>\n",
       "      <td>Fundamental</td>\n",
       "      <td>133.0</td>\n",
       "      <td>163</td>\n",
       "      <td>Acre</td>\n",
       "      <td>AC</td>\n",
       "      <td>Brasil</td>\n",
       "    </tr>\n",
       "    <tr>\n",
       "      <th>286</th>\n",
       "      <td>165</td>\n",
       "      <td>1</td>\n",
       "      <td>25</td>\n",
       "      <td>Outro</td>\n",
       "      <td>Casado</td>\n",
       "      <td>2485.56</td>\n",
       "      <td>Superior</td>\n",
       "      <td>107.0</td>\n",
       "      <td>125</td>\n",
       "      <td>Acre</td>\n",
       "      <td>AC</td>\n",
       "      <td>Brasil</td>\n",
       "    </tr>\n",
       "    <tr>\n",
       "      <th>287</th>\n",
       "      <td>227</td>\n",
       "      <td>1</td>\n",
       "      <td>60</td>\n",
       "      <td>Masculino</td>\n",
       "      <td>Solteiro</td>\n",
       "      <td>6724.74</td>\n",
       "      <td>Superior</td>\n",
       "      <td>184.0</td>\n",
       "      <td>220</td>\n",
       "      <td>Acre</td>\n",
       "      <td>AC</td>\n",
       "      <td>Brasil</td>\n",
       "    </tr>\n",
       "  </tbody>\n",
       "</table>\n",
       "</div>"
      ],
      "text/plain": [
       "     id_cliente  id_estado  idade     genero estado Civil    renda  \\\n",
       "292         436          1     63   Feminino   Divorciado  7626.21   \n",
       "283          21          1     65      Outro   Divorciado  3303.41   \n",
       "282          20          1     33   Feminino        Viúvo  2510.78   \n",
       "286         165          1     25      Outro       Casado  2485.56   \n",
       "287         227          1     60  Masculino     Solteiro  6724.74   \n",
       "\n",
       "    nivel_educacao   peso  colesterol estado sigla_estado    pais  \n",
       "292       Superior  155.0         196   Acre           AC  Brasil  \n",
       "283          Médio  153.0         189   Acre           AC  Brasil  \n",
       "282    Fundamental  133.0         163   Acre           AC  Brasil  \n",
       "286       Superior  107.0         125   Acre           AC  Brasil  \n",
       "287       Superior  184.0         220   Acre           AC  Brasil  "
      ]
     },
     "execution_count": 77,
     "metadata": {},
     "output_type": "execute_result"
    }
   ],
   "source": [
    "df_geral.sort_values('estado').head()"
   ]
  },
  {
   "cell_type": "markdown",
   "metadata": {},
   "source": [
    "# Pergunta 2"
   ]
  },
  {
   "cell_type": "code",
   "execution_count": 78,
   "metadata": {},
   "outputs": [
    {
     "data": {
      "text/html": [
       "<div>\n",
       "<style scoped>\n",
       "    .dataframe tbody tr th:only-of-type {\n",
       "        vertical-align: middle;\n",
       "    }\n",
       "\n",
       "    .dataframe tbody tr th {\n",
       "        vertical-align: top;\n",
       "    }\n",
       "\n",
       "    .dataframe thead th {\n",
       "        text-align: right;\n",
       "    }\n",
       "</style>\n",
       "<table border=\"1\" class=\"dataframe\">\n",
       "  <thead>\n",
       "    <tr style=\"text-align: right;\">\n",
       "      <th></th>\n",
       "      <th>idade</th>\n",
       "    </tr>\n",
       "    <tr>\n",
       "      <th>estado</th>\n",
       "      <th></th>\n",
       "    </tr>\n",
       "  </thead>\n",
       "  <tbody>\n",
       "    <tr>\n",
       "      <th>Acre</th>\n",
       "      <td>45.77</td>\n",
       "    </tr>\n",
       "    <tr>\n",
       "      <th>Alagoas</th>\n",
       "      <td>38.67</td>\n",
       "    </tr>\n",
       "    <tr>\n",
       "      <th>Amapá</th>\n",
       "      <td>38.26</td>\n",
       "    </tr>\n",
       "    <tr>\n",
       "      <th>Amazonas</th>\n",
       "      <td>39.12</td>\n",
       "    </tr>\n",
       "    <tr>\n",
       "      <th>Bahia</th>\n",
       "      <td>43.00</td>\n",
       "    </tr>\n",
       "    <tr>\n",
       "      <th>Ceará</th>\n",
       "      <td>43.88</td>\n",
       "    </tr>\n",
       "    <tr>\n",
       "      <th>Distrito Federal</th>\n",
       "      <td>35.55</td>\n",
       "    </tr>\n",
       "    <tr>\n",
       "      <th>Espírito Santo</th>\n",
       "      <td>40.65</td>\n",
       "    </tr>\n",
       "    <tr>\n",
       "      <th>Goiás</th>\n",
       "      <td>41.68</td>\n",
       "    </tr>\n",
       "    <tr>\n",
       "      <th>Maranhão</th>\n",
       "      <td>47.86</td>\n",
       "    </tr>\n",
       "    <tr>\n",
       "      <th>Mato Grosso</th>\n",
       "      <td>43.79</td>\n",
       "    </tr>\n",
       "    <tr>\n",
       "      <th>Mato Grosso do Sul</th>\n",
       "      <td>42.47</td>\n",
       "    </tr>\n",
       "    <tr>\n",
       "      <th>Minas Gerais</th>\n",
       "      <td>42.77</td>\n",
       "    </tr>\n",
       "    <tr>\n",
       "      <th>Paraná</th>\n",
       "      <td>39.10</td>\n",
       "    </tr>\n",
       "    <tr>\n",
       "      <th>Paraíba</th>\n",
       "      <td>40.55</td>\n",
       "    </tr>\n",
       "    <tr>\n",
       "      <th>Pará</th>\n",
       "      <td>38.25</td>\n",
       "    </tr>\n",
       "    <tr>\n",
       "      <th>Pernambuco</th>\n",
       "      <td>43.71</td>\n",
       "    </tr>\n",
       "    <tr>\n",
       "      <th>Piauí</th>\n",
       "      <td>38.53</td>\n",
       "    </tr>\n",
       "    <tr>\n",
       "      <th>Rio Grande do Norte</th>\n",
       "      <td>38.64</td>\n",
       "    </tr>\n",
       "    <tr>\n",
       "      <th>Rio Grande do Sul</th>\n",
       "      <td>39.63</td>\n",
       "    </tr>\n",
       "    <tr>\n",
       "      <th>Rio de Janeiro</th>\n",
       "      <td>44.67</td>\n",
       "    </tr>\n",
       "    <tr>\n",
       "      <th>Rondônia</th>\n",
       "      <td>39.62</td>\n",
       "    </tr>\n",
       "    <tr>\n",
       "      <th>Roraima</th>\n",
       "      <td>48.50</td>\n",
       "    </tr>\n",
       "    <tr>\n",
       "      <th>Santa Catarina</th>\n",
       "      <td>38.09</td>\n",
       "    </tr>\n",
       "    <tr>\n",
       "      <th>Sergipe</th>\n",
       "      <td>36.25</td>\n",
       "    </tr>\n",
       "    <tr>\n",
       "      <th>São Paulo</th>\n",
       "      <td>40.04</td>\n",
       "    </tr>\n",
       "    <tr>\n",
       "      <th>Tocantins</th>\n",
       "      <td>40.50</td>\n",
       "    </tr>\n",
       "  </tbody>\n",
       "</table>\n",
       "</div>"
      ],
      "text/plain": [
       "                     idade\n",
       "estado                    \n",
       "Acre                 45.77\n",
       "Alagoas              38.67\n",
       "Amapá                38.26\n",
       "Amazonas             39.12\n",
       "Bahia                43.00\n",
       "Ceará                43.88\n",
       "Distrito Federal     35.55\n",
       "Espírito Santo       40.65\n",
       "Goiás                41.68\n",
       "Maranhão             47.86\n",
       "Mato Grosso          43.79\n",
       "Mato Grosso do Sul   42.47\n",
       "Minas Gerais         42.77\n",
       "Paraná               39.10\n",
       "Paraíba              40.55\n",
       "Pará                 38.25\n",
       "Pernambuco           43.71\n",
       "Piauí                38.53\n",
       "Rio Grande do Norte  38.64\n",
       "Rio Grande do Sul    39.63\n",
       "Rio de Janeiro       44.67\n",
       "Rondônia             39.62\n",
       "Roraima              48.50\n",
       "Santa Catarina       38.09\n",
       "Sergipe              36.25\n",
       "São Paulo            40.04\n",
       "Tocantins            40.50"
      ]
     },
     "execution_count": 78,
     "metadata": {},
     "output_type": "execute_result"
    }
   ],
   "source": [
    "#Qual é a idade média das pessoas que residem no estado de Minas Gerais?\n",
    "\n",
    "#Agrupando por estado e fazendo a media das idades\n",
    "df_geral[['estado','idade']].groupby('estado').mean().round(2)\n",
    "\n"
   ]
  },
  {
   "cell_type": "markdown",
   "metadata": {},
   "source": [
    "# Pergunta 4\n",
    "\n",
    "Crie um gráfico de caixa (boxplot) para representar a distribuição da renda por gênero das pessoas que residem no estado de Minas Gerais e, em seguida, responda:\n",
    "\n",
    "Qual é o gênero que possui maior mediana da renda representado no gráfico de caixa?"
   ]
  },
  {
   "cell_type": "code",
   "execution_count": 79,
   "metadata": {},
   "outputs": [
    {
     "data": {
      "text/html": [
       "<div>\n",
       "<style scoped>\n",
       "    .dataframe tbody tr th:only-of-type {\n",
       "        vertical-align: middle;\n",
       "    }\n",
       "\n",
       "    .dataframe tbody tr th {\n",
       "        vertical-align: top;\n",
       "    }\n",
       "\n",
       "    .dataframe thead th {\n",
       "        text-align: right;\n",
       "    }\n",
       "</style>\n",
       "<table border=\"1\" class=\"dataframe\">\n",
       "  <thead>\n",
       "    <tr style=\"text-align: right;\">\n",
       "      <th></th>\n",
       "      <th>id_cliente</th>\n",
       "      <th>estado</th>\n",
       "      <th>renda</th>\n",
       "      <th>genero</th>\n",
       "    </tr>\n",
       "  </thead>\n",
       "  <tbody>\n",
       "    <tr>\n",
       "      <th>392</th>\n",
       "      <td>36.0</td>\n",
       "      <td>Minas Gerais</td>\n",
       "      <td>8339.84</td>\n",
       "      <td>Feminino</td>\n",
       "    </tr>\n",
       "    <tr>\n",
       "      <th>393</th>\n",
       "      <td>74.0</td>\n",
       "      <td>Minas Gerais</td>\n",
       "      <td>9336.11</td>\n",
       "      <td>Masculino</td>\n",
       "    </tr>\n",
       "    <tr>\n",
       "      <th>416</th>\n",
       "      <td>512.0</td>\n",
       "      <td>Minas Gerais</td>\n",
       "      <td>4951.35</td>\n",
       "      <td>Feminino</td>\n",
       "    </tr>\n",
       "    <tr>\n",
       "      <th>415</th>\n",
       "      <td>466.0</td>\n",
       "      <td>Minas Gerais</td>\n",
       "      <td>6572.81</td>\n",
       "      <td>Masculino</td>\n",
       "    </tr>\n",
       "    <tr>\n",
       "      <th>414</th>\n",
       "      <td>407.0</td>\n",
       "      <td>Minas Gerais</td>\n",
       "      <td>5523.95</td>\n",
       "      <td>Outro</td>\n",
       "    </tr>\n",
       "    <tr>\n",
       "      <th>413</th>\n",
       "      <td>391.0</td>\n",
       "      <td>Minas Gerais</td>\n",
       "      <td>8853.22</td>\n",
       "      <td>Outro</td>\n",
       "    </tr>\n",
       "    <tr>\n",
       "      <th>412</th>\n",
       "      <td>389.0</td>\n",
       "      <td>Minas Gerais</td>\n",
       "      <td>6019.78</td>\n",
       "      <td>Masculino</td>\n",
       "    </tr>\n",
       "    <tr>\n",
       "      <th>411</th>\n",
       "      <td>388.0</td>\n",
       "      <td>Minas Gerais</td>\n",
       "      <td>4849.90</td>\n",
       "      <td>Outro</td>\n",
       "    </tr>\n",
       "    <tr>\n",
       "      <th>410</th>\n",
       "      <td>375.0</td>\n",
       "      <td>Minas Gerais</td>\n",
       "      <td>9081.23</td>\n",
       "      <td>Outro</td>\n",
       "    </tr>\n",
       "    <tr>\n",
       "      <th>409</th>\n",
       "      <td>318.0</td>\n",
       "      <td>Minas Gerais</td>\n",
       "      <td>7150.53</td>\n",
       "      <td>Masculino</td>\n",
       "    </tr>\n",
       "    <tr>\n",
       "      <th>408</th>\n",
       "      <td>303.0</td>\n",
       "      <td>Minas Gerais</td>\n",
       "      <td>4006.36</td>\n",
       "      <td>Feminino</td>\n",
       "    </tr>\n",
       "    <tr>\n",
       "      <th>407</th>\n",
       "      <td>300.0</td>\n",
       "      <td>Minas Gerais</td>\n",
       "      <td>3799.22</td>\n",
       "      <td>Masculino</td>\n",
       "    </tr>\n",
       "    <tr>\n",
       "      <th>406</th>\n",
       "      <td>285.0</td>\n",
       "      <td>Minas Gerais</td>\n",
       "      <td>7882.25</td>\n",
       "      <td>Outro</td>\n",
       "    </tr>\n",
       "    <tr>\n",
       "      <th>405</th>\n",
       "      <td>267.0</td>\n",
       "      <td>Minas Gerais</td>\n",
       "      <td>5626.02</td>\n",
       "      <td>Masculino</td>\n",
       "    </tr>\n",
       "    <tr>\n",
       "      <th>404</th>\n",
       "      <td>252.0</td>\n",
       "      <td>Minas Gerais</td>\n",
       "      <td>6154.57</td>\n",
       "      <td>Feminino</td>\n",
       "    </tr>\n",
       "    <tr>\n",
       "      <th>403</th>\n",
       "      <td>245.0</td>\n",
       "      <td>Minas Gerais</td>\n",
       "      <td>3703.61</td>\n",
       "      <td>Feminino</td>\n",
       "    </tr>\n",
       "    <tr>\n",
       "      <th>402</th>\n",
       "      <td>239.0</td>\n",
       "      <td>Minas Gerais</td>\n",
       "      <td>1481.12</td>\n",
       "      <td>Feminino</td>\n",
       "    </tr>\n",
       "    <tr>\n",
       "      <th>401</th>\n",
       "      <td>186.0</td>\n",
       "      <td>Minas Gerais</td>\n",
       "      <td>7388.44</td>\n",
       "      <td>Outro</td>\n",
       "    </tr>\n",
       "    <tr>\n",
       "      <th>400</th>\n",
       "      <td>161.0</td>\n",
       "      <td>Minas Gerais</td>\n",
       "      <td>1990.40</td>\n",
       "      <td>Feminino</td>\n",
       "    </tr>\n",
       "    <tr>\n",
       "      <th>399</th>\n",
       "      <td>146.0</td>\n",
       "      <td>Minas Gerais</td>\n",
       "      <td>4607.31</td>\n",
       "      <td>Outro</td>\n",
       "    </tr>\n",
       "    <tr>\n",
       "      <th>398</th>\n",
       "      <td>140.0</td>\n",
       "      <td>Minas Gerais</td>\n",
       "      <td>5301.38</td>\n",
       "      <td>Outro</td>\n",
       "    </tr>\n",
       "    <tr>\n",
       "      <th>397</th>\n",
       "      <td>131.0</td>\n",
       "      <td>Minas Gerais</td>\n",
       "      <td>5651.39</td>\n",
       "      <td>Masculino</td>\n",
       "    </tr>\n",
       "    <tr>\n",
       "      <th>396</th>\n",
       "      <td>126.0</td>\n",
       "      <td>Minas Gerais</td>\n",
       "      <td>1215.07</td>\n",
       "      <td>Masculino</td>\n",
       "    </tr>\n",
       "    <tr>\n",
       "      <th>395</th>\n",
       "      <td>99.0</td>\n",
       "      <td>Minas Gerais</td>\n",
       "      <td>9881.47</td>\n",
       "      <td>Outro</td>\n",
       "    </tr>\n",
       "    <tr>\n",
       "      <th>394</th>\n",
       "      <td>85.0</td>\n",
       "      <td>Minas Gerais</td>\n",
       "      <td>1610.89</td>\n",
       "      <td>Masculino</td>\n",
       "    </tr>\n",
       "    <tr>\n",
       "      <th>417</th>\n",
       "      <td>544.0</td>\n",
       "      <td>Minas Gerais</td>\n",
       "      <td>1736.27</td>\n",
       "      <td>Outro</td>\n",
       "    </tr>\n",
       "  </tbody>\n",
       "</table>\n",
       "</div>"
      ],
      "text/plain": [
       "     id_cliente        estado    renda     genero\n",
       "392        36.0  Minas Gerais  8339.84   Feminino\n",
       "393        74.0  Minas Gerais  9336.11  Masculino\n",
       "416       512.0  Minas Gerais  4951.35   Feminino\n",
       "415       466.0  Minas Gerais  6572.81  Masculino\n",
       "414       407.0  Minas Gerais  5523.95      Outro\n",
       "413       391.0  Minas Gerais  8853.22      Outro\n",
       "412       389.0  Minas Gerais  6019.78  Masculino\n",
       "411       388.0  Minas Gerais  4849.90      Outro\n",
       "410       375.0  Minas Gerais  9081.23      Outro\n",
       "409       318.0  Minas Gerais  7150.53  Masculino\n",
       "408       303.0  Minas Gerais  4006.36   Feminino\n",
       "407       300.0  Minas Gerais  3799.22  Masculino\n",
       "406       285.0  Minas Gerais  7882.25      Outro\n",
       "405       267.0  Minas Gerais  5626.02  Masculino\n",
       "404       252.0  Minas Gerais  6154.57   Feminino\n",
       "403       245.0  Minas Gerais  3703.61   Feminino\n",
       "402       239.0  Minas Gerais  1481.12   Feminino\n",
       "401       186.0  Minas Gerais  7388.44      Outro\n",
       "400       161.0  Minas Gerais  1990.40   Feminino\n",
       "399       146.0  Minas Gerais  4607.31      Outro\n",
       "398       140.0  Minas Gerais  5301.38      Outro\n",
       "397       131.0  Minas Gerais  5651.39  Masculino\n",
       "396       126.0  Minas Gerais  1215.07  Masculino\n",
       "395        99.0  Minas Gerais  9881.47      Outro\n",
       "394        85.0  Minas Gerais  1610.89  Masculino\n",
       "417       544.0  Minas Gerais  1736.27      Outro"
      ]
     },
     "execution_count": 79,
     "metadata": {},
     "output_type": "execute_result"
    }
   ],
   "source": [
    "#cria um novo DataFrame somente como o pessoal de MG com colunas essenciais\n",
    "df_geral_mg = df_geral[['id_cliente','estado','renda','genero']].where(df_geral['estado']=='Minas Gerais').sort_values('estado', ascending=False).dropna()\n",
    "\n",
    "df_geral_mg\n",
    "\n",
    "# df_geral_mg.boxplot(column='renda', by='genero')\n"
   ]
  },
  {
   "cell_type": "code",
   "execution_count": 80,
   "metadata": {},
   "outputs": [
    {
     "data": {
      "text/html": [
       "<div>\n",
       "<style scoped>\n",
       "    .dataframe tbody tr th:only-of-type {\n",
       "        vertical-align: middle;\n",
       "    }\n",
       "\n",
       "    .dataframe tbody tr th {\n",
       "        vertical-align: top;\n",
       "    }\n",
       "\n",
       "    .dataframe thead th {\n",
       "        text-align: right;\n",
       "    }\n",
       "</style>\n",
       "<table border=\"1\" class=\"dataframe\">\n",
       "  <thead>\n",
       "    <tr style=\"text-align: right;\">\n",
       "      <th>genero</th>\n",
       "      <th>Feminino</th>\n",
       "      <th>Masculino</th>\n",
       "      <th>Outro</th>\n",
       "    </tr>\n",
       "    <tr>\n",
       "      <th>id_cliente</th>\n",
       "      <th></th>\n",
       "      <th></th>\n",
       "      <th></th>\n",
       "    </tr>\n",
       "  </thead>\n",
       "  <tbody>\n",
       "    <tr>\n",
       "      <th>36.0</th>\n",
       "      <td>8339.84</td>\n",
       "      <td>NaN</td>\n",
       "      <td>NaN</td>\n",
       "    </tr>\n",
       "    <tr>\n",
       "      <th>74.0</th>\n",
       "      <td>NaN</td>\n",
       "      <td>9336.11</td>\n",
       "      <td>NaN</td>\n",
       "    </tr>\n",
       "    <tr>\n",
       "      <th>85.0</th>\n",
       "      <td>NaN</td>\n",
       "      <td>1610.89</td>\n",
       "      <td>NaN</td>\n",
       "    </tr>\n",
       "    <tr>\n",
       "      <th>99.0</th>\n",
       "      <td>NaN</td>\n",
       "      <td>NaN</td>\n",
       "      <td>9881.47</td>\n",
       "    </tr>\n",
       "    <tr>\n",
       "      <th>126.0</th>\n",
       "      <td>NaN</td>\n",
       "      <td>1215.07</td>\n",
       "      <td>NaN</td>\n",
       "    </tr>\n",
       "  </tbody>\n",
       "</table>\n",
       "</div>"
      ],
      "text/plain": [
       "genero      Feminino  Masculino    Outro\n",
       "id_cliente                              \n",
       "36.0         8339.84        NaN      NaN\n",
       "74.0             NaN    9336.11      NaN\n",
       "85.0             NaN    1610.89      NaN\n",
       "99.0             NaN        NaN  9881.47\n",
       "126.0            NaN    1215.07      NaN"
      ]
     },
     "execution_count": 80,
     "metadata": {},
     "output_type": "execute_result"
    }
   ],
   "source": [
    "#criando um df pivot separando generos por coluna\n",
    "df = pd.pivot_table(df_geral_mg, values='renda',columns='genero', index='id_cliente')\n",
    "df.head(5)"
   ]
  },
  {
   "cell_type": "markdown",
   "metadata": {},
   "source": [
    "## Para que as plotagens se sobreponham é nescessário \n",
    "```\n",
    "%matplotlib inline\n",
    "```"
   ]
  },
  {
   "cell_type": "code",
   "execution_count": 81,
   "metadata": {},
   "outputs": [
    {
     "name": "stdout",
     "output_type": "stream",
     "text": [
      "genero     Feminino    Masculino        Outro\n",
      "count      7.000000     9.000000    10.000000\n",
      "mean    4375.321429  5220.202222  6510.542000\n",
      "std     2375.798911  2611.842139  2532.481301\n",
      "min     1481.120000  1215.070000  1736.270000\n",
      "25%     2847.005000  3799.220000  4962.770000\n",
      "50%     4006.360000  5651.390000  6456.195000\n",
      "75%     5552.960000  6572.810000  8610.477500\n",
      "max     8339.840000  9336.110000  9881.470000\n"
     ]
    },
    {
     "data": {
      "image/png": "[encoded data removed]",
      "text/plain": [
       "<Figure size 640x480 with 1 Axes>"
      ]
     },
     "metadata": {},
     "output_type": "display_data"
    }
   ],
   "source": [
    "%matplotlib inline\n",
    "\n",
    "df.boxplot(column=['Feminino', 'Masculino','Outro' ])\n",
    "\n",
    "print(df.describe())\n"
   ]
  },
  {
   "cell_type": "markdown",
   "metadata": {},
   "source": [
    "# Pergunta 6\n",
    "Crie um gráfico de caixa (boxplot) para representar as idades das pessoas que possuem níveis de educação superior, categorizadas por seu estado civil. Em seguida, escolha o gráfico que melhor representa essa distribuição."
   ]
  },
  {
   "cell_type": "code",
   "execution_count": 82,
   "metadata": {},
   "outputs": [
    {
     "data": {
      "text/html": [
       "<div>\n",
       "<style scoped>\n",
       "    .dataframe tbody tr th:only-of-type {\n",
       "        vertical-align: middle;\n",
       "    }\n",
       "\n",
       "    .dataframe tbody tr th {\n",
       "        vertical-align: top;\n",
       "    }\n",
       "\n",
       "    .dataframe thead th {\n",
       "        text-align: right;\n",
       "    }\n",
       "</style>\n",
       "<table border=\"1\" class=\"dataframe\">\n",
       "  <thead>\n",
       "    <tr style=\"text-align: right;\">\n",
       "      <th></th>\n",
       "      <th>id_cliente</th>\n",
       "      <th>id_estado</th>\n",
       "      <th>idade</th>\n",
       "      <th>genero</th>\n",
       "      <th>estado Civil</th>\n",
       "      <th>renda</th>\n",
       "      <th>nivel_educacao</th>\n",
       "      <th>peso</th>\n",
       "      <th>colesterol</th>\n",
       "      <th>estado</th>\n",
       "      <th>sigla_estado</th>\n",
       "      <th>pais</th>\n",
       "    </tr>\n",
       "  </thead>\n",
       "  <tbody>\n",
       "    <tr>\n",
       "      <th>0</th>\n",
       "      <td>1.0</td>\n",
       "      <td>21.0</td>\n",
       "      <td>24.0</td>\n",
       "      <td>Feminino</td>\n",
       "      <td>Divorciado</td>\n",
       "      <td>8672.21</td>\n",
       "      <td>Superior</td>\n",
       "      <td>102.0</td>\n",
       "      <td>111.0</td>\n",
       "      <td>Rio Grande do Sul</td>\n",
       "      <td>RS</td>\n",
       "      <td>Brasil</td>\n",
       "    </tr>\n",
       "    <tr>\n",
       "      <th>19</th>\n",
       "      <td>2.0</td>\n",
       "      <td>14.0</td>\n",
       "      <td>60.0</td>\n",
       "      <td>Feminino</td>\n",
       "      <td>Casado</td>\n",
       "      <td>2946.06</td>\n",
       "      <td>Superior</td>\n",
       "      <td>115.0</td>\n",
       "      <td>135.0</td>\n",
       "      <td>Pará</td>\n",
       "      <td>PA</td>\n",
       "      <td>Brasil</td>\n",
       "    </tr>\n",
       "    <tr>\n",
       "      <th>67</th>\n",
       "      <td>4.0</td>\n",
       "      <td>18.0</td>\n",
       "      <td>51.0</td>\n",
       "      <td>Masculino</td>\n",
       "      <td>Casado</td>\n",
       "      <td>7871.49</td>\n",
       "      <td>Superior</td>\n",
       "      <td>140.0</td>\n",
       "      <td>167.0</td>\n",
       "      <td>Piauí</td>\n",
       "      <td>PI</td>\n",
       "      <td>Brasil</td>\n",
       "    </tr>\n",
       "    <tr>\n",
       "      <th>84</th>\n",
       "      <td>5.0</td>\n",
       "      <td>4.0</td>\n",
       "      <td>51.0</td>\n",
       "      <td>Outro</td>\n",
       "      <td>Viúvo</td>\n",
       "      <td>6033.31</td>\n",
       "      <td>Superior</td>\n",
       "      <td>130.0</td>\n",
       "      <td>158.0</td>\n",
       "      <td>Amazonas</td>\n",
       "      <td>AM</td>\n",
       "      <td>Brasil</td>\n",
       "    </tr>\n",
       "    <tr>\n",
       "      <th>1</th>\n",
       "      <td>7.0</td>\n",
       "      <td>21.0</td>\n",
       "      <td>53.0</td>\n",
       "      <td>Outro</td>\n",
       "      <td>Viúvo</td>\n",
       "      <td>9074.09</td>\n",
       "      <td>Superior</td>\n",
       "      <td>114.0</td>\n",
       "      <td>131.0</td>\n",
       "      <td>Rio Grande do Sul</td>\n",
       "      <td>RS</td>\n",
       "      <td>Brasil</td>\n",
       "    </tr>\n",
       "    <tr>\n",
       "      <th>...</th>\n",
       "      <td>...</td>\n",
       "      <td>...</td>\n",
       "      <td>...</td>\n",
       "      <td>...</td>\n",
       "      <td>...</td>\n",
       "      <td>...</td>\n",
       "      <td>...</td>\n",
       "      <td>...</td>\n",
       "      <td>...</td>\n",
       "      <td>...</td>\n",
       "      <td>...</td>\n",
       "      <td>...</td>\n",
       "    </tr>\n",
       "    <tr>\n",
       "      <th>502</th>\n",
       "      <td>537.0</td>\n",
       "      <td>22.0</td>\n",
       "      <td>34.0</td>\n",
       "      <td>Outro</td>\n",
       "      <td>Solteiro</td>\n",
       "      <td>3921.33</td>\n",
       "      <td>Superior</td>\n",
       "      <td>127.0</td>\n",
       "      <td>150.0</td>\n",
       "      <td>Rondônia</td>\n",
       "      <td>RO</td>\n",
       "      <td>Brasil</td>\n",
       "    </tr>\n",
       "    <tr>\n",
       "      <th>504</th>\n",
       "      <td>539.0</td>\n",
       "      <td>22.0</td>\n",
       "      <td>60.0</td>\n",
       "      <td>Masculino</td>\n",
       "      <td>Divorciado</td>\n",
       "      <td>1292.13</td>\n",
       "      <td>Superior</td>\n",
       "      <td>114.0</td>\n",
       "      <td>133.0</td>\n",
       "      <td>Rondônia</td>\n",
       "      <td>RO</td>\n",
       "      <td>Brasil</td>\n",
       "    </tr>\n",
       "    <tr>\n",
       "      <th>294</th>\n",
       "      <td>545.0</td>\n",
       "      <td>1.0</td>\n",
       "      <td>48.0</td>\n",
       "      <td>Outro</td>\n",
       "      <td>Divorciado</td>\n",
       "      <td>6431.65</td>\n",
       "      <td>Superior</td>\n",
       "      <td>107.0</td>\n",
       "      <td>115.0</td>\n",
       "      <td>Acre</td>\n",
       "      <td>AC</td>\n",
       "      <td>Brasil</td>\n",
       "    </tr>\n",
       "    <tr>\n",
       "      <th>333</th>\n",
       "      <td>546.0</td>\n",
       "      <td>17.0</td>\n",
       "      <td>26.0</td>\n",
       "      <td>Masculino</td>\n",
       "      <td>Viúvo</td>\n",
       "      <td>9787.90</td>\n",
       "      <td>Superior</td>\n",
       "      <td>117.0</td>\n",
       "      <td>147.0</td>\n",
       "      <td>Pernambuco</td>\n",
       "      <td>PE</td>\n",
       "      <td>Brasil</td>\n",
       "    </tr>\n",
       "    <tr>\n",
       "      <th>546</th>\n",
       "      <td>547.0</td>\n",
       "      <td>16.0</td>\n",
       "      <td>42.0</td>\n",
       "      <td>Masculino</td>\n",
       "      <td>Divorciado</td>\n",
       "      <td>4872.36</td>\n",
       "      <td>Superior</td>\n",
       "      <td>148.0</td>\n",
       "      <td>176.0</td>\n",
       "      <td>Paraná</td>\n",
       "      <td>PR</td>\n",
       "      <td>Brasil</td>\n",
       "    </tr>\n",
       "  </tbody>\n",
       "</table>\n",
       "<p>205 rows × 12 columns</p>\n",
       "</div>"
      ],
      "text/plain": [
       "     id_cliente  id_estado  idade     genero estado Civil    renda  \\\n",
       "0           1.0       21.0   24.0   Feminino   Divorciado  8672.21   \n",
       "19          2.0       14.0   60.0   Feminino       Casado  2946.06   \n",
       "67          4.0       18.0   51.0  Masculino       Casado  7871.49   \n",
       "84          5.0        4.0   51.0      Outro        Viúvo  6033.31   \n",
       "1           7.0       21.0   53.0      Outro        Viúvo  9074.09   \n",
       "..          ...        ...    ...        ...          ...      ...   \n",
       "502       537.0       22.0   34.0      Outro     Solteiro  3921.33   \n",
       "504       539.0       22.0   60.0  Masculino   Divorciado  1292.13   \n",
       "294       545.0        1.0   48.0      Outro   Divorciado  6431.65   \n",
       "333       546.0       17.0   26.0  Masculino        Viúvo  9787.90   \n",
       "546       547.0       16.0   42.0  Masculino   Divorciado  4872.36   \n",
       "\n",
       "    nivel_educacao   peso  colesterol             estado sigla_estado    pais  \n",
       "0         Superior  102.0       111.0  Rio Grande do Sul           RS  Brasil  \n",
       "19        Superior  115.0       135.0               Pará           PA  Brasil  \n",
       "67        Superior  140.0       167.0              Piauí           PI  Brasil  \n",
       "84        Superior  130.0       158.0           Amazonas           AM  Brasil  \n",
       "1         Superior  114.0       131.0  Rio Grande do Sul           RS  Brasil  \n",
       "..             ...    ...         ...                ...          ...     ...  \n",
       "502       Superior  127.0       150.0           Rondônia           RO  Brasil  \n",
       "504       Superior  114.0       133.0           Rondônia           RO  Brasil  \n",
       "294       Superior  107.0       115.0               Acre           AC  Brasil  \n",
       "333       Superior  117.0       147.0         Pernambuco           PE  Brasil  \n",
       "546       Superior  148.0       176.0             Paraná           PR  Brasil  \n",
       "\n",
       "[205 rows x 12 columns]"
      ]
     },
     "execution_count": 82,
     "metadata": {},
     "output_type": "execute_result"
    }
   ],
   "source": [
    "#filtrando por nivel superior\n",
    "df_geral_nivel_superior = df_geral.where(df_geral['nivel_educacao'] == 'Superior').dropna()\n",
    "df_geral_nivel_superior\n",
    "# idade\n",
    "\n",
    "# cat 'estado Civil'"
   ]
  },
  {
   "cell_type": "code",
   "execution_count": 83,
   "metadata": {},
   "outputs": [
    {
     "name": "stdout",
     "output_type": "stream",
     "text": [
      "estado Civil  Casado  Divorciado  Solteiro  Viúvo\n",
      "id_cliente                                       \n",
      "1.0              NaN        24.0       NaN    NaN\n",
      "2.0             60.0         NaN       NaN    NaN\n",
      "4.0             51.0         NaN       NaN    NaN\n",
      "5.0              NaN         NaN       NaN   51.0\n",
      "7.0              NaN         NaN       NaN   53.0\n"
     ]
    },
    {
     "data": {
      "text/html": [
       "<div>\n",
       "<style scoped>\n",
       "    .dataframe tbody tr th:only-of-type {\n",
       "        vertical-align: middle;\n",
       "    }\n",
       "\n",
       "    .dataframe tbody tr th {\n",
       "        vertical-align: top;\n",
       "    }\n",
       "\n",
       "    .dataframe thead th {\n",
       "        text-align: right;\n",
       "    }\n",
       "</style>\n",
       "<table border=\"1\" class=\"dataframe\">\n",
       "  <thead>\n",
       "    <tr style=\"text-align: right;\">\n",
       "      <th>estado Civil</th>\n",
       "      <th>Casado</th>\n",
       "      <th>Divorciado</th>\n",
       "      <th>Solteiro</th>\n",
       "      <th>Viúvo</th>\n",
       "    </tr>\n",
       "  </thead>\n",
       "  <tbody>\n",
       "    <tr>\n",
       "      <th>count</th>\n",
       "      <td>47.000000</td>\n",
       "      <td>54.000000</td>\n",
       "      <td>49.000000</td>\n",
       "      <td>55.000000</td>\n",
       "    </tr>\n",
       "    <tr>\n",
       "      <th>mean</th>\n",
       "      <td>41.425532</td>\n",
       "      <td>43.481481</td>\n",
       "      <td>43.612245</td>\n",
       "      <td>42.018182</td>\n",
       "    </tr>\n",
       "    <tr>\n",
       "      <th>std</th>\n",
       "      <td>15.241169</td>\n",
       "      <td>13.452559</td>\n",
       "      <td>14.858803</td>\n",
       "      <td>14.038955</td>\n",
       "    </tr>\n",
       "    <tr>\n",
       "      <th>min</th>\n",
       "      <td>18.000000</td>\n",
       "      <td>18.000000</td>\n",
       "      <td>18.000000</td>\n",
       "      <td>19.000000</td>\n",
       "    </tr>\n",
       "    <tr>\n",
       "      <th>25%</th>\n",
       "      <td>26.500000</td>\n",
       "      <td>36.000000</td>\n",
       "      <td>32.000000</td>\n",
       "      <td>30.500000</td>\n",
       "    </tr>\n",
       "    <tr>\n",
       "      <th>50%</th>\n",
       "      <td>40.000000</td>\n",
       "      <td>46.000000</td>\n",
       "      <td>45.000000</td>\n",
       "      <td>41.000000</td>\n",
       "    </tr>\n",
       "    <tr>\n",
       "      <th>75%</th>\n",
       "      <td>53.500000</td>\n",
       "      <td>54.250000</td>\n",
       "      <td>56.000000</td>\n",
       "      <td>53.500000</td>\n",
       "    </tr>\n",
       "    <tr>\n",
       "      <th>max</th>\n",
       "      <td>65.000000</td>\n",
       "      <td>65.000000</td>\n",
       "      <td>65.000000</td>\n",
       "      <td>65.000000</td>\n",
       "    </tr>\n",
       "  </tbody>\n",
       "</table>\n",
       "</div>"
      ],
      "text/plain": [
       "estado Civil     Casado  Divorciado   Solteiro      Viúvo\n",
       "count         47.000000   54.000000  49.000000  55.000000\n",
       "mean          41.425532   43.481481  43.612245  42.018182\n",
       "std           15.241169   13.452559  14.858803  14.038955\n",
       "min           18.000000   18.000000  18.000000  19.000000\n",
       "25%           26.500000   36.000000  32.000000  30.500000\n",
       "50%           40.000000   46.000000  45.000000  41.000000\n",
       "75%           53.500000   54.250000  56.000000  53.500000\n",
       "max           65.000000   65.000000  65.000000  65.000000"
      ]
     },
     "execution_count": 83,
     "metadata": {},
     "output_type": "execute_result"
    }
   ],
   "source": [
    "#criando novo df com colunas de genero\n",
    "df = pd.pivot_table(df_geral_nivel_superior, values='idade',columns='estado Civil', index='id_cliente')\n",
    "print(df.head(5))\n",
    "df.describe()"
   ]
  },
  {
   "cell_type": "code",
   "execution_count": 84,
   "metadata": {},
   "outputs": [
    {
     "data": {
      "text/plain": [
       "<Axes: >"
      ]
     },
     "execution_count": 84,
     "metadata": {},
     "output_type": "execute_result"
    },
    {
     "data": {
      "image/png": "[encoded data removed]",
      "text/plain": [
       "<Figure size 640x480 with 1 Axes>"
      ]
     },
     "metadata": {},
     "output_type": "display_data"
    }
   ],
   "source": [
    "\n",
    "#box plot dos dados\n",
    "df.boxplot(column=[ 'Divorciado' ,'Viúvo','Solteiro', 'Casado' ])"
   ]
  },
  {
   "cell_type": "markdown",
   "metadata": {},
   "source": [
    "# Pergunta 7\n",
    "\n",
    "Calcule estatísticas descritivas para a variável \"colesterol\" agrupadas por nível de educação. Em seguida, com base nas estatísticas calculadas, escolha a alternativa CORRETA."
   ]
  },
  {
   "cell_type": "code",
   "execution_count": 85,
   "metadata": {},
   "outputs": [
    {
     "name": "stdout",
     "output_type": "stream",
     "text": [
      "--Medias--\n",
      "                colesterol\n",
      "nivel_educacao            \n",
      "Fundamental     173.418994\n",
      "Médio           167.245399\n",
      "Superior        170.360976\n",
      "--Medianas--\n",
      "                colesterol\n",
      "nivel_educacao            \n",
      "Fundamental          172.0\n",
      "Médio                167.0\n",
      "Superior             169.0\n"
     ]
    }
   ],
   "source": [
    "#verdade - 01 - A média do colesterol é mais elevada no grupo com nível de educação fundamental em comparação com os outros grupos.\n",
    "print('--Medias--')\n",
    "print(df_geral[['nivel_educacao','colesterol']].groupby('nivel_educacao').mean())\n",
    "#Falsa - 04 - A mediana do colesterol é a mesma em todos os grupos de nível de educação.\n",
    "print('--Medianas--')\n",
    "print(df_geral[['nivel_educacao','colesterol']].groupby('nivel_educacao').median())\n"
   ]
  },
  {
   "cell_type": "markdown",
   "metadata": {},
   "source": [
    "# Pergunta 8\n",
    "\n",
    "Crie um histograma com 20 barras representando o peso das pessoas. Em seguida, com base no histograma gerado, escolha a alternativa que melhor descreve a distribuição dos pesos."
   ]
  },
  {
   "cell_type": "code",
   "execution_count": 86,
   "metadata": {},
   "outputs": [
    {
     "data": {
      "text/plain": [
       "<Axes: >"
      ]
     },
     "execution_count": 86,
     "metadata": {},
     "output_type": "execute_result"
    },
    {
     "data": {
      "image/png": "[encoded data removed]",
      "text/plain": [
       "<Figure size 640x480 with 1 Axes>"
      ]
     },
     "metadata": {},
     "output_type": "display_data"
    }
   ],
   "source": [
    "df_geral['peso'].hist(bins=20)"
   ]
  },
  {
   "cell_type": "markdown",
   "metadata": {},
   "source": [
    "# Pergunta 9\n",
    "\n",
    "Qual é o estado cujo residente possui a maior renda, e qual é o estado civil dessa pessoa?"
   ]
  },
  {
   "cell_type": "code",
   "execution_count": 87,
   "metadata": {},
   "outputs": [
    {
     "data": {
      "text/html": [
       "<div>\n",
       "<style scoped>\n",
       "    .dataframe tbody tr th:only-of-type {\n",
       "        vertical-align: middle;\n",
       "    }\n",
       "\n",
       "    .dataframe tbody tr th {\n",
       "        vertical-align: top;\n",
       "    }\n",
       "\n",
       "    .dataframe thead th {\n",
       "        text-align: right;\n",
       "    }\n",
       "</style>\n",
       "<table border=\"1\" class=\"dataframe\">\n",
       "  <thead>\n",
       "    <tr style=\"text-align: right;\">\n",
       "      <th></th>\n",
       "      <th>id_cliente</th>\n",
       "      <th>id_estado</th>\n",
       "      <th>idade</th>\n",
       "      <th>genero</th>\n",
       "      <th>estado Civil</th>\n",
       "      <th>renda</th>\n",
       "      <th>nivel_educacao</th>\n",
       "      <th>peso</th>\n",
       "      <th>colesterol</th>\n",
       "      <th>estado</th>\n",
       "      <th>sigla_estado</th>\n",
       "      <th>pais</th>\n",
       "    </tr>\n",
       "  </thead>\n",
       "  <tbody>\n",
       "    <tr>\n",
       "      <th>136</th>\n",
       "      <td>217</td>\n",
       "      <td>12</td>\n",
       "      <td>31</td>\n",
       "      <td>Outro</td>\n",
       "      <td>Casado</td>\n",
       "      <td>9989.72</td>\n",
       "      <td>Superior</td>\n",
       "      <td>203.0</td>\n",
       "      <td>235</td>\n",
       "      <td>Mato Grosso do Sul</td>\n",
       "      <td>MS</td>\n",
       "      <td>Brasil</td>\n",
       "    </tr>\n",
       "  </tbody>\n",
       "</table>\n",
       "</div>"
      ],
      "text/plain": [
       "     id_cliente  id_estado  idade genero estado Civil    renda nivel_educacao  \\\n",
       "136         217         12     31  Outro       Casado  9989.72       Superior   \n",
       "\n",
       "      peso  colesterol              estado sigla_estado    pais  \n",
       "136  203.0         235  Mato Grosso do Sul           MS  Brasil  "
      ]
     },
     "execution_count": 87,
     "metadata": {},
     "output_type": "execute_result"
    }
   ],
   "source": [
    "df_geral.sort_values('renda',ascending=False).head(1)"
   ]
  },
  {
   "cell_type": "markdown",
   "metadata": {},
   "source": [
    "# Pergunta 10\n",
    "\n",
    "Crie um gráfico de dispersão que represente as relações entre as variáveis peso (eixo x) e colesterol (eixo y) e selecione o gráfico que melhor ilustra essa relação."
   ]
  },
  {
   "cell_type": "code",
   "execution_count": 88,
   "metadata": {},
   "outputs": [
    {
     "data": {
      "text/plain": [
       "<Axes: xlabel='peso', ylabel='colesterol'>"
      ]
     },
     "execution_count": 88,
     "metadata": {},
     "output_type": "execute_result"
    },
    {
     "data": {
      "image/png": "[encoded data removed]",
      "text/plain": [
       "<Figure size 640x480 with 1 Axes>"
      ]
     },
     "metadata": {},
     "output_type": "display_data"
    }
   ],
   "source": [
    "df_geral.plot.scatter(x='peso', y='colesterol')"
   ]
  },
  {
   "cell_type": "code",
   "execution_count": 89,
   "metadata": {},
   "outputs": [
    {
     "data": {
      "text/html": [
       "<div>\n",
       "<style scoped>\n",
       "    .dataframe tbody tr th:only-of-type {\n",
       "        vertical-align: middle;\n",
       "    }\n",
       "\n",
       "    .dataframe tbody tr th {\n",
       "        vertical-align: top;\n",
       "    }\n",
       "\n",
       "    .dataframe thead th {\n",
       "        text-align: right;\n",
       "    }\n",
       "</style>\n",
       "<table border=\"1\" class=\"dataframe\">\n",
       "  <thead>\n",
       "    <tr style=\"text-align: right;\">\n",
       "      <th></th>\n",
       "      <th>idade</th>\n",
       "      <th>renda</th>\n",
       "      <th>peso</th>\n",
       "      <th>colesterol</th>\n",
       "    </tr>\n",
       "  </thead>\n",
       "  <tbody>\n",
       "    <tr>\n",
       "      <th>idade</th>\n",
       "      <td>1.000000</td>\n",
       "      <td>0.031815</td>\n",
       "      <td>0.012782</td>\n",
       "      <td>-0.010509</td>\n",
       "    </tr>\n",
       "    <tr>\n",
       "      <th>renda</th>\n",
       "      <td>0.031815</td>\n",
       "      <td>1.000000</td>\n",
       "      <td>-0.026004</td>\n",
       "      <td>-0.026170</td>\n",
       "    </tr>\n",
       "    <tr>\n",
       "      <th>peso</th>\n",
       "      <td>0.012782</td>\n",
       "      <td>-0.026004</td>\n",
       "      <td>1.000000</td>\n",
       "      <td>0.985007</td>\n",
       "    </tr>\n",
       "    <tr>\n",
       "      <th>colesterol</th>\n",
       "      <td>-0.010509</td>\n",
       "      <td>-0.026170</td>\n",
       "      <td>0.985007</td>\n",
       "      <td>1.000000</td>\n",
       "    </tr>\n",
       "  </tbody>\n",
       "</table>\n",
       "</div>"
      ],
      "text/plain": [
       "               idade     renda      peso  colesterol\n",
       "idade       1.000000  0.031815  0.012782   -0.010509\n",
       "renda       0.031815  1.000000 -0.026004   -0.026170\n",
       "peso        0.012782 -0.026004  1.000000    0.985007\n",
       "colesterol -0.010509 -0.026170  0.985007    1.000000"
      ]
     },
     "execution_count": 89,
     "metadata": {},
     "output_type": "execute_result"
    }
   ],
   "source": [
    "#mostras quais variaveis numericas possue correlacao entre si\n",
    "df_geral[['idade', 'renda', 'peso', 'colesterol']].corr(method='pearson')"
   ]
  },
  {
   "cell_type": "markdown",
   "metadata": {},
   "source": [
    "# Pergunta 11\n",
    "\n",
    "Ao aplicar um modelo de regressão linear usando machine learning, responda à seguinte pergunta: Qual é o valor estimado de colesterol para uma pessoa que possui um peso de 128 quilos, com base no modelo?\n",
    "\n",
    "Separe o conjunto de dados em treinamento e teste e avalie os\n",
    "resultados baseado nos dados de teste e predição.\n",
    "\n",
    "a. Utilize\n",
    "osseguintes\n",
    "parâmetros:test_size=0.2,\n",
    "random_state=0"
   ]
  },
  {
   "cell_type": "code",
   "execution_count": 90,
   "metadata": {},
   "outputs": [
    {
     "name": "stdout",
     "output_type": "stream",
     "text": [
      "n. treino: 437, n. teste: 110\n",
      "<class 'numpy.ndarray'>\n",
      "<class 'numpy.ndarray'>\n"
     ]
    }
   ],
   "source": [
    "import matplotlib.pyplot as plt\n",
    "import numpy as np\n",
    "from sklearn import linear_model\n",
    "from sklearn.metrics import mean_squared_error, r2_score,mean_absolute_error\n",
    "\n",
    "#definindo o tamanho do DF de treinio e de teste\n",
    "n_linhas_treino = int(df_geral['peso'].size*.8)\n",
    "n_linhas_teste = df_geral['peso'].size - n_linhas_treino\n",
    "print(f'n. treino: {n_linhas_treino}, n. teste: {n_linhas_teste}')\n",
    "#convertendo os DF em arrays\n",
    "x = df_geral['peso'].values.reshape(-1,1)\n",
    "y = df_geral['colesterol'].values.reshape(-1,1)\n",
    "print(type(x))\n",
    "print(type(y))\n",
    "#definindo DFs\n",
    "x_treino , x_teste = x[:n_linhas_treino], x[n_linhas_treino:]\n",
    "y_treino , y_teste = y[:n_linhas_treino], y[n_linhas_treino:]\n"
   ]
  },
  {
   "cell_type": "code",
   "execution_count": 91,
   "metadata": {},
   "outputs": [
    {
     "name": "stdout",
     "output_type": "stream",
     "text": [
      "O coeficiente é : 1.257 e o interceptador seria: -9.800\n",
      "A equação é: 1.257*x +-9.800\n",
      "Erro quadratico medido: 36.01\n",
      "Score de Variancia : 0.98\n"
     ]
    }
   ],
   "source": [
    "#inicializando objd e regracao Linear\n",
    "rl = linear_model.LinearRegression()\n",
    "\n",
    "#treinando modelo\n",
    "rl.fit(x_treino,y_treino)\n",
    "print(f'O coeficiente é : {rl.coef_.item() :.3f} e o interceptador seria: {rl.intercept_.item() :.3f}')\n",
    "print(f'A equação é: {rl.coef_.item() :.3f}*x +{rl.intercept_.item() :.3f}')\n",
    "#fazendo predicao \n",
    "y_previsto = rl.predict(x_teste)\n",
    "#erro quadratico \n",
    "erro_quadra = mean_squared_error(y_teste,y_previsto)\n",
    "print(f'Erro quadratico medido: { erro_quadra.round(2)}')\n",
    "print(f'Score de Variancia : {r2_score(y_teste, y_previsto).round(2)}')\n",
    "\n",
    "\n"
   ]
  },
  {
   "cell_type": "markdown",
   "metadata": {},
   "source": [
    "# Pergunta 11\n",
    "\n",
    "Ao aplicar um modelo de regressão linear usando machine learning, responda à seguinte pergunta: Qual é o valor estimado de colesterol para uma pessoa que possui um peso de 128 quilos, com base no modelo?"
   ]
  },
  {
   "cell_type": "code",
   "execution_count": 92,
   "metadata": {},
   "outputs": [
    {
     "name": "stdout",
     "output_type": "stream",
     "text": [
      "Colesterol estimado para uma pessoa de 128Kgs é : 151.06\n"
     ]
    }
   ],
   "source": [
    "print(f'Colesterol estimado para uma pessoa de 128Kgs é : {rl.predict([[128]]).item() :.2f}')"
   ]
  },
  {
   "cell_type": "markdown",
   "metadata": {},
   "source": [
    "# Pergunta 12\n",
    "\n",
    "Qual é o valor do coeficiente angular da reta?"
   ]
  },
  {
   "cell_type": "code",
   "execution_count": 93,
   "metadata": {},
   "outputs": [
    {
     "name": "stdout",
     "output_type": "stream",
     "text": [
      "O coeficiente é : 1.26 \n"
     ]
    }
   ],
   "source": [
    "print(f'O coeficiente é : {rl.coef_.item() :.2f} ')\n"
   ]
  },
  {
   "cell_type": "markdown",
   "metadata": {},
   "source": [
    "# Pergunta 13\n",
    "\n",
    "Qual foi o coeficiente de determinação R² do modelo?"
   ]
  },
  {
   "cell_type": "code",
   "execution_count": 97,
   "metadata": {},
   "outputs": [
    {
     "name": "stdout",
     "output_type": "stream",
     "text": [
      "Score de Variancia (R²) : 0.98\n"
     ]
    }
   ],
   "source": [
    "print(f'Score de Variancia (R²) : {r2_score(y_teste, y_previsto).round(2)}')\n"
   ]
  },
  {
   "cell_type": "markdown",
   "metadata": {},
   "source": [
    "# Pergunta 14\n",
    "\n",
    "Qual o valor do mean absolute error do modelo criado?"
   ]
  },
  {
   "cell_type": "code",
   "execution_count": 95,
   "metadata": {},
   "outputs": [
    {
     "name": "stdout",
     "output_type": "stream",
     "text": [
      "Erro quadratico absoluto: 4.9\n"
     ]
    }
   ],
   "source": [
    "erro_quadra_absol = mean_absolute_error(y_teste,y_previsto)\n",
    "print(f'Erro quadratico absoluto: { erro_quadra_absol.round(2)}')\n"
   ]
  },
  {
   "cell_type": "markdown",
   "metadata": {},
   "source": [
    "# Pergunta 15\n",
    "\n",
    "Qual o valor do mean squared error do modelo criado?"
   ]
  },
  {
   "cell_type": "code",
   "execution_count": 96,
   "metadata": {},
   "outputs": [
    {
     "name": "stdout",
     "output_type": "stream",
     "text": [
      "Erro quadratico medido: 36.01\n"
     ]
    }
   ],
   "source": [
    "erro_quadra = mean_squared_error(y_teste,y_previsto)\n",
    "print(f'Erro quadratico medido: { erro_quadra.round(2)}')"
   ]
  }
 ],
 "metadata": {
  "kernelspec": {
   "display_name": "Python 3",
   "language": "python",
   "name": "python3"
  },
  "language_info": {
   "codemirror_mode": {
    "name": "ipython",
    "version": 3
   },
   "file_extension": ".py",
   "mimetype": "text/x-python",
   "name": "python",
   "nbconvert_exporter": "python",
   "pygments_lexer": "ipython3",
   "version": "3.12.0"
  }
 },
 "nbformat": 4,
 "nbformat_minor": 2
}
